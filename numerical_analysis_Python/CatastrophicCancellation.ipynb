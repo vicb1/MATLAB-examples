{
 "cells": [
  {
   "cell_type": "markdown",
   "metadata": {},
   "source": [
    "## Catastrophic cancellation"
   ]
  },
  {
   "cell_type": "code",
   "execution_count": 1,
   "metadata": {
    "collapsed": false
   },
   "outputs": [
    {
     "name": "stdout",
     "output_type": "stream",
     "text": [
      "Populating the interactive namespace from numpy and matplotlib\n"
     ]
    }
   ],
   "source": [
    "%pylab inline"
   ]
  },
  {
   "cell_type": "markdown",
   "metadata": {},
   "source": [
    "We start with a very simple computation: Adding 1 to a number and then subtracting 1.  Mathematically this should give us back what we started with, but maybe not in computer arithmetic.\n",
    "\n",
    "Define $f(x) = x + 1 - 1$.  Mathematically this reduces to $f(x) = x$ so the condition number is 1.  Computationally if we implement this by first adding $x+1$ and storing it as a new variable and then subtracting 1 to get the result, we may lose many digits of accuracy if $x$ is very small. \n",
    "\n",
    "Try this with a small value:"
   ]
  },
  {
   "cell_type": "code",
   "execution_count": 2,
   "metadata": {
    "collapsed": false
   },
   "outputs": [
    {
     "name": "stdout",
     "output_type": "stream",
     "text": [
      "3.141592653589793e-12\n"
     ]
    }
   ],
   "source": [
    "x = pi * 1e-12\n",
    "print '%16.15e' % x"
   ]
  },
  {
   "cell_type": "markdown",
   "metadata": {},
   "source": [
    "This has about 16 correct digits.\n",
    "\n",
    "Now print out `x` as a fixed point number and compare to `y = x + 1.`:"
   ]
  },
  {
   "cell_type": "code",
   "execution_count": 3,
   "metadata": {
    "collapsed": false
   },
   "outputs": [
    {
     "name": "stdout",
     "output_type": "stream",
     "text": [
      "0.0000000000031415926535897931\n",
      "1.0000000000031414870704793429\n"
     ]
    }
   ],
   "source": [
    "print '%30.28f' % x\n",
    "y = x + 1.\n",
    "print '%30.28f' % y"
   ]
  },
  {
   "cell_type": "markdown",
   "metadata": {},
   "source": [
    "Note that only the first 16 digits of `y` are correct (including the leading 1!)\n",
    "\n",
    "So now if we subtract 1, we are left with garbage after the first 4 digits:"
   ]
  },
  {
   "cell_type": "code",
   "execution_count": 4,
   "metadata": {
    "collapsed": false
   },
   "outputs": [
    {
     "name": "stdout",
     "output_type": "stream",
     "text": [
      "Computed f = 3.141487070479343e-12\n",
      "Original x = 3.141592653589793e-12\n"
     ]
    }
   ],
   "source": [
    "f = y - 1.\n",
    "print 'Computed f = %16.15e' % f\n",
    "print 'Original x = %16.15e' % x"
   ]
  },
  {
   "cell_type": "code",
   "execution_count": 5,
   "metadata": {
    "collapsed": false
   },
   "outputs": [
    {
     "name": "stdout",
     "output_type": "stream",
     "text": [
      "The relative error is 3.361e-05\n"
     ]
    }
   ],
   "source": [
    "print 'The relative error is %6.3e' % (abs(f-x)/abs(x))"
   ]
  },
  {
   "cell_type": "markdown",
   "metadata": {},
   "source": [
    "## Error in evaluating the quadratic formula\n",
    "\n",
    "The example above may seem silly, but exactly this sort of computation can easily arise even in simple practical examples.  As an example of catastrophic cancellation, consider solving for the two roots of a quadratic equation $ax^2 + bx + c = 0$ using the quadratic formula, which gives\n",
    "$$\n",
    "r_1 = \\frac{-b - \\sqrt{b^2 - 4ac}}{2a}, \\qquad\n",
    "r_2 = \\frac{-b + \\sqrt{b^2 - 4ac}}{2a}.\n",
    "$$\n",
    "Often this works fine, but consider the polynomial $x^2 + 2x + \\epsilon$.  The root $r_2$ is very close to zero but the above formula computes it as \n",
    "$$\n",
    "r_2 = -1 + \\sqrt{1 - \\epsilon}.\n",
    "$$\n",
    "We expect problems since Taylor series expansion of the square root shows that for small $\\epsilon$ this is approximately\n",
    "$$\n",
    "r_2 = -1 + \\left(1 - \\frac 1 2 \\epsilon + \\frac 1 4 \\epsilon^2 - \\frac 3 8 \\epsilon^3 + \\cdots\\right)\n",
    "$$\n",
    "The term in parentheses is very close to 1, and subtracting 1 from this gives $r_2$ very close to zero but we expect to lose many digits of accuracy in the process.\n",
    "\n",
    "Note that we can get a very good approximation by instead cancelling the 1's before doing any computing and then truncating the series after a few terms, \n",
    "$$\n",
    "r_2 \\approx -\\frac 1 2 \\epsilon + \\frac 1 4 \\epsilon^2 - \\frac 3 8 \\epsilon^3\n",
    "$$\n",
    "We'll use this as the \"exact solution\" below to see how badly the evaluating the quadratic formula directly might do..."
   ]
  },
  {
   "cell_type": "code",
   "execution_count": 6,
   "metadata": {
    "collapsed": true
   },
   "outputs": [],
   "source": [
    "def quadratic_roots(a,b,c):\n",
    "    \"\"\" \n",
    "    Find roots of ax^2 + bx + c by \n",
    "    standard quadratic formula.\n",
    "    \"\"\"\n",
    "    d = sqrt(b**2 - 4.*a*c)\n",
    "    r1 = (-b - d)/(2*a)\n",
    "    r2 = (-b + d)/(2*a)\n",
    "    return r1, r2"
   ]
  },
  {
   "cell_type": "markdown",
   "metadata": {},
   "source": [
    "First find \"exact solution\" for a small value of $\\epsilon$:"
   ]
  },
  {
   "cell_type": "code",
   "execution_count": 7,
   "metadata": {
    "collapsed": false
   },
   "outputs": [
    {
     "name": "stdout",
     "output_type": "stream",
     "text": [
      "r1 obtained by expansion = -1.9999999999995000e+00\n",
      "r2 obtained by expansion = -4.9999999999974998e-13\n"
     ]
    }
   ],
   "source": [
    "epsilon = 1e-12\n",
    "r1_expansion = -2. + 0.5*epsilon - 0.25*epsilon**2 + 3./8. * epsilon**3\n",
    "r2_expansion = -0.5*epsilon + 0.25*epsilon**2 - 3./8. * epsilon**3\n",
    "print 'r1 obtained by expansion = %20.16e' % r1_expansion\n",
    "print 'r2 obtained by expansion = %20.16e' % r2_expansion"
   ]
  },
  {
   "cell_type": "markdown",
   "metadata": {},
   "source": [
    "Now test the quadratic formula:"
   ]
  },
  {
   "cell_type": "code",
   "execution_count": 8,
   "metadata": {
    "collapsed": false
   },
   "outputs": [
    {
     "name": "stdout",
     "output_type": "stream",
     "text": [
      "r1 obtained by quadratic formula = -1.9999999999995000e+00,  relative error = 0\n",
      "r2 obtained by quadratic formula = -5.0004445029117051e-13,  relative error = 8.89006e-05\n"
     ]
    }
   ],
   "source": [
    "r1,r2 = quadratic_roots(1., 2., epsilon)\n",
    "r1_err = abs((r1-r1_expansion)/r1_expansion)\n",
    "r2_err = abs((r2-r2_expansion)/r2_expansion)\n",
    "print 'r1 obtained by quadratic formula = %20.16e,  relative error = %g' % (r1, r1_err)\n",
    "print 'r2 obtained by quadratic formula = %20.16e,  relative error = %g' % (r2, r2_err)"
   ]
  },
  {
   "cell_type": "markdown",
   "metadata": {},
   "source": [
    "The first root $r_1 \\approx -2$ is calculated very accurately, but the small root has a large relative error due to cancellation.\n",
    "\n",
    "### A more stable algorithm:\n",
    "\n",
    "We can factor $ax^2 + bx + c = a(x-r_1)(x-r_2) = a(x^2 - (r_1+r_2)x + r_1r_2)$ which shows that $c = ar_1r_2$. So we can calculate $r_1$ accurately by the quadratic formula and then compute $r_2$ accurately by $r_2 = c / (ar_1) = \\epsilon/r_1$.   In our case this yields:"
   ]
  },
  {
   "cell_type": "code",
   "execution_count": 9,
   "metadata": {
    "collapsed": false
   },
   "outputs": [
    {
     "name": "stdout",
     "output_type": "stream",
     "text": [
      "r2 obtained from epsilon/r1 = -5.0000000000012500e-13,  relative error = 7.50036e-13\n"
     ]
    }
   ],
   "source": [
    "r2_from_r1 = epsilon / r1\n",
    "r2_err = abs((r2_from_r1-r2_expansion)/r2_expansion)\n",
    "print 'r2 obtained from epsilon/r1 = %20.16e,  relative error = %g' % (r2_from_r1, r2_err)"
   ]
  },
  {
   "cell_type": "markdown",
   "metadata": {},
   "source": [
    "## Taylor series approximation of the exponential function\n",
    "\n",
    "The Taylor series expansion of the exponential function $\\exp(x) = e^x$ has partial sums\n",
    "$$\n",
    "S_n = \\sum_{j=0}^n ~ \\frac{x^j}{j!}\n",
    "$$\n",
    "Mathematically, this series converges for any complex number $x$, i.e. $S_n \\rightarrow \\exp(x)$ as $n \\rightarrow \\infty$.  (The number of terms needed to get a particular accuracy will of course grow for $|x|$ large.)\n",
    "\n",
    "#### Code to compute this partial sum $S_n$:\n",
    "\n",
    "Note that if $T_{j-1} = \\frac{x^{j-1}}{(j-1)!}$ is term $j-1$ then the next term can be written as $T_j = \\frac{x}{j} T_{j-1}$.  This is used in the code."
   ]
  },
  {
   "cell_type": "code",
   "execution_count": 10,
   "metadata": {
    "collapsed": false
   },
   "outputs": [],
   "source": [
    "def taylor_exp(x, nterms, verbose=False):\n",
    "    term = 1.\n",
    "    partial_sum = term\n",
    "    for j in range(1,nterms):\n",
    "        term = term * x / j\n",
    "        partial_sum = partial_sum + term\n",
    "        if verbose:\n",
    "            print 'x^%2i/%2i! = %25.16f, partial sum = %25.16f' \\\n",
    "                % (j,j,term,partial_sum)\n",
    "    expx = exp(x)\n",
    "    if verbose:\n",
    "        print '                                Compare to exp(x) = %25.16f' % expx \n",
    "    return partial_sum"
   ]
  },
  {
   "cell_type": "markdown",
   "metadata": {},
   "source": [
    "Experimenting with $x=15$ shows that $n=80$ is sufficient to get 16 digits of accuracy:"
   ]
  },
  {
   "cell_type": "code",
   "execution_count": 11,
   "metadata": {
    "collapsed": false
   },
   "outputs": [
    {
     "name": "stdout",
     "output_type": "stream",
     "text": [
      "Computed value:  3269017.3724721116013825\n",
      "Correct value:   3269017.3724721106700599\n",
      "Relative error = 2.84894e-16\n"
     ]
    }
   ],
   "source": [
    "x = 15\n",
    "f = taylor_exp(x,80)\n",
    "expx = exp(x)\n",
    "print \"Computed value: %25.16f\" % f\n",
    "print \"Correct value:  %25.16f\" % expx\n",
    "\n",
    "relative_error = abs(f-expx)/expx\n",
    "print \"Relative error = %g\" % relative_error"
   ]
  },
  {
   "cell_type": "markdown",
   "metadata": {},
   "source": [
    "But experimenting with $x=-15$ shows that no matter how large you take $n$ you can't get more than about 5 digits correct:"
   ]
  },
  {
   "cell_type": "code",
   "execution_count": 12,
   "metadata": {
    "collapsed": false
   },
   "outputs": [
    {
     "name": "stdout",
     "output_type": "stream",
     "text": [
      "Computed value:        0.0000003059094197\n",
      "Correct value:         0.0000003059023205\n",
      "Relative error = 2.32075e-05\n"
     ]
    }
   ],
   "source": [
    "x = -15\n",
    "f = taylor_exp(x,80)\n",
    "expx = exp(x)\n",
    "print \"Computed value: %25.16f\" % f\n",
    "print \"Correct value:  %25.16f\" % expx\n",
    "\n",
    "relative_error = abs(f-expx)/expx\n",
    "print \"Relative error = %g\" % relative_error"
   ]
  },
  {
   "cell_type": "markdown",
   "metadata": {},
   "source": [
    "To understand why, print out the terms and partial sum at each interation.  Note that the terms grow to be quite large.  Since each term in the series is the previous term multiplied by $x/j$, they continue to grow in magnitude up to $j = 15$. \n",
    "\n",
    "Since $x<0$, the terms alternate in sign.  The sum of all terms should be $\\exp(-15) \\approx 3\\times 10^{-7}$, so these large terms must all nearly cancel out in the end.\n",
    "\n",
    "But the large partial sums only have 16 digits of precision, most of which should cancel out.  There is not enough precision to capture what should be left over accurately.\n",
    "\n",
    "This is a practical example of **catastrophic cancellation.**"
   ]
  },
  {
   "cell_type": "code",
   "execution_count": 13,
   "metadata": {
    "collapsed": false
   },
   "outputs": [
    {
     "name": "stdout",
     "output_type": "stream",
     "text": [
      "x^ 1/ 1! =      -15.0000000000000000, partial sum =      -14.0000000000000000\n",
      "x^ 2/ 2! =      112.5000000000000000, partial sum =       98.5000000000000000\n",
      "x^ 3/ 3! =     -562.5000000000000000, partial sum =     -464.0000000000000000\n",
      "x^ 4/ 4! =     2109.3750000000000000, partial sum =     1645.3750000000000000\n",
      "x^ 5/ 5! =    -6328.1250000000000000, partial sum =    -4682.7500000000000000\n",
      "x^ 6/ 6! =    15820.3125000000000000, partial sum =    11137.5625000000000000\n",
      "x^ 7/ 7! =   -33900.6696428571449360, partial sum =   -22763.1071428571449360\n",
      "x^ 8/ 8! =    63563.7555803571449360, partial sum =    40800.6484375000000000\n",
      "x^ 9/ 9! =  -105939.5926339285797440, partial sum =   -65138.9441964285797440\n",
      "x^10/10! =   158909.3889508928696159, partial sum =    93770.4447544642898720\n",
      "x^11/11! =  -216694.6212966721213888, partial sum =  -122924.1765422078315169\n",
      "x^12/12! =   270868.2766208401299082, partial sum =   147944.1000786322983913\n",
      "x^13/13! =  -312540.3191778924665414, partial sum =  -164596.2190992601681501\n",
      "x^14/14! =   334864.6276905991253443, partial sum =   170268.4085913389571942\n",
      "x^15/15! =  -334864.6276905991253443, partial sum =  -164596.2190992601681501\n",
      "x^16/16! =   313935.5884599366690964, partial sum =   149339.3693606765009463\n",
      "x^17/17! =  -277001.9898175911512226, partial sum =  -127662.6204569146502763\n",
      "x^18/18! =   230834.9915146592829842, partial sum =   103172.3710577446327079\n",
      "x^19/19! =  -182238.1511957836337388, partial sum =   -79065.7801380390010308\n",
      "x^20/20! =   136678.6133968377253041, partial sum =    57612.8332587987242732\n",
      "x^21/21! =   -97627.5809977412282024, partial sum =   -40014.7477389425039291\n",
      "x^22/22! =    66564.2597711871931097, partial sum =    26549.5120322446891805\n",
      "x^23/23! =   -43411.4737638177321060, partial sum =   -16861.9617315730429254\n",
      "x^24/24! =    27132.1711023860843852, partial sum =    10270.2093708130414598\n",
      "x^25/25! =   -16279.3026614316513587, partial sum =    -6009.0932906186098990\n",
      "x^26/26! =     9391.9053815951829165, partial sum =     3382.8120909765730175\n",
      "x^27/27! =    -5217.7252119973236404, partial sum =    -1834.9131210207506228\n",
      "x^28/28! =     2795.2099349985660410, partial sum =      960.2968139778154182\n",
      "x^29/29! =    -1445.7982422406375917, partial sum =     -485.5014282628221736\n",
      "x^30/30! =      722.8991211203187959, partial sum =      237.3976928574966223\n",
      "x^31/31! =     -349.7898973162832590, partial sum =     -112.3922044587866367\n",
      "x^32/32! =      163.9640143670077919, partial sum =       51.5718099082211552\n",
      "x^33/33! =      -74.5290974395490053, partial sum =      -22.9572875313278502\n",
      "x^34/34! =       32.8804841645069104, partial sum =        9.9231966331790602\n",
      "x^35/35! =      -14.0916360705029611, partial sum =       -4.1684394373239009\n",
      "x^36/36! =        5.8715150293762335, partial sum =        1.7030755920523326\n",
      "x^37/37! =       -2.3803439308282024, partial sum =       -0.6772683387758698\n",
      "x^38/38! =        0.9396094463795536, partial sum =        0.2623411076036838\n",
      "x^39/39! =       -0.3613882486075206, partial sum =       -0.0990471410038368\n",
      "x^40/40! =        0.1355205932278202, partial sum =        0.0364734522239834\n",
      "x^41/41! =       -0.0495807048394464, partial sum =       -0.0131072526154630\n",
      "x^42/42! =        0.0177073945855166, partial sum =        0.0046001419700536\n",
      "x^43/43! =       -0.0061769981112267, partial sum =       -0.0015768561411732\n",
      "x^44/44! =        0.0021057948106455, partial sum =        0.0005289386694723\n",
      "x^45/45! =       -0.0007019316035485, partial sum =       -0.0001729929340762\n",
      "x^46/46! =        0.0002288907402876, partial sum =        0.0000558978062114\n",
      "x^47/47! =       -0.0000730502362620, partial sum =       -0.0000171524300506\n",
      "x^48/48! =        0.0000228281988319, partial sum =        0.0000056757687813\n",
      "x^49/49! =       -0.0000069882241322, partial sum =       -0.0000013124553509\n",
      "x^50/50! =        0.0000020964672397, partial sum =        0.0000007840118887\n",
      "x^51/51! =       -0.0000006166080117, partial sum =        0.0000001674038771\n",
      "x^52/52! =        0.0000001778676957, partial sum =        0.0000003452715727\n",
      "x^53/53! =       -0.0000000503399139, partial sum =        0.0000002949316589\n",
      "x^54/54! =        0.0000000139833094, partial sum =        0.0000003089149683\n",
      "x^55/55! =       -0.0000000038136298, partial sum =        0.0000003051013384\n",
      "x^56/56! =        0.0000000010215080, partial sum =        0.0000003061228464\n",
      "x^57/57! =       -0.0000000002688179, partial sum =        0.0000003058540285\n",
      "x^58/58! =        0.0000000000695219, partial sum =        0.0000003059235504\n",
      "x^59/59! =       -0.0000000000176751, partial sum =        0.0000003059058753\n",
      "x^60/60! =        0.0000000000044188, partial sum =        0.0000003059102941\n",
      "x^61/61! =       -0.0000000000010866, partial sum =        0.0000003059092075\n",
      "x^62/62! =        0.0000000000002629, partial sum =        0.0000003059094704\n",
      "x^63/63! =       -0.0000000000000626, partial sum =        0.0000003059094078\n",
      "x^64/64! =        0.0000000000000147, partial sum =        0.0000003059094225\n",
      "x^65/65! =       -0.0000000000000034, partial sum =        0.0000003059094191\n",
      "x^66/66! =        0.0000000000000008, partial sum =        0.0000003059094199\n",
      "x^67/67! =       -0.0000000000000002, partial sum =        0.0000003059094197\n",
      "x^68/68! =        0.0000000000000000, partial sum =        0.0000003059094197\n",
      "x^69/69! =       -0.0000000000000000, partial sum =        0.0000003059094197\n",
      "x^70/70! =        0.0000000000000000, partial sum =        0.0000003059094197\n",
      "x^71/71! =       -0.0000000000000000, partial sum =        0.0000003059094197\n",
      "x^72/72! =        0.0000000000000000, partial sum =        0.0000003059094197\n",
      "x^73/73! =       -0.0000000000000000, partial sum =        0.0000003059094197\n",
      "x^74/74! =        0.0000000000000000, partial sum =        0.0000003059094197\n",
      "x^75/75! =       -0.0000000000000000, partial sum =        0.0000003059094197\n",
      "x^76/76! =        0.0000000000000000, partial sum =        0.0000003059094197\n",
      "x^77/77! =       -0.0000000000000000, partial sum =        0.0000003059094197\n",
      "x^78/78! =        0.0000000000000000, partial sum =        0.0000003059094197\n",
      "x^79/79! =       -0.0000000000000000, partial sum =        0.0000003059094197\n",
      "                                Compare to exp(x) =        0.0000003059023205\n"
     ]
    }
   ],
   "source": [
    "f = taylor_exp(-15,80,verbose=True)"
   ]
  },
  {
   "cell_type": "markdown",
   "metadata": {},
   "source": [
    "### A more stable algorithm to compute $e^x$ for negative $x$\n",
    "\n",
    "We can use the Taylor series to compute an accurate value if we use the fact that we can approximate $\\exp(15)$ accurately from the Taylor series.   Then the value we want can be computed using $\\exp(-15) = 1 / \\exp(15)$.\n",
    "\n",
    "Note that when $x=15$ the terms are the same magnitude as before but they are all positive, so there is no cancellation when they are added and the result is a large number approximating $\\exp(15) \\approx 3.27\\times 10^6$:"
   ]
  },
  {
   "cell_type": "code",
   "execution_count": 14,
   "metadata": {
    "collapsed": false,
    "scrolled": true
   },
   "outputs": [
    {
     "name": "stdout",
     "output_type": "stream",
     "text": [
      "x^ 1/ 1! =       15.0000000000000000, partial sum =       16.0000000000000000\n",
      "x^ 2/ 2! =      112.5000000000000000, partial sum =      128.5000000000000000\n",
      "x^ 3/ 3! =      562.5000000000000000, partial sum =      691.0000000000000000\n",
      "x^ 4/ 4! =     2109.3750000000000000, partial sum =     2800.3750000000000000\n",
      "x^ 5/ 5! =     6328.1250000000000000, partial sum =     9128.5000000000000000\n",
      "x^ 6/ 6! =    15820.3125000000000000, partial sum =    24948.8125000000000000\n",
      "x^ 7/ 7! =    33900.6696428571449360, partial sum =    58849.4821428571449360\n",
      "x^ 8/ 8! =    63563.7555803571449360, partial sum =   122413.2377232142898720\n",
      "x^ 9/ 9! =   105939.5926339285797440, partial sum =   228352.8303571428696159\n",
      "x^10/10! =   158909.3889508928696159, partial sum =   387262.2193080357392319\n",
      "x^11/11! =   216694.6212966721213888, partial sum =   603956.8406047078315169\n",
      "x^12/12! =   270868.2766208401299082, partial sum =   874825.1172255480196327\n",
      "x^13/13! =   312540.3191778924665414, partial sum =  1187365.4364034405443817\n",
      "x^14/14! =   334864.6276905991253443, partial sum =  1522230.0640940396115184\n",
      "x^15/15! =   334864.6276905991253443, partial sum =  1857094.6917846386786550\n",
      "x^16/16! =   313935.5884599366690964, partial sum =  2171030.2802445753477514\n",
      "x^17/17! =   277001.9898175911512226, partial sum =  2448032.2700621662661433\n",
      "x^18/18! =   230834.9915146592829842, partial sum =  2678867.2615768257528543\n",
      "x^19/19! =   182238.1511957836337388, partial sum =  2861105.4127726093865931\n",
      "x^20/20! =   136678.6133968377253041, partial sum =  2997784.0261694472283125\n",
      "x^21/21! =    97627.5809977412282024, partial sum =  3095411.6071671885438263\n",
      "x^22/22! =    66564.2597711871931097, partial sum =  3161975.8669383758679032\n",
      "x^23/23! =    43411.4737638177321060, partial sum =  3205387.3407021937891841\n",
      "x^24/24! =    27132.1711023860843852, partial sum =  3232519.5118045797571540\n",
      "x^25/25! =    16279.3026614316513587, partial sum =  3248798.8144660112448037\n",
      "x^26/26! =     9391.9053815951829165, partial sum =  3258190.7198476064950228\n",
      "x^27/27! =     5217.7252119973236404, partial sum =  3263408.4450596040114760\n",
      "x^28/28! =     2795.2099349985660410, partial sum =  3266203.6549946027807891\n",
      "x^29/29! =     1445.7982422406375917, partial sum =  3267649.4532368434593081\n",
      "x^30/30! =      722.8991211203187959, partial sum =  3268372.3523579635657370\n",
      "x^31/31! =      349.7898973162832590, partial sum =  3268722.1422552797012031\n",
      "x^32/32! =      163.9640143670077919, partial sum =  3268886.1062696469016373\n",
      "x^33/33! =       74.5290974395490053, partial sum =  3268960.6353670866228640\n",
      "x^34/34! =       32.8804841645069104, partial sum =  3268993.5158512513153255\n",
      "x^35/35! =       14.0916360705029611, partial sum =  3269007.6074873218312860\n",
      "x^36/36! =        5.8715150293762335, partial sum =  3269013.4790023514069617\n",
      "x^37/37! =        2.3803439308282024, partial sum =  3269015.8593462822027504\n",
      "x^38/38! =        0.9396094463795536, partial sum =  3269016.7989557287655771\n",
      "x^39/39! =        0.3613882486075206, partial sum =  3269017.1603439771570265\n",
      "x^40/40! =        0.1355205932278202, partial sum =  3269017.2958645704202354\n",
      "x^41/41! =        0.0495807048394464, partial sum =  3269017.3454452753067017\n",
      "x^42/42! =        0.0177073945855166, partial sum =  3269017.3631526697427034\n",
      "x^43/43! =        0.0061769981112267, partial sum =  3269017.3693296676501632\n",
      "x^44/44! =        0.0021057948106455, partial sum =  3269017.3714354624971747\n",
      "x^45/45! =        0.0007019316035485, partial sum =  3269017.3721373942680657\n",
      "x^46/46! =        0.0002288907402876, partial sum =  3269017.3723662849515676\n",
      "x^47/47! =        0.0000730502362620, partial sum =  3269017.3724393351003528\n",
      "x^48/48! =        0.0000228281988319, partial sum =  3269017.3724621632136405\n",
      "x^49/49! =        0.0000069882241322, partial sum =  3269017.3724691513925791\n",
      "x^50/50! =        0.0000020964672397, partial sum =  3269017.3724712477996945\n",
      "x^51/51! =        0.0000006166080117, partial sum =  3269017.3724718643352389\n",
      "x^52/52! =        0.0000001778676957, partial sum =  3269017.3724720422178507\n",
      "x^53/53! =        0.0000000503399139, partial sum =  3269017.3724720925092697\n",
      "x^54/54! =        0.0000000139833094, partial sum =  3269017.3724721064791083\n",
      "x^55/55! =        0.0000000038136298, partial sum =  3269017.3724721102043986\n",
      "x^56/56! =        0.0000000010215080, partial sum =  3269017.3724721111357212\n",
      "x^57/57! =        0.0000000002688179, partial sum =  3269017.3724721116013825\n",
      "x^58/58! =        0.0000000000695219, partial sum =  3269017.3724721116013825\n",
      "x^59/59! =        0.0000000000176751, partial sum =  3269017.3724721116013825\n",
      "x^60/60! =        0.0000000000044188, partial sum =  3269017.3724721116013825\n",
      "x^61/61! =        0.0000000000010866, partial sum =  3269017.3724721116013825\n",
      "x^62/62! =        0.0000000000002629, partial sum =  3269017.3724721116013825\n",
      "x^63/63! =        0.0000000000000626, partial sum =  3269017.3724721116013825\n",
      "x^64/64! =        0.0000000000000147, partial sum =  3269017.3724721116013825\n",
      "x^65/65! =        0.0000000000000034, partial sum =  3269017.3724721116013825\n",
      "x^66/66! =        0.0000000000000008, partial sum =  3269017.3724721116013825\n",
      "x^67/67! =        0.0000000000000002, partial sum =  3269017.3724721116013825\n",
      "x^68/68! =        0.0000000000000000, partial sum =  3269017.3724721116013825\n",
      "x^69/69! =        0.0000000000000000, partial sum =  3269017.3724721116013825\n",
      "x^70/70! =        0.0000000000000000, partial sum =  3269017.3724721116013825\n",
      "x^71/71! =        0.0000000000000000, partial sum =  3269017.3724721116013825\n",
      "x^72/72! =        0.0000000000000000, partial sum =  3269017.3724721116013825\n",
      "x^73/73! =        0.0000000000000000, partial sum =  3269017.3724721116013825\n",
      "x^74/74! =        0.0000000000000000, partial sum =  3269017.3724721116013825\n",
      "x^75/75! =        0.0000000000000000, partial sum =  3269017.3724721116013825\n",
      "x^76/76! =        0.0000000000000000, partial sum =  3269017.3724721116013825\n",
      "x^77/77! =        0.0000000000000000, partial sum =  3269017.3724721116013825\n",
      "x^78/78! =        0.0000000000000000, partial sum =  3269017.3724721116013825\n",
      "x^79/79! =        0.0000000000000000, partial sum =  3269017.3724721116013825\n",
      "                                Compare to exp(x) =  3269017.3724721106700599\n"
     ]
    }
   ],
   "source": [
    "x = -15\n",
    "f_inverse = taylor_exp(-x,80,verbose=True)"
   ]
  },
  {
   "cell_type": "markdown",
   "metadata": {},
   "source": [
    "Now when we invert the value computed above, we get a good approximation to $\\exp(-15)$:"
   ]
  },
  {
   "cell_type": "code",
   "execution_count": 15,
   "metadata": {
    "collapsed": false
   },
   "outputs": [
    {
     "name": "stdout",
     "output_type": "stream",
     "text": [
      "Computed value: 0.0000003059023205018256800\n",
      "Correct value:  0.0000003059023205018257859\n",
      "Relative error = 3.46121e-16\n"
     ]
    }
   ],
   "source": [
    "f = 1./f_inverse\n",
    "expx = exp(x)\n",
    "print \"Computed value: %27.25f\" % f\n",
    "print \"Correct value:  %27.25f\" % expx\n",
    "\n",
    "relative_error = abs(f-exp(x))/exp(x)\n",
    "print \"Relative error = %g\" % relative_error"
   ]
  },
  {
   "cell_type": "markdown",
   "metadata": {},
   "source": [
    "## Analysis of the algorithm computing $1+x-1$\n",
    "\n",
    "It is illuminating to do a stability analysis of the first problem we considered in this notebook.  We can view it as a poor algorithm to compute the mathematical function $f(x) = x$.  In floating point arithmetic we were computing\n",
    "\n",
    "$$\n",
    "\\begin{split}\n",
    "\\tilde f(x) &= (1 \\oplus f\\ell(x)) \\ominus 1\\\\\n",
    "&= [(1 + x(1+\\epsilon_1))(1+\\epsilon_2)-1](1+\\epsilon_3)\\\\\n",
    "&= x(1+\\epsilon_1)(1+\\epsilon_2)(1+\\epsilon_3) + \\epsilon_2(1+\\epsilon_3) - \\epsilon_3\\\\\n",
    "&= x(1+\\epsilon_4) + \\epsilon_5\n",
    "\\end{split}\n",
    "$$\n",
    "Here $\\epsilon_1, \\epsilon_2, \\epsilon_3$ are each bounded by $\\epsilon_m$ (machine epsilon) since they are the relative errors introduced by rounding $x$ to $f\\ell(x)$ and from the two machine arithmetic operations, while $|\\epsilon_4| \\leq 3\\epsilon_m + O(\\epsilon_m^2)$ and $|\\epsilon_5| \\leq 2\\epsilon_m + O(\\epsilon_m^2)$.\n",
    "\n",
    "Note that we can view $\\tilde f(x) = f(\\tilde x)$ where $\\tilde x = x(1+\\epsilon_4) + \\epsilon_5$, so it doesn't matter whether we consider forward or backward stability, we get the same result.  \n",
    "\n",
    "$$\n",
    "\\frac{\\tilde f - f}{f} = \\frac{\\tilde x - x}{x} = \\epsilon_4 + \\frac{\\epsilon_5}{x}\n",
    "$$\n",
    "\n",
    "This bound can be arbitrarily large when $x$ is very small, and we saw the effect of this in the first example. \n",
    "\n",
    "If we only allowed $x$ that are not small (e.g. for $|x|>1$) then this algorithm would be forward and backward stable, but not in general. "
   ]
  },
  {
   "cell_type": "code",
   "execution_count": null,
   "metadata": {
    "collapsed": true
   },
   "outputs": [],
   "source": []
  }
 ],
 "metadata": {
  "kernelspec": {
   "display_name": "Python 3",
   "language": "python",
   "name": "python3"
  },
  "language_info": {
   "codemirror_mode": {
    "name": "ipython",
    "version": 3
   },
   "file_extension": ".py",
   "mimetype": "text/x-python",
   "name": "python",
   "nbconvert_exporter": "python",
   "pygments_lexer": "ipython3",
   "version": "3.7.0"
  },
  "widgets": {
   "state": {},
   "version": "1.1.2"
  }
 },
 "nbformat": 4,
 "nbformat_minor": 2
}
