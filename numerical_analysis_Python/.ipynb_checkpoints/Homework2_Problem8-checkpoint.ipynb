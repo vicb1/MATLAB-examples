{
 "cells": [
  {
   "cell_type": "markdown",
   "metadata": {},
   "source": [
    "# AMath 584 Homework 2, Problem 8\n",
    "\n",
    "Autumn Quarter, 2016.\n",
    "\n",
    "Modified Gram-Schmidt illustrated in Python."
   ]
  },
  {
   "cell_type": "code",
   "execution_count": 1,
   "metadata": {
    "collapsed": false
   },
   "outputs": [
    {
     "name": "stdout",
     "output_type": "stream",
     "text": [
      "Populating the interactive namespace from numpy and matplotlib\n"
     ]
    }
   ],
   "source": [
    "%pylab inline"
   ]
  },
  {
   "cell_type": "markdown",
   "metadata": {},
   "source": [
    "Note a few gotcha's:\n",
    "- This first code works only if `A` is real.  See below for the complex case.\n",
    "- If the user specifies `A` as an array of all integers then integer arithmetic is used and the results might be wrong.  In this code we explicitly convert to floats.\n",
    "- `V` should be initialized to a copy of `A` somehow, either as done in this code or using `V = copy.copy(A)` as done in the complex case further below.  Simply setting `V = A` gives another pointer to the same array and so changing `V` would also change `A`.  For this particular code this wouldn't hurt, but in general can give unexpected results.\n",
    "- The numpy function `inner` is used to take the inner product of two vectors that are 1d arrays, which is what the slicing operation `Q[:,i]` returns."
   ]
  },
  {
   "cell_type": "code",
   "execution_count": 2,
   "metadata": {
    "collapsed": true
   },
   "outputs": [],
   "source": [
    "def mgs(A):\n",
    "    \"\"\"\n",
    "    Modified Gram-Schmidt for real matrices.\n",
    "    \"\"\"\n",
    "    # initialize V to be a copy of A, and insure data type is float\n",
    "    # (in case user initializes with integers):\n",
    "    V = array(A, dtype=float)  \n",
    "    \n",
    "    # Initialize Q, R of correct shapes, values filled in later:\n",
    "    m,n = shape(A)\n",
    "    Q = zeros((m,n))\n",
    "    R = zeros((n,n))\n",
    "    \n",
    "    for i in range(n):\n",
    "        R[i,i] = norm(V[:,i], 2)\n",
    "        Q[:,i] = V[:,i]/R[i,i]\n",
    "        for j in range(i+1,n):\n",
    "            R[i,j]= inner(Q[:,i],V[:,j])\n",
    "            V[:,j] = V[:,j] - R[i,j]*Q[:,i]\n",
    "            \n",
    "    return Q,R"
   ]
  },
  {
   "cell_type": "markdown",
   "metadata": {},
   "source": [
    "Define a test function so we can easily test many cases:"
   ]
  },
  {
   "cell_type": "code",
   "execution_count": 3,
   "metadata": {
    "collapsed": false
   },
   "outputs": [],
   "source": [
    "def test_mgs(A):\n",
    "    \"\"\"\n",
    "    Test the mgs function and compute the error in the computed Q*R\n",
    "    relative to the original A.\n",
    "    \"\"\"\n",
    "    Q,R = mgs(A)\n",
    "    print \"Q = \\n\",Q\n",
    "    print \"\\nR = \\n\",R\n",
    "    \n",
    "    QR = dot(Q,R)\n",
    "    print \"\\nQR = \\n\", QR\n",
    "    error = norm(A - QR,inf)\n",
    "    print \"\\nInfinity-norm Error between A and QR = \",error\n",
    "    \n",
    "    QsQ = dot(Q.T.conj(),Q)   # conjugate transpose for complex tests below\n",
    "    m,n = A.shape\n",
    "    error = norm(eye(n) - QsQ, inf)\n",
    "    print \"\\nInfinity-norm Error between Q^* Q and I = \",error"
   ]
  },
  {
   "cell_type": "code",
   "execution_count": 4,
   "metadata": {
    "collapsed": false
   },
   "outputs": [
    {
     "name": "stdout",
     "output_type": "stream",
     "text": [
      "Q = \n",
      "[[ 0.70710678  0.57735027]\n",
      " [ 0.          0.57735027]\n",
      " [ 0.70710678 -0.57735027]]\n",
      "\n",
      "R = \n",
      "[[ 1.41421356  1.41421356]\n",
      " [ 0.          1.73205081]]\n",
      "\n",
      "QR = \n",
      "[[  1.00000000e+00   2.00000000e+00]\n",
      " [  0.00000000e+00   1.00000000e+00]\n",
      " [  1.00000000e+00   1.11022302e-16]]\n",
      "\n",
      "Infinity-norm Error between A and QR =  1.11022302463e-16\n",
      "\n",
      "Infinity-norm Error between Q^* Q and I =  4.99600361081e-16\n"
     ]
    }
   ],
   "source": [
    "A = array([[1,2], [0,1], [1,0]])\n",
    "test_mgs(A)"
   ]
  },
  {
   "cell_type": "code",
   "execution_count": 5,
   "metadata": {
    "collapsed": false
   },
   "outputs": [
    {
     "name": "stdout",
     "output_type": "stream",
     "text": [
      "Q = \n",
      "[[ 0.70710678  0.        ]\n",
      " [ 0.          1.        ]\n",
      " [ 0.70710678  0.        ]]\n",
      "\n",
      "R = \n",
      "[[ 1.41421356  0.        ]\n",
      " [ 0.          1.        ]]\n",
      "\n",
      "QR = \n",
      "[[ 1.  0.]\n",
      " [ 0.  1.]\n",
      " [ 1.  0.]]\n",
      "\n",
      "Infinity-norm Error between A and QR =  0.0\n",
      "\n",
      "Infinity-norm Error between Q^* Q and I =  2.22044604925e-16\n"
     ]
    }
   ],
   "source": [
    "A = array([[1.,0], [0,1], [1,0]])\n",
    "test_mgs(A)"
   ]
  },
  {
   "cell_type": "markdown",
   "metadata": {},
   "source": [
    "### Test with a larger random matrix:"
   ]
  },
  {
   "cell_type": "code",
   "execution_count": 6,
   "metadata": {
    "collapsed": false
   },
   "outputs": [
    {
     "name": "stdout",
     "output_type": "stream",
     "text": [
      "Q = \n",
      "[[ 0.33431365  0.18403772 -0.33870909  0.67561486 -0.1072167   0.01436242]\n",
      " [ 0.3751999  -0.52665614  0.29737101  0.01368883  0.38073111 -0.14234847]\n",
      " [ 0.37620499  0.12743861 -0.52126682 -0.14926704  0.52336041 -0.22486812]\n",
      " [ 0.00945238  0.00692495  0.10409737  0.41718485  0.18674955  0.32239711]\n",
      " [ 0.37987245  0.04308839  0.00506482  0.04834339 -0.63387692 -0.05874415]\n",
      " [ 0.20478893  0.20060575  0.66970669  0.29840089  0.12285814 -0.29371557]\n",
      " [ 0.38920769  0.12847071  0.10736618 -0.43420033 -0.24072559 -0.23202962]\n",
      " [ 0.39322509 -0.07086423 -0.08329467 -0.04021825 -0.04487104  0.06589481]\n",
      " [ 0.17589091  0.67828548  0.21405883 -0.22814708  0.23104805  0.4556272 ]\n",
      " [ 0.28731879 -0.38571744  0.03836511 -0.11599413 -0.06728585  0.68522211]]\n",
      "\n",
      "R = \n",
      "[[ 2.10493396  1.22879951  1.4405689   1.17516211  1.6331656   1.18715152]\n",
      " [ 0.          0.79381106 -0.01938142  0.1487819   0.15495561  0.53469357]\n",
      " [ 0.          0.          0.97477797  0.38953494  0.23347866  0.08093454]\n",
      " [ 0.          0.          0.          0.90570114  0.5067113  -0.20054968]\n",
      " [ 0.          0.          0.          0.          0.89546942  0.37289443]\n",
      " [ 0.          0.          0.          0.          0.          0.60671143]]\n",
      "\n",
      "QR = \n",
      "[[ 0.70370815  0.55689562  0.14786877  0.90022034  0.74175829  0.30111047]\n",
      " [ 0.789771    0.04297998  0.84057935  0.49079819  0.94845437  0.24074983]\n",
      " [ 0.79188666  0.56344269  0.03135985  0.12281944  0.90546565  0.56122802]\n",
      " [ 0.01989664  0.01711218  0.11495441  0.43053274  0.41943566  0.20492279]\n",
      " [ 0.79960641  0.50099112  0.55133439  0.49858007  0.08513267  0.19270998]\n",
      " [ 0.43106717  0.4108876   0.94393987  0.80164288  0.78312025  0.21234881]\n",
      " [ 0.81925647  0.58023969  0.66284873  0.12506339  0.24503896  0.39596907]\n",
      " [ 0.82771285  0.42694199  0.48664748  0.38268802  0.55121368  0.45349843]\n",
      " [ 0.37023875  0.75456518  0.44889667  0.18436726  0.53363306  0.99715438]\n",
      " [ 0.60478708  0.04687042  0.45877574  0.19014693  0.29939957  0.55185953]]\n",
      "\n",
      "Infinity-norm Error between A and QR =  2.22044604925e-16\n",
      "\n",
      "Infinity-norm Error between Q^* Q and I =  1.03909936211e-15\n"
     ]
    }
   ],
   "source": [
    "A = rand(10,6)\n",
    "test_mgs(A)"
   ]
  },
  {
   "cell_type": "markdown",
   "metadata": {},
   "source": [
    "### Test on many large matrices:\n",
    "\n",
    "To be even more confident our code is working, we could run many tests..."
   ]
  },
  {
   "cell_type": "code",
   "execution_count": 7,
   "metadata": {
    "collapsed": false
   },
   "outputs": [
    {
     "name": "stdout",
     "output_type": "stream",
     "text": [
      "Will run 50 tests on random 100 by 75 matrices...\n",
      "\n",
      "Largest infinity-norm Error between A and QR =  1.39610545347e-14\n"
     ]
    }
   ],
   "source": [
    "ntests = 50\n",
    "m = 100\n",
    "n = 75\n",
    "print \"Will run %i tests on random %i by %i matrices...\" % (ntests,m,n)\n",
    "maxerror = 0.\n",
    "for itest in range(ntests):\n",
    "    A = rand(m,n)\n",
    "    Q,R = mgs(A)\n",
    "    QR = dot(Q,R)\n",
    "    error = norm(A - QR,inf)\n",
    "    maxerror = max(maxerror, error)\n",
    "    \n",
    "print \"\\nLargest infinity-norm Error between A and QR = \",maxerror"
   ]
  },
  {
   "cell_type": "markdown",
   "metadata": {},
   "source": [
    "## Complex version:\n",
    "\n",
    "To write a routine that works also for complex A, we need to:\n",
    "\n",
    "- initialize Q and R to be of complex type\n",
    "- compute the inner product $q_i^*v_j$, which can be done by:  `inner(Q[:,i].conj(),V[:,j])`\n",
    "\n",
    "The version below sticks to real arithmetic if the input `A` is real\n",
    "and uses complex arithmetic otherwise.  The variable `V_dtype` records the type.\n"
   ]
  },
  {
   "cell_type": "code",
   "execution_count": 8,
   "metadata": {
    "collapsed": true
   },
   "outputs": [],
   "source": [
    "def mgs(A):\n",
    "    \"\"\"\n",
    "    Modified Gram-Schmidt for real or complex matrices.\n",
    "    \"\"\"\n",
    "    import copy\n",
    "    \n",
    "    # initialize V to be a copy of A, and insure data type is float\n",
    "    # or complex.  Otherwise convert to float.\n",
    "    # (in case user initializes with integers):\n",
    "    if A.dtype not in [float, complex]:\n",
    "        V = array(A, dtype=float)  \n",
    "    else:\n",
    "        V = copy.copy(A)\n",
    "    V_dtype = V.dtype  # should be float or complex\n",
    "    print \"Arrays are of type %s\" % V_dtype\n",
    "    \n",
    "    # Initialize Q, R of correct shapes, values filled in later:\n",
    "    m,n = shape(A)\n",
    "    Q = zeros((m,n), dtype=V_dtype)\n",
    "    R = zeros((n,n), dtype=V_dtype)\n",
    "    \n",
    "    for i in range(n):\n",
    "        R[i,i] = norm(V[:,i], 2)\n",
    "        Q[:,i] = V[:,i]/R[i,i]\n",
    "        for j in range(i+1,n):\n",
    "            R[i,j]= inner(Q[:,i].conj(),V[:,j])\n",
    "            V[:,j] = V[:,j] - R[i,j]*Q[:,i]\n",
    "            \n",
    "    return Q,R"
   ]
  },
  {
   "cell_type": "markdown",
   "metadata": {},
   "source": [
    "### Test on a real matrix:"
   ]
  },
  {
   "cell_type": "code",
   "execution_count": 9,
   "metadata": {
    "collapsed": false
   },
   "outputs": [
    {
     "name": "stdout",
     "output_type": "stream",
     "text": [
      "Arrays are of type float64\n",
      "Q = \n",
      "[[ 0.70710678  0.57735027]\n",
      " [ 0.          0.57735027]\n",
      " [ 0.70710678 -0.57735027]]\n",
      "\n",
      "R = \n",
      "[[ 1.41421356  1.41421356]\n",
      " [ 0.          1.73205081]]\n",
      "\n",
      "QR = \n",
      "[[  1.00000000e+00   2.00000000e+00]\n",
      " [  0.00000000e+00   1.00000000e+00]\n",
      " [  1.00000000e+00   1.11022302e-16]]\n",
      "\n",
      "Infinity-norm Error between A and QR =  1.11022302463e-16\n",
      "\n",
      "Infinity-norm Error between Q^* Q and I =  4.99600361081e-16\n"
     ]
    }
   ],
   "source": [
    "A = array([[1,2], [0,1], [1,0]])\n",
    "test_mgs(A)"
   ]
  },
  {
   "cell_type": "markdown",
   "metadata": {},
   "source": [
    "### Test on a complex matrix\n",
    "\n",
    "Note that `1j` is the complex unit in Python ($\\sqrt{-1}$)."
   ]
  },
  {
   "cell_type": "code",
   "execution_count": 10,
   "metadata": {
    "collapsed": false
   },
   "outputs": [
    {
     "name": "stdout",
     "output_type": "stream",
     "text": [
      "Arrays are of type complex128\n",
      "Q = \n",
      "[[ 0.21889855+0.j          0.80346256+0.46238643j]\n",
      " [ 0.00000000+0.65669566j  0.30063936-0.1213103j ]\n",
      " [ 0.21889855+0.68769009j -0.16747262-0.08659908j]]\n",
      "\n",
      "R = \n",
      "[[ 4.56832621+0.j          0.43779711-0.43779711j]\n",
      " [ 0.00000000+0.j          2.36995092+0.j        ]]\n",
      "\n",
      "QR = \n",
      "[[  1.00000000e+00+0.j           2.00000000e+00+1.j        ]\n",
      " [  0.00000000e+00+3.j           1.00000000e+00+0.j        ]\n",
      " [  1.00000000e+00+3.14159265j   5.55111512e-17+0.j        ]]\n",
      "\n",
      "Infinity-norm Error between A and QR =  4.99600361081e-16\n",
      "\n",
      "Infinity-norm Error between Q^* Q and I =  1.98793139177e-16\n"
     ]
    }
   ],
   "source": [
    "A = array([[1,2+1j], [3j,1], [1+pi*1j,0]])\n",
    "test_mgs(A)"
   ]
  },
  {
   "cell_type": "markdown",
   "metadata": {},
   "source": [
    "### Test on  a random complex matrix:"
   ]
  },
  {
   "cell_type": "code",
   "execution_count": 11,
   "metadata": {
    "collapsed": false
   },
   "outputs": [
    {
     "name": "stdout",
     "output_type": "stream",
     "text": [
      "Arrays are of type complex128\n",
      "Q = \n",
      "[[ 0.34219698+0.08091564j -0.07355067+0.03889236j -0.44023907+0.3958133j ]\n",
      " [ 0.29247213+0.20024071j  0.09534998+0.24913126j  0.10795352-0.0073814j ]\n",
      " [ 0.26102906+0.35318665j -0.29604848-0.21291661j  0.32513261+0.11356132j]\n",
      " [ 0.26354217+0.08263144j  0.11556294+0.15698269j  0.25495252+0.06592937j]\n",
      " [ 0.08327772+0.31266275j  0.40165843-0.04164909j  0.08042999-0.14923727j]\n",
      " [ 0.29321278+0.27497678j -0.24679147-0.3120602j  -0.13770418+0.07434358j]\n",
      " [ 0.01096871+0.13923917j  0.35844788+0.19531055j -0.14674192+0.14760693j]\n",
      " [ 0.13210531+0.21738779j  0.14034541+0.13557222j  0.34741535+0.03005618j]\n",
      " [ 0.11394889+0.0787244j   0.22675623+0.36432408j -0.19463917+0.19234902j]\n",
      " [ 0.23734598+0.23568397j  0.04683041+0.19631642j -0.09709594-0.38392182j]]\n",
      "\n",
      "R = \n",
      "[[ 2.63825654+0.j          2.21332911-0.08117021j  1.94266636+0.229848j  ]\n",
      " [ 0.00000000+0.j          1.81323642+0.j          0.69127777+0.15984421j]\n",
      " [ 0.00000000+0.j          0.00000000+0.j          1.31481021+0.j        ]]\n",
      "\n",
      "QR = \n",
      "[[ 0.90280341+0.21347622j  0.63059772+0.22183779j  0.01028477+0.77139353j]\n",
      " [ 0.77161650+0.52828636j  0.83648271+0.87119243j  0.69018036+0.63397993j]\n",
      " [ 0.68866161+0.931797j    0.06960556+0.37446236j  0.68278256+0.70092626j]\n",
      " [ 0.69529186+0.21800292j  0.79955571+0.44614551j  0.88298933+0.43477527j]\n",
      " [ 0.21970800+0.82488455j  0.93800160+0.60974626j  0.47998100+0.46573363j]\n",
      " [ 0.77357053+0.72545929j  0.22380503+0.01897504j  0.20463644+0.44416174j]\n",
      " [ 0.02893828+0.36734866j  0.68553019+0.66143599j  0.01293472+0.65940116j]\n",
      " [ 0.34852769+0.57352475j  0.56451735+0.71625218j  0.73880286+0.60834571j]\n",
      " [ 0.30062642+0.20769516j  0.66975914+0.82559944j  0.04587291+0.72012344j]\n",
      " [ 0.62617957+0.62179479j  0.62936988+0.85834886j  0.28024260+0.15081925j]]\n",
      "\n",
      "Infinity-norm Error between A and QR =  2.68031548331e-16\n",
      "\n",
      "Infinity-norm Error between Q^* Q and I =  2.37082020809e-16\n"
     ]
    }
   ],
   "source": [
    "A = rand(10,3) + 1j*rand(10,3)\n",
    "test_mgs(A)"
   ]
  },
  {
   "cell_type": "code",
   "execution_count": null,
   "metadata": {
    "collapsed": true
   },
   "outputs": [],
   "source": []
  }
 ],
 "metadata": {
  "kernelspec": {
   "display_name": "Python 3",
   "language": "python",
   "name": "python3"
  },
  "language_info": {
   "codemirror_mode": {
    "name": "ipython",
    "version": 3
   },
   "file_extension": ".py",
   "mimetype": "text/x-python",
   "name": "python",
   "nbconvert_exporter": "python",
   "pygments_lexer": "ipython3",
   "version": "3.7.0"
  },
  "widgets": {
   "state": {},
   "version": "1.1.2"
  }
 },
 "nbformat": 4,
 "nbformat_minor": 2
}
