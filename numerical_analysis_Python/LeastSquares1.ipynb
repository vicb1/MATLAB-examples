{
 "cells": [
  {
   "cell_type": "markdown",
   "metadata": {},
   "source": [
    "# Example of least squares fitting\n",
    "\n",
    "Example from AMath 584 lecture of October 12, 2016.  A ball is dropped from height $z_0$ and (noisy) measurements of its height are collected at a set of times.  From this we want to estimate the gravitational force $g$."
   ]
  },
  {
   "cell_type": "code",
   "execution_count": 1,
   "metadata": {
    "collapsed": false
   },
   "outputs": [
    {
     "name": "stdout",
     "output_type": "stream",
     "text": [
      "Populating the interactive namespace from numpy and matplotlib\n"
     ]
    }
   ],
   "source": [
    "%pylab inline"
   ]
  },
  {
   "cell_type": "markdown",
   "metadata": {},
   "source": [
    "## Generate sample data:\n",
    "\n",
    "The data is obtained by evaluating $z(t) = z_0 - \\frac{1}{2} g t^2$ at a set of points and then adding some \"random errors\" to these true values.\n",
    "\n",
    "`randn(m)` returns `m` random numbers, from a normal distribution with mean 0 and variance 1."
   ]
  },
  {
   "cell_type": "code",
   "execution_count": 2,
   "metadata": {
    "collapsed": false
   },
   "outputs": [],
   "source": [
    "from numpy.random import randn\n",
    "\n",
    "# set the seed for the random number generator \n",
    "# so results are reproducible if we re-run notebook:\n",
    "from numpy.random import seed\n",
    "seed(135429)  "
   ]
  },
  {
   "cell_type": "code",
   "execution_count": 3,
   "metadata": {
    "collapsed": false
   },
   "outputs": [],
   "source": [
    "z0true = 350.\n",
    "gtrue = 9.81\n",
    "\n",
    "def z(t):\n",
    "    return z0true - 0.5*gtrue*t**2\n",
    "\n",
    "tdata = linspace(1,8,15)                # times for sample data\n",
    "zdata = z(tdata) + 15*randn(len(tdata))  # sample data with random errors"
   ]
  },
  {
   "cell_type": "markdown",
   "metadata": {},
   "source": [
    "Plot the data and also the true function $z(t)$ evaluated on a very fine grid:"
   ]
  },
  {
   "cell_type": "code",
   "execution_count": 4,
   "metadata": {
    "collapsed": false
   },
   "outputs": [
    {
     "data": {
      "text/plain": [
       "<matplotlib.text.Text at 0x10f674b50>"
      ]
     },
     "execution_count": 4,
     "metadata": {},
     "output_type": "execute_result"
    },
    {
     "data": {
      "image/png": "[encoded data removed]",
      "text/plain": [
       "<matplotlib.figure.Figure at 0x104fd4a50>"
      ]
     },
     "metadata": {},
     "output_type": "display_data"
    }
   ],
   "source": [
    "plot(tdata, zdata, 'o')\n",
    "axis([0,10, 0,400])\n",
    "ylim\n",
    "xlabel('time')\n",
    "ylabel('height')\n",
    "\n",
    "tfine = linspace(0,8,1000)\n",
    "zfine = z(tfine)\n",
    "plot(tfine, zfine, 'b')\n",
    "title(\"Data points and true parabola\")"
   ]
  },
  {
   "cell_type": "markdown",
   "metadata": {},
   "source": [
    "## Set up linear system \n",
    "\n",
    "Define $A$ so that $a_{i,1} = 1$ and $a_{i,2} = -\\frac{1}{2}t_i^2$ and right hand side $b$ with $b_i = z_i$, the measured data:"
   ]
  },
  {
   "cell_type": "code",
   "execution_count": 5,
   "metadata": {
    "collapsed": false
   },
   "outputs": [
    {
     "name": "stdout",
     "output_type": "stream",
     "text": [
      "A = \n",
      "[[  1.     -0.5  ]\n",
      " [  1.     -1.125]\n",
      " [  1.     -2.   ]\n",
      " [  1.     -3.125]\n",
      " [  1.     -4.5  ]\n",
      " [  1.     -6.125]\n",
      " [  1.     -8.   ]\n",
      " [  1.    -10.125]\n",
      " [  1.    -12.5  ]\n",
      " [  1.    -15.125]\n",
      " [  1.    -18.   ]\n",
      " [  1.    -21.125]\n",
      " [  1.    -24.5  ]\n",
      " [  1.    -28.125]\n",
      " [  1.    -32.   ]]\n",
      "b = \n",
      "[[ 330.13504726]\n",
      " [ 357.78917438]\n",
      " [ 311.39454995]\n",
      " [ 335.09426404]\n",
      " [ 288.76262479]\n",
      " [ 284.91452606]\n",
      " [ 247.23992463]\n",
      " [ 245.69038644]\n",
      " [ 203.99034134]\n",
      " [ 223.55684179]\n",
      " [ 180.71065341]\n",
      " [ 127.62560421]\n",
      " [ 126.99747953]\n",
      " [  75.15864348]\n",
      " [  51.54539032]]\n"
     ]
    }
   ],
   "source": [
    "A = vstack((ones(tdata.shape), -0.5*tdata**2)).T\n",
    "print \"A = \\n\", A\n",
    "\n",
    "b = array([zdata]).T\n",
    "print \"b = \\n\", b\n"
   ]
  },
  {
   "cell_type": "markdown",
   "metadata": {},
   "source": [
    "## Normal equations\n",
    "\n",
    "This is not the best way to solve a least squares problem numerically, but works fine for this example:"
   ]
  },
  {
   "cell_type": "code",
   "execution_count": 6,
   "metadata": {
    "collapsed": false
   },
   "outputs": [
    {
     "name": "stdout",
     "output_type": "stream",
     "text": [
      "A^*A = \n",
      "[[   15.        -186.875   ]\n",
      " [ -186.875     3810.109375]]\n",
      "\n",
      "A^*b = \n",
      "[[  3390.60545163]\n",
      " [-28502.39359895]]\n"
     ]
    }
   ],
   "source": [
    "AA = dot(A.T, A)\n",
    "print \"A^*A = \\n\", AA\n",
    "Ab = dot(A.T, b)\n",
    "print \"\\nA^*b = \\n\", Ab"
   ]
  },
  {
   "cell_type": "markdown",
   "metadata": {},
   "source": [
    "Solve the $2 \\times 2$ linear system $A^*A x = A^*b$ for $x$:"
   ]
  },
  {
   "cell_type": "code",
   "execution_count": 7,
   "metadata": {
    "collapsed": false
   },
   "outputs": [
    {
     "name": "stdout",
     "output_type": "stream",
     "text": [
      "x = \n",
      "[[ 341.53874386]\n",
      " [   9.27077301]]\n"
     ]
    }
   ],
   "source": [
    "x = solve(AA, Ab)  \n",
    "print \"x = \\n\", x"
   ]
  },
  {
   "cell_type": "markdown",
   "metadata": {},
   "source": [
    "Recall that the components of x are estimates of the two parameters $z_0$ and $g$."
   ]
  },
  {
   "cell_type": "code",
   "execution_count": 8,
   "metadata": {
    "collapsed": false
   },
   "outputs": [
    {
     "name": "stdout",
     "output_type": "stream",
     "text": [
      "Estimate of g is 9.27077, true value is 9.81\n"
     ]
    }
   ],
   "source": [
    "z0fit = x[0]\n",
    "gfit = x[1]\n",
    "print \"Estimate of g is %g, true value is %s\"  % (gfit,gtrue)"
   ]
  },
  {
   "cell_type": "markdown",
   "metadata": {},
   "source": [
    "## Plot the parabola based on the estimates:"
   ]
  },
  {
   "cell_type": "code",
   "execution_count": 9,
   "metadata": {
    "collapsed": false
   },
   "outputs": [
    {
     "data": {
      "text/plain": [
       "<matplotlib.text.Text at 0x10fb25f10>"
      ]
     },
     "execution_count": 9,
     "metadata": {},
     "output_type": "execute_result"
    },
    {
     "data": {
      "image/png": "[encoded data removed]",
      "text/plain": [
       "<matplotlib.figure.Figure at 0x10d1f2890>"
      ]
     },
     "metadata": {},
     "output_type": "display_data"
    }
   ],
   "source": [
    "zfit = z0fit - 0.5*gfit*tfine**2\n",
    "plot(tfine, zfit, 'r')\n",
    "\n",
    "plot(tdata, zdata, 'o')\n",
    "axis([0,10, 0,400])\n",
    "ylim\n",
    "xlabel('time')\n",
    "ylabel('height')\n",
    "title(\"Sample data and parabola from least squares fit\")"
   ]
  },
  {
   "cell_type": "markdown",
   "metadata": {},
   "source": [
    "## Project data onto range(A)\n",
    "\n",
    "What happens if we project the right hand side `b = zdata` onto the range of the matrix $A$?  We expect to get points that lie exactly on the best fit parabola.\n",
    "\n",
    "Let's check this.  We can find an orthonormal basis for the range of $A$ by computing the SVD and using the columns of $U$, which gives an $m \\times 2$ matrix $\\hat U$.  Hence we can project using the projection matrix $P = \\hat U \\hat U^*$."
   ]
  },
  {
   "cell_type": "code",
   "execution_count": 10,
   "metadata": {
    "collapsed": false
   },
   "outputs": [
    {
     "name": "stdout",
     "output_type": "stream",
     "text": [
      "Uhat =\n",
      "[[ 0.00887471  0.40383539]\n",
      " [ 0.01897574  0.3911249 ]\n",
      " [ 0.03311717  0.37333023]\n",
      " [ 0.05129902  0.35045136]\n",
      " [ 0.07352127  0.3224883 ]\n",
      " [ 0.09978393  0.28944105]\n",
      " [ 0.130087    0.25130961]\n",
      " [ 0.16443049  0.20809397]\n",
      " [ 0.20281438  0.15979414]\n",
      " [ 0.24523868  0.10641011]\n",
      " [ 0.29170339  0.0479419 ]\n",
      " [ 0.34220851 -0.01561051]\n",
      " [ 0.39675404 -0.08424711]\n",
      " [ 0.45533998 -0.1579679 ]\n",
      " [ 0.51796633 -0.23677289]]\n"
     ]
    }
   ],
   "source": [
    "[U,S,Vstar] = svd(A)\n",
    "Uhat = U[:,0:2]\n",
    "print \"Uhat =\\n\", Uhat"
   ]
  },
  {
   "cell_type": "markdown",
   "metadata": {},
   "source": [
    "Compute the projected data vector $\\hat b = Pb = \\hat U \\hat U^* b$.  Note that it is more efficient to comupte this as $\\hat U(\\hat U^* b)$ than as $(\\hat U \\hat U^*)b$ since the latter requires forming a $15\\times 15$ matrix and doing matrix-vector multiplication with it, whereas the former only involves $15\\times 2$ matrices."
   ]
  },
  {
   "cell_type": "code",
   "execution_count": 11,
   "metadata": {
    "collapsed": false
   },
   "outputs": [
    {
     "name": "stdout",
     "output_type": "stream",
     "text": [
      "bhat = Pb = \n",
      "[[ 336.90335736]\n",
      " [ 331.10912423]\n",
      " [ 322.99719784]\n",
      " [ 312.56757821]\n",
      " [ 299.82026532]\n",
      " [ 284.75525918]\n",
      " [ 267.37255978]\n",
      " [ 247.67216713]\n",
      " [ 225.65408123]\n",
      " [ 201.31830208]\n",
      " [ 174.66482968]\n",
      " [ 145.69366402]\n",
      " [ 114.40480511]\n",
      " [  80.79825294]\n",
      " [  44.87400753]]\n"
     ]
    }
   ],
   "source": [
    "bhat = dot(Uhat, dot(Uhat.T,b))\n",
    "print \"bhat = Pb = \\n\", bhat"
   ]
  },
  {
   "cell_type": "markdown",
   "metadata": {},
   "source": [
    "We can confirm that b did not lie in the range of $A$ but that $\\hat b = Pb$ does by computing the rank of the matrices $[A|b]$ and $[A|\\hat b]$.  The first should be 3 and the second should be 2:"
   ]
  },
  {
   "cell_type": "code",
   "execution_count": 12,
   "metadata": {
    "collapsed": false
   },
   "outputs": [
    {
     "name": "stdout",
     "output_type": "stream",
     "text": [
      "The rank of [A|b] is  3\n",
      "The rank of [A|bhat] is  2\n"
     ]
    }
   ],
   "source": [
    "print \"The rank of [A|b] is \", matrix_rank(hstack((A,b)))\n",
    "print \"The rank of [A|bhat] is \", matrix_rank(hstack((A,bhat)))"
   ]
  },
  {
   "cell_type": "markdown",
   "metadata": {},
   "source": [
    "Finally, if we plot the projected data it should lie exactly on the best-fit parabola:"
   ]
  },
  {
   "cell_type": "code",
   "execution_count": 13,
   "metadata": {
    "collapsed": false
   },
   "outputs": [
    {
     "data": {
      "text/plain": [
       "<matplotlib.text.Text at 0x10fcbe490>"
      ]
     },
     "execution_count": 13,
     "metadata": {},
     "output_type": "execute_result"
    },
    {
     "data": {
      "image/png": "[encoded data removed]",
      "text/plain": [
       "<matplotlib.figure.Figure at 0x10d202310>"
      ]
     },
     "metadata": {},
     "output_type": "display_data"
    }
   ],
   "source": [
    "plot(tdata, zdata, 'bo', label=\"original b\")\n",
    "plot(tdata, bhat, 'ro', label=\"projected bhat\")\n",
    "plot(tfine, zfit, 'r-', label=\"best fit\")\n",
    "legend()  # makes a legend based on labels\n",
    "axis([0,10, 0,400])\n",
    "ylim\n",
    "xlabel('time')\n",
    "ylabel('height')\n",
    "title(\"Sample data and parabola from least squares fit\")"
   ]
  },
  {
   "cell_type": "code",
   "execution_count": null,
   "metadata": {
    "collapsed": true
   },
   "outputs": [],
   "source": []
  }
 ],
 "metadata": {
  "kernelspec": {
   "display_name": "Python 3",
   "language": "python",
   "name": "python3"
  },
  "language_info": {
   "codemirror_mode": {
    "name": "ipython",
    "version": 3
   },
   "file_extension": ".py",
   "mimetype": "text/x-python",
   "name": "python",
   "nbconvert_exporter": "python",
   "pygments_lexer": "ipython3",
   "version": "3.7.0"
  },
  "widgets": {
   "state": {},
   "version": "1.1.2"
  }
 },
 "nbformat": 4,
 "nbformat_minor": 2
}
