{
 "cells": [
  {
   "cell_type": "markdown",
   "metadata": {},
   "source": [
    "# Homework 5 Problem 8\n",
    "\n",
    "AMath 584, Autumn Quarter 2016."
   ]
  },
  {
   "cell_type": "code",
   "execution_count": 1,
   "metadata": {
    "collapsed": false
   },
   "outputs": [
    {
     "name": "stdout",
     "output_type": "stream",
     "text": [
      "Populating the interactive namespace from numpy and matplotlib\n"
     ]
    }
   ],
   "source": [
    "%pylab inline"
   ]
  },
  {
   "cell_type": "markdown",
   "metadata": {},
   "source": [
    "### Problem 8(a)"
   ]
  },
  {
   "cell_type": "code",
   "execution_count": 27,
   "metadata": {
    "collapsed": false
   },
   "outputs": [
    {
     "name": "stdout",
     "output_type": "stream",
     "text": [
      "A = \n",
      "[[ 1.  2.  3.]\n",
      " [ 4.  5.  6.]\n",
      " [ 7.  8.  9.]]\n",
      "\n",
      "Eigenvalues: \n",
      "[  1.61168440e+01  -1.11684397e+00  -1.30367773e-15]\n",
      "\n",
      "Eigenvector matrix: \n",
      "[[-0.23197069 -0.78583024  0.40824829]\n",
      " [-0.52532209 -0.08675134 -0.81649658]\n",
      " [-0.8186735   0.61232756  0.40824829]]\n"
     ]
    }
   ],
   "source": [
    "A = array([[1.,2.,3.],[4.,5,6],[7,8,9]])\n",
    "print \"A = \\n\", A\n",
    "eig_true, X_true = eig(A)\n",
    "print \"\\nEigenvalues: \\n\", eig_true\n",
    "print \"\\nEigenvector matrix: \\n\", X_true"
   ]
  },
  {
   "cell_type": "markdown",
   "metadata": {},
   "source": [
    "### Problem 8(b)\n",
    "\n",
    "Define a function that implements the Rayleigh Quotient iteration, with the added feature of taking an initial guess `mu` for an eigenvalue and applying one step of inverse iteration to generate the initial `v0` vector.\n",
    "\n",
    "Note that it also determines which of the three true eigenvalues each iterate `lam_k` is closest to and prints out the error relative to this eigenvalue."
   ]
  },
  {
   "cell_type": "code",
   "execution_count": 30,
   "metadata": {
    "collapsed": false
   },
   "outputs": [],
   "source": [
    "\n",
    "def rayleigh_iteration(mu,v):\n",
    "    m = len(v)  # dimension of problem\n",
    "    assert A.shape == (m,m), \"Error: v has wrong shape\"\n",
    "    v = v / norm(v,2)\n",
    "    B = A - mu*eye(m)\n",
    "    w = solve(B,v)\n",
    "    v = w / norm(w,2)\n",
    "    lam_k = dot(v, A.dot(v))\n",
    "    print 'Initial:       lam_k = %23.15e' % lam_k\n",
    "    max_iter = 6\n",
    "    for k in range(max_iter):\n",
    "        B = A - lam_k*eye(m)\n",
    "        w = solve(B,v)\n",
    "        v = w / norm(w,2)\n",
    "        lam_k = dot(v, A.dot(v))\n",
    "        j_closest = argmin(abs(lam_k - eig_true))\n",
    "        error = abs(lam_k - eig_true[j_closest])\n",
    "        print \"Iteration %3i: lam_k = %23.15e is closest to j=%i, error = %13.6e\" \\\n",
    "            % (k, lam_k, j_closest, error)\n"
   ]
  },
  {
   "cell_type": "markdown",
   "metadata": {},
   "source": [
    "### Try different starting guesses:\n",
    "\n",
    "Note that with `mu = -10` and `mu = 100` it converges quickly (to two different eigenvalues) even though these values of `mu` were not very good estimates."
   ]
  },
  {
   "cell_type": "code",
   "execution_count": 32,
   "metadata": {
    "collapsed": false
   },
   "outputs": [
    {
     "name": "stdout",
     "output_type": "stream",
     "text": [
      "Initial:       lam_k =   5.064935064935066e+00\n",
      "Iteration   0: lam_k =   2.790209759107966e+00 is closest to j=2, error =  2.790210e+00\n",
      "Iteration   1: lam_k =  -1.457461953835827e+00 is closest to j=1, error =  3.406180e-01\n",
      "Iteration   2: lam_k =  -1.128886248184090e+00 is closest to j=1, error =  1.204228e-02\n",
      "Iteration   3: lam_k =  -1.116852446668175e+00 is closest to j=1, error =  8.476861e-06\n",
      "Iteration   4: lam_k =  -1.116843969811213e+00 is closest to j=1, error =  4.170220e-12\n",
      "Iteration   5: lam_k =  -1.116843969807043e+00 is closest to j=1, error =  6.661338e-16\n"
     ]
    }
   ],
   "source": [
    "mu = -10.  # initial guess at eigenvalue\n",
    "v = array([1,1,1.])\n",
    "rayleigh_iteration(mu,v)"
   ]
  },
  {
   "cell_type": "code",
   "execution_count": 23,
   "metadata": {
    "collapsed": false
   },
   "outputs": [
    {
     "name": "stdout",
     "output_type": "stream",
     "text": [
      "Initial:       lam_k =   1.563556793316093e+01\n",
      "Iteration   0: lam_k =   1.606826480742622e+01 is closest to j=0, error =  4.857916e-02\n",
      "Iteration   1: lam_k =   1.611697717495462e+01 is closest to j=0, error =  1.332051e-04\n",
      "Iteration   2: lam_k =   1.611684397083671e+01 is closest to j=0, error =  1.029669e-09\n",
      "Iteration   3: lam_k =   1.611684396980704e+01 is closest to j=0, error =  0.000000e+00\n",
      "Iteration   4: lam_k =   1.611684396980704e+01 is closest to j=0, error =  0.000000e+00\n",
      "Iteration   5: lam_k =   1.611684396980704e+01 is closest to j=0, error =  0.000000e+00\n"
     ]
    }
   ],
   "source": [
    "mu = 100.  # initial guess at eigenvalue\n",
    "v = array([1,1,1.])\n",
    "rayleigh_iteration(mu,v)"
   ]
  },
  {
   "cell_type": "markdown",
   "metadata": {},
   "source": [
    "On the other hand, taking `mu` very close to 0 does not give convergence to the $\\lambda = 0$ eigenvalue of $A$:"
   ]
  },
  {
   "cell_type": "code",
   "execution_count": 24,
   "metadata": {
    "collapsed": false
   },
   "outputs": [
    {
     "name": "stdout",
     "output_type": "stream",
     "text": [
      "Initial:       lam_k =   1.333611086413056e-03\n",
      "Iteration   0: lam_k =  -1.168943008709025e+00 is closest to j=1, error =  5.209904e-02\n",
      "Iteration   1: lam_k =  -1.117006846167892e+00 is closest to j=1, error =  1.628764e-04\n",
      "Iteration   2: lam_k =  -1.116843971346546e+00 is closest to j=1, error =  1.539504e-09\n",
      "Iteration   3: lam_k =  -1.116843969807043e+00 is closest to j=1, error =  2.220446e-16\n",
      "Iteration   4: lam_k =  -1.116843969807043e+00 is closest to j=1, error =  4.440892e-16\n",
      "Iteration   5: lam_k =  -1.116843969807043e+00 is closest to j=1, error =  4.440892e-16\n"
     ]
    }
   ],
   "source": [
    "mu = 0.001  # initial guess at eigenvalue\n",
    "v = array([1,1,1.])\n",
    "rayleigh_iteration(mu,v)"
   ]
  },
  {
   "cell_type": "markdown",
   "metadata": {},
   "source": [
    "But if we modify the initial vector `v` we can get convergence to this eigenvalue:"
   ]
  },
  {
   "cell_type": "code",
   "execution_count": 33,
   "metadata": {
    "collapsed": false
   },
   "outputs": [
    {
     "name": "stdout",
     "output_type": "stream",
     "text": [
      "Initial:       lam_k =  -5.229440355662841e-02\n",
      "Iteration   0: lam_k =  -3.099904875411303e-04 is closest to j=2, error =  3.099905e-04\n",
      "Iteration   1: lam_k =  -2.329334139504488e-11 is closest to j=2, error =  2.329204e-11\n",
      "Iteration   2: lam_k =   9.064933036736783e-17 is closest to j=2, error =  1.394327e-15\n",
      "Iteration   3: lam_k =   7.251946429389431e-16 is closest to j=2, error =  2.028872e-15\n",
      "Iteration   4: lam_k =   0.000000000000000e+00 is closest to j=2, error =  1.303678e-15\n",
      "Iteration   5: lam_k =   7.251946429389431e-16 is closest to j=2, error =  2.028872e-15\n"
     ]
    }
   ],
   "source": [
    "mu = 0.1  # initial guess at eigenvalue\n",
    "v = array([2,1,1.])\n",
    "rayleigh_iteration(mu,v)"
   ]
  },
  {
   "cell_type": "markdown",
   "metadata": {},
   "source": [
    "The fact that `v=[1,1,1]` does not work for convergence to $\\lambda=0$ suggests that if we expand this vector in terms of the eigenvectors of $A$, the cofficient of the eigenvector corresponding to $\\lambda=0$ will be close to zero.  Indeed this is true:"
   ]
  },
  {
   "cell_type": "code",
   "execution_count": 34,
   "metadata": {
    "collapsed": false
   },
   "outputs": [
    {
     "data": {
      "text/plain": [
       "array([ -1.78022998e+00,  -7.47030082e-01,  -5.89220647e-16])"
      ]
     },
     "execution_count": 34,
     "metadata": {},
     "output_type": "execute_result"
    }
   ],
   "source": [
    "solve(X_true,array([1,1,1.]))"
   ]
  },
  {
   "cell_type": "markdown",
   "metadata": {},
   "source": [
    "Note that the last component is essentially 0."
   ]
  },
  {
   "cell_type": "code",
   "execution_count": null,
   "metadata": {
    "collapsed": true
   },
   "outputs": [],
   "source": []
  }
 ],
 "metadata": {
  "kernelspec": {
   "display_name": "Python 3",
   "language": "python",
   "name": "python3"
  },
  "language_info": {
   "codemirror_mode": {
    "name": "ipython",
    "version": 3
   },
   "file_extension": ".py",
   "mimetype": "text/x-python",
   "name": "python",
   "nbconvert_exporter": "python",
   "pygments_lexer": "ipython3",
   "version": "3.7.0"
  },
  "widgets": {
   "state": {},
   "version": "1.1.2"
  }
 },
 "nbformat": 4,
 "nbformat_minor": 2
}
