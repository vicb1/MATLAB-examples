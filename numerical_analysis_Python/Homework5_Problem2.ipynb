{
 "cells": [
  {
   "cell_type": "markdown",
   "metadata": {},
   "source": [
    "# Homework 5 Problem 2\n",
    "\n",
    "AMath 584, Autumn Quarter 2016."
   ]
  },
  {
   "cell_type": "code",
   "execution_count": 2,
   "metadata": {
    "collapsed": false
   },
   "outputs": [
    {
     "name": "stdout",
     "output_type": "stream",
     "text": [
      "Populating the interactive namespace from numpy and matplotlib\n"
     ]
    }
   ],
   "source": [
    "%pylab inline"
   ]
  },
  {
   "cell_type": "markdown",
   "metadata": {},
   "source": [
    "Define a function `f` (returning the function `f(x)`) and `fprime` (returning the Jacobian matrix `J(x)`):"
   ]
  },
  {
   "cell_type": "code",
   "execution_count": 3,
   "metadata": {
    "collapsed": true
   },
   "outputs": [],
   "source": [
    "def f(x):\n",
    "    f0 = x[0]**2 + x[1]**2 - 9.\n",
    "    f1 = (x[0]-1.)**2 + (x[1]+2)**2 - 4.\n",
    "    return array([f0,f1])\n",
    "\n",
    "def fprime(x):\n",
    "    f00 = 2*x[0]\n",
    "    f01 = 2*x[1]\n",
    "    f10 = 2*(x[0]-1.)\n",
    "    f11 = 2*(x[1]+2.)\n",
    "    return array([[f00,f01],[f10,f11]])"
   ]
  },
  {
   "cell_type": "markdown",
   "metadata": {},
   "source": [
    "The Newton iteration:"
   ]
  },
  {
   "cell_type": "code",
   "execution_count": 7,
   "metadata": {
    "collapsed": false
   },
   "outputs": [],
   "source": [
    "def newton(x0):\n",
    "    max_iters = 10\n",
    "    tolerance = 1e-14\n",
    "    x = x0\n",
    "    fx = f(x)\n",
    "    for k in range(max_iters):\n",
    "        J = fprime(x)\n",
    "        delta = solve(J,-fx)\n",
    "        x = x + delta\n",
    "        fx = f(x)\n",
    "        fxnorm = norm(fx,inf)\n",
    "        delnorm = norm(delta,inf)\n",
    "        print \"x = %20.15f, %20.15f, ||delta|| = %8.4e, ||f(x)|| = %8.4e\" \\\n",
    "                % (x[0],x[1],delnorm,fxnorm)\n",
    "        if min(fxnorm, delnorm) < tolerance:\n",
    "            break\n",
    "    return x\n",
    "    "
   ]
  },
  {
   "cell_type": "markdown",
   "metadata": {},
   "source": [
    "Use this with two different initial guesses to determine the two solutions and save these as `xa` and `xb`:"
   ]
  },
  {
   "cell_type": "code",
   "execution_count": 8,
   "metadata": {
    "collapsed": false
   },
   "outputs": [
    {
     "name": "stdout",
     "output_type": "stream",
     "text": [
      "\n",
      "First initial guess \n",
      "x0=    3.000000000000000,   -1.000000000000000\n",
      "x =    2.800000000000000,   -1.100000000000000, ||delta|| = 2.0000e-01, ||f(x)|| = 5.0000e-02\n",
      "x =    2.788888888888889,   -1.105555555555556, ||delta|| = 1.1111e-02, ||f(x)|| = 1.5432e-04\n",
      "x =    2.788854382332643,   -1.105572808833678, ||delta|| = 3.4507e-05, ||f(x)|| = 1.4884e-09\n",
      "x =    2.788854381999831,   -1.105572809000084, ||delta|| = 3.3281e-10, ||f(x)|| = 1.7764e-15\n",
      "\n",
      "Second initial guess \n",
      "x0=   -1.000000000000000,   -3.000000000000000\n",
      "x =   -0.800000000000000,   -2.900000000000000, ||delta|| = 2.0000e-01, ||f(x)|| = 5.0000e-02\n",
      "x =   -0.788888888888889,   -2.894444444444444, ||delta|| = 1.1111e-02, ||f(x)|| = 1.5432e-04\n",
      "x =   -0.788854382332643,   -2.894427191166322, ||delta|| = 3.4507e-05, ||f(x)|| = 1.4884e-09\n",
      "x =   -0.788854381999832,   -2.894427190999916, ||delta|| = 3.3281e-10, ||f(x)|| = 1.7764e-15\n"
     ]
    }
   ],
   "source": [
    "x0 = array([3,-1.])\n",
    "print \"\\nFirst initial guess \\nx0= %20.15f, %20.15f\" % (x0[0],x0[1])\n",
    "xa = newton(x0)\n",
    "\n",
    "x0 = array([-1,-3])\n",
    "print \"\\nSecond initial guess \\nx0= %20.15f, %20.15f\" % (x0[0],x0[1])\n",
    "xb = newton(x0)"
   ]
  },
  {
   "cell_type": "markdown",
   "metadata": {},
   "source": [
    "Note the quadratic convergence!\n",
    "\n",
    "Plot the solutions along with the circles to check that these make sense:"
   ]
  },
  {
   "cell_type": "code",
   "execution_count": 6,
   "metadata": {
    "collapsed": false
   },
   "outputs": [
    {
     "data": {
      "image/png": "[encoded data removed]",
      "text/plain": [
       "<matplotlib.figure.Figure at 0x10d0ae090>"
      ]
     },
     "metadata": {},
     "output_type": "display_data"
    }
   ],
   "source": [
    "theta = linspace(0,2*pi,500)\n",
    "x = 3*cos(theta)\n",
    "y = 3*sin(theta)\n",
    "plot(x,y,'b')\n",
    "x = 1 + 2*cos(theta)\n",
    "y = -2 + 2*sin(theta)\n",
    "plot(x,y,'b')\n",
    "xlimits = [-4,4]\n",
    "ylimits = [-4,4]\n",
    "plot(xlimits, [0,0],'k')\n",
    "plot([0,0], ylimits,'k')\n",
    "\n",
    "plot([xa[0],xb[0]], [xa[1],xb[1]], 'ro')\n",
    "xlim(xlimits)\n",
    "ylim(ylimits)\n",
    "axis('scaled');\n",
    "savefig('circles.png',bbox_inches='tight')"
   ]
  },
  {
   "cell_type": "code",
   "execution_count": null,
   "metadata": {
    "collapsed": true
   },
   "outputs": [],
   "source": []
  }
 ],
 "metadata": {
  "kernelspec": {
   "display_name": "Python 3",
   "language": "python",
   "name": "python3"
  },
  "language_info": {
   "codemirror_mode": {
    "name": "ipython",
    "version": 3
   },
   "file_extension": ".py",
   "mimetype": "text/x-python",
   "name": "python",
   "nbconvert_exporter": "python",
   "pygments_lexer": "ipython3",
   "version": "3.7.0"
  },
  "widgets": {
   "state": {},
   "version": "1.1.2"
  }
 },
 "nbformat": 4,
 "nbformat_minor": 2
}
