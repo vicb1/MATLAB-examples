{
 "cells": [
  {
   "cell_type": "markdown",
   "metadata": {},
   "source": [
    "# Homework 1, Problem 5\n"
   ]
  },
  {
   "cell_type": "code",
   "execution_count": 1,
   "metadata": {
    "collapsed": false
   },
   "outputs": [
    {
     "name": "stdout",
     "output_type": "stream",
     "text": [
      "Populating the interactive namespace from numpy and matplotlib\n"
     ]
    }
   ],
   "source": [
    "% pylab inline"
   ]
  },
  {
   "cell_type": "code",
   "execution_count": 2,
   "metadata": {
    "collapsed": false
   },
   "outputs": [],
   "source": [
    "def plot_matrix(C):\n",
    "    \n",
    "    imshow(C, cmap='Greys', interpolation='none')\n",
    "\n",
    "    # Add grid lines for clarity:\n",
    "    x = linspace(-0.5,9.5,11)\n",
    "    y = x\n",
    "    [X,Y] = meshgrid(x,y)\n",
    "    plot(X.T,Y.T,'r');\n",
    "    plot(X,Y,'r');\n",
    "    axis('scaled')\n",
    "    axis([-0.5, 9.5, -0.5, 9.5])"
   ]
  },
  {
   "cell_type": "markdown",
   "metadata": {},
   "source": [
    "## Problem 5a."
   ]
  },
  {
   "cell_type": "code",
   "execution_count": 3,
   "metadata": {
    "collapsed": false
   },
   "outputs": [
    {
     "name": "stdout",
     "output_type": "stream",
     "text": [
      "[[0 0 0 0 0 0 0 0 0 0]\n",
      " [0 0 0 0 0 0 0 0 0 0]\n",
      " [0 1 1 1 1 0 0 0 0 0]\n",
      " [0 1 1 1 1 0 0 0 0 0]\n",
      " [0 1 1 1 1 0 0 0 0 0]\n",
      " [0 0 0 0 0 0 0 0 0 0]\n",
      " [0 0 0 0 0 0 0 0 0 0]\n",
      " [0 0 0 0 0 0 0 0 0 0]\n",
      " [0 0 0 0 0 0 0 0 0 0]\n",
      " [0 0 0 0 0 0 0 0 0 0]]\n"
     ]
    },
    {
     "data": {
      "image/png": "[encoded data removed]",
      "text/plain": [
       "<matplotlib.figure.Figure at 0x10cf0c410>"
      ]
     },
     "metadata": {},
     "output_type": "display_data"
    }
   ],
   "source": [
    "a1 = array([[0, 0, 1, 1, 1, 0, 0, 0, 0, 0]]).T\n",
    "b1 = array([[0, 1, 1, 1, 1, 0, 0, 0, 0, 0]]).T\n",
    "A1 = dot(a1,b1.T)\n",
    "\n",
    "print A1\n",
    "plot_matrix(A1)"
   ]
  },
  {
   "cell_type": "markdown",
   "metadata": {},
   "source": [
    "## Problem 5b.\n",
    "\n",
    "Here are the vectors $a_2$ and $b_2$ and the matrix they generate:"
   ]
  },
  {
   "cell_type": "code",
   "execution_count": 4,
   "metadata": {
    "collapsed": false
   },
   "outputs": [
    {
     "name": "stdout",
     "output_type": "stream",
     "text": [
      "[[0 0 0 0 0 0 0 0 0 0]\n",
      " [0 0 0 0 0 0 0 0 0 0]\n",
      " [0 0 0 0 0 0 0 0 0 0]\n",
      " [0 0 0 1 1 1 1 1 0 0]\n",
      " [0 0 0 1 1 1 1 1 0 0]\n",
      " [0 0 0 1 1 1 1 1 0 0]\n",
      " [0 0 0 1 1 1 1 1 0 0]\n",
      " [0 0 0 1 1 1 1 1 0 0]\n",
      " [0 0 0 1 1 1 1 1 0 0]\n",
      " [0 0 0 0 0 0 0 0 0 0]]\n"
     ]
    },
    {
     "data": {
      "image/png": "[encoded data removed]",
      "text/plain": [
       "<matplotlib.figure.Figure at 0x10d2ad290>"
      ]
     },
     "metadata": {},
     "output_type": "display_data"
    }
   ],
   "source": [
    "a2 = array([[0, 0, 0, 1, 1, 1, 1, 1, 1, 0]]).T\n",
    "b2 = array([[0, 0, 0, 1, 1, 1, 1, 1, 0, 0]]).T\n",
    "A2 = dot(a2,b2.T)\n",
    "\n",
    "print A2\n",
    "plot_matrix(A2)"
   ]
  },
  {
   "cell_type": "code",
   "execution_count": 5,
   "metadata": {
    "collapsed": false
   },
   "outputs": [
    {
     "name": "stdout",
     "output_type": "stream",
     "text": [
      "[[ 0.   0.   0.   0.   0.   0.   0.   0.   0.   0. ]\n",
      " [ 0.   0.   0.   0.   0.   0.   0.   0.   0.   0. ]\n",
      " [ 0.   0.3  0.3  0.3  0.3  0.   0.   0.   0.   0. ]\n",
      " [ 0.   0.3  0.3  0.9  0.9  0.6  0.6  0.6  0.   0. ]\n",
      " [ 0.   0.3  0.3  0.9  0.9  0.6  0.6  0.6  0.   0. ]\n",
      " [ 0.   0.   0.   0.6  0.6  0.6  0.6  0.6  0.   0. ]\n",
      " [ 0.   0.   0.   0.6  0.6  0.6  0.6  0.6  0.   0. ]\n",
      " [ 0.   0.   0.   0.6  0.6  0.6  0.6  0.6  0.   0. ]\n",
      " [ 0.   0.   0.   0.6  0.6  0.6  0.6  0.6  0.   0. ]\n",
      " [ 0.   0.   0.   0.   0.   0.   0.   0.   0.   0. ]]\n"
     ]
    },
    {
     "data": {
      "image/png": "[encoded data removed]",
      "text/plain": [
       "<matplotlib.figure.Figure at 0x10f7c9d90>"
      ]
     },
     "metadata": {},
     "output_type": "display_data"
    }
   ],
   "source": [
    "C = 0.3*A1 + 0.6*A2\n",
    "print C\n",
    "plot_matrix(C)"
   ]
  },
  {
   "cell_type": "markdown",
   "metadata": {},
   "source": [
    "## Problem 5c"
   ]
  },
  {
   "cell_type": "code",
   "execution_count": 6,
   "metadata": {
    "collapsed": true
   },
   "outputs": [],
   "source": [
    "[U,Sigma,Vstar] = svd(C)"
   ]
  },
  {
   "cell_type": "markdown",
   "metadata": {},
   "source": [
    "Note that `Sigma` is returned as a 1-dimensional array of the singular values (not a diagonal matrix). Only the first two are above the \"rounding error\" level of about `1e-16`:"
   ]
  },
  {
   "cell_type": "code",
   "execution_count": 7,
   "metadata": {
    "collapsed": false
   },
   "outputs": [
    {
     "name": "stdout",
     "output_type": "stream",
     "text": [
      "Sigma =\n",
      "[  3.57082802e+00   7.54444992e-01   1.74499929e-16   3.39337834e-17\n",
      "   9.48458174e-34   0.00000000e+00   0.00000000e+00   0.00000000e+00\n",
      "   0.00000000e+00   0.00000000e+00]\n"
     ]
    }
   ],
   "source": [
    "print 'Sigma =\\n', Sigma"
   ]
  },
  {
   "cell_type": "code",
   "execution_count": 8,
   "metadata": {
    "collapsed": false
   },
   "outputs": [
    {
     "name": "stdout",
     "output_type": "stream",
     "text": [
      "u1 = \n",
      "[[  0.00000000e+00]\n",
      " [ -2.22044605e-16]\n",
      " [ -9.76098267e-02]\n",
      " [ -4.68758068e-01]\n",
      " [ -4.68758068e-01]\n",
      " [ -3.71148241e-01]\n",
      " [ -3.71148241e-01]\n",
      " [ -3.71148241e-01]\n",
      " [ -3.71148241e-01]\n",
      " [  0.00000000e+00]]\n"
     ]
    }
   ],
   "source": [
    "u1 = U[:,0:1]  # first column as a 10 by 1 column vector\n",
    "print 'u1 = \\n', u1"
   ]
  },
  {
   "cell_type": "code",
   "execution_count": 9,
   "metadata": {
    "collapsed": false
   },
   "outputs": [
    {
     "name": "stdout",
     "output_type": "stream",
     "text": [
      "v1 = \n",
      "[[ 0.        ]\n",
      " [-0.0869652 ]\n",
      " [-0.0869652 ]\n",
      " [-0.49394797]\n",
      " [-0.49394797]\n",
      " [-0.40698277]\n",
      " [-0.40698277]\n",
      " [-0.40698277]\n",
      " [ 0.        ]\n",
      " [ 0.        ]]\n"
     ]
    }
   ],
   "source": [
    "V = Vstar.T    #  V is real so adjoint of Vstar equals the transpose Vstar.T\n",
    "v1 = V[:,0:1]\n",
    "print 'v1 = \\n', v1"
   ]
  },
  {
   "cell_type": "markdown",
   "metadata": {},
   "source": [
    "Compute the best rank-1 approximation $C_1 = \\sigma_1u_1v_1^T$ and the best rank-2 approximation $C_2 = \\sigma_1u_1v_1^T + \\sigma_2u_2v_2^T$ and then check that this latter matrix agrees with the original $C$ to within rounding error:"
   ]
  },
  {
   "cell_type": "code",
   "execution_count": 10,
   "metadata": {
    "collapsed": false
   },
   "outputs": [
    {
     "name": "stdout",
     "output_type": "stream",
     "text": [
      "The maximum element in C-C2 is of magnitude  9.02056207508e-16\n"
     ]
    }
   ],
   "source": [
    "u2 = U[:,1:2]\n",
    "\n",
    "v2 = V[:,1:2]\n",
    "C1 = Sigma[0]*dot(u1,v1.T)       # best rank-1 approximation\n",
    "C2 = C1 + Sigma[1]*dot(u2,v2.T)  # best rank-2 approximation\n",
    "\n",
    "Cdiff = C - C2\n",
    "print \"The maximum element in C-C2 is of magnitude \", abs(Cdiff).max()\n"
   ]
  },
  {
   "cell_type": "markdown",
   "metadata": {},
   "source": [
    "## Problem 5d"
   ]
  },
  {
   "cell_type": "code",
   "execution_count": 11,
   "metadata": {
    "collapsed": false
   },
   "outputs": [
    {
     "data": {
      "image/png": "[encoded data removed]",
      "text/plain": [
       "<matplotlib.figure.Figure at 0x10f733a90>"
      ]
     },
     "metadata": {},
     "output_type": "display_data"
    }
   ],
   "source": [
    "plot_matrix(C1)"
   ]
  },
  {
   "cell_type": "markdown",
   "metadata": {},
   "source": [
    "Note there is a faint gray band of cells (corresponding to small elements in $C_1$) that doesn't show up in the Matlab results if you used the colormap suggested in the problem since it only had 11 levels fo gray!"
   ]
  },
  {
   "cell_type": "markdown",
   "metadata": {},
   "source": [
    "## Problem 5e.\n"
   ]
  },
  {
   "cell_type": "code",
   "execution_count": 12,
   "metadata": {
    "collapsed": false
   },
   "outputs": [
    {
     "name": "stdout",
     "output_type": "stream",
     "text": [
      "The inner product of u1 and u2 is  [[  1.11022302e-16]]\n"
     ]
    }
   ],
   "source": [
    "print \"The inner product of u1 and u2 is \", dot(u1.T, u2)"
   ]
  },
  {
   "cell_type": "code",
   "execution_count": 13,
   "metadata": {
    "collapsed": false
   },
   "outputs": [
    {
     "name": "stdout",
     "output_type": "stream",
     "text": [
      "[[  0.00000000e+00   0.00000000e+00   0.00000000e+00   0.00000000e+00]\n",
      " [ -2.22044605e-16   0.00000000e+00   0.00000000e+00   0.00000000e+00]\n",
      " [ -9.76098267e-02  -6.47335887e-01   1.00000000e+00   0.00000000e+00]\n",
      " [ -4.68758068e-01  -3.70686836e-01   1.00000000e+00   1.00000000e+00]\n",
      " [ -4.68758068e-01  -3.70686836e-01   1.00000000e+00   1.00000000e+00]\n",
      " [ -3.71148241e-01   2.76649050e-01   0.00000000e+00   1.00000000e+00]\n",
      " [ -3.71148241e-01   2.76649050e-01   0.00000000e+00   1.00000000e+00]\n",
      " [ -3.71148241e-01   2.76649050e-01   0.00000000e+00   1.00000000e+00]\n",
      " [ -3.71148241e-01   2.76649050e-01   0.00000000e+00   1.00000000e+00]\n",
      " [  0.00000000e+00   0.00000000e+00   0.00000000e+00   0.00000000e+00]]\n"
     ]
    }
   ],
   "source": [
    "M = hstack((u1,u2,a1,a2))\n",
    "print M"
   ]
  },
  {
   "cell_type": "code",
   "execution_count": 14,
   "metadata": {
    "collapsed": false
   },
   "outputs": [
    {
     "name": "stdout",
     "output_type": "stream",
     "text": [
      "The rank of the matrix M is  2\n"
     ]
    }
   ],
   "source": [
    "print \"The rank of the matrix M is \", matrix_rank(M)"
   ]
  },
  {
   "cell_type": "markdown",
   "metadata": {},
   "source": [
    "The vectors $u_1$ and $u_2$ are orthogonal so they span a 2-dimensional space $S_1$, and $a_1$ and $a_2$ are linearly independent and span a 2-dimensional space $S_2$ (otherwise $C$ would not have 2 nonzero singular values).  The fact that the matrix $M$ has rank 2 means its range is a 2-dimensional space that must contain both $S_1$ and $S_2$, and so these spaces must all be the same. Alternatively we see that $a_1$ and $a_2$ must be in the span of $u_1$ and $u_2$ and vice versa."
   ]
  }
 ],
 "metadata": {
  "kernelspec": {
   "display_name": "Python 3",
   "language": "python",
   "name": "python3"
  },
  "language_info": {
   "codemirror_mode": {
    "name": "ipython",
    "version": 3
   },
   "file_extension": ".py",
   "mimetype": "text/x-python",
   "name": "python",
   "nbconvert_exporter": "python",
   "pygments_lexer": "ipython3",
   "version": "3.7.0"
  },
  "widgets": {
   "state": {},
   "version": "1.1.2"
  }
 },
 "nbformat": 4,
 "nbformat_minor": 2
}
