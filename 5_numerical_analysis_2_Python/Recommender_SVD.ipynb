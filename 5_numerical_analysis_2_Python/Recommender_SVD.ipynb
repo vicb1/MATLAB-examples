{
 "cells": [
  {
   "cell_type": "markdown",
   "metadata": {},
   "source": [
    "# Recommender systems via the SVD\n",
    "\n",
    "This is a simple example of how the SVD comes up in \"recommender systems\" or [\"collaborative filters\"](https://en.wikipedia.org/wiki/Collaborative_filtering) such as the \"Netflix problem\" of determining how best to recommend movies to users, so called because of the [Netflix prize](https://en.wikipedia.org/wiki/Netflix_Prize).  \n",
    "\n",
    "This notebook is just scratching the surface. The class [AMath 582](http://www.washington.edu/students/crscat/appmath.html#amath582), for example, covers some applications of the SVD in more detail. "
   ]
  },
  {
   "cell_type": "code",
   "execution_count": 1,
   "metadata": {
    "collapsed": false
   },
   "outputs": [
    {
     "name": "stdout",
     "output_type": "stream",
     "text": [
      "Populating the interactive namespace from numpy and matplotlib\n"
     ]
    }
   ],
   "source": [
    "%pylab inline"
   ]
  },
  {
   "cell_type": "markdown",
   "metadata": {},
   "source": [
    "Define a matrix in which rows correspond to movies, columns to users and assume ratings are $-2, -1$ (dislike) or $1, 2$ (like) with 0 indicating missing data.  For example:"
   ]
  },
  {
   "cell_type": "code",
   "execution_count": 2,
   "metadata": {
    "collapsed": false
   },
   "outputs": [
    {
     "name": "stdout",
     "output_type": "stream",
     "text": [
      "[[ 2 -2  1  0 -1]\n",
      " [ 2 -1  0 -2  0]\n",
      " [ 0  2 -1  0  0]\n",
      " [-1  2  0  1  2]]\n"
     ]
    }
   ],
   "source": [
    "A = array([[2,-2,1,0,-1],\n",
    "           [2,-1,0,-2,0],\n",
    "           [0,2,-1,0,0],\n",
    "           [-1,2,0,1,2]])\n",
    "print A"
   ]
  },
  {
   "cell_type": "markdown",
   "metadata": {},
   "source": [
    "Compute the SVD of $A = U\\Sigma V^*$:"
   ]
  },
  {
   "cell_type": "code",
   "execution_count": 3,
   "metadata": {
    "collapsed": true
   },
   "outputs": [],
   "source": [
    "(U,S,Vstar) = svd(A)"
   ]
  },
  {
   "cell_type": "markdown",
   "metadata": {},
   "source": [
    "If we make the simple assumption that there is variation in movies along a single axis and that people tend to either like or dislike movies depending on their location along this axis, then we are assuming $A$ is a rank 1 matrix.   So compute $A_1$, the best rank-1 approximation to $A$:"
   ]
  },
  {
   "cell_type": "code",
   "execution_count": 4,
   "metadata": {
    "collapsed": false
   },
   "outputs": [
    {
     "name": "stdout",
     "output_type": "stream",
     "text": [
      "[[ 1.597827   -2.0246221   0.53133767 -0.8986858  -1.03304241]\n",
      " [ 1.27286102 -1.61285456  0.42327424 -0.71591113 -0.82294229]\n",
      " [-0.83082599  1.05274769 -0.27628094  0.46729184  0.53715358]\n",
      " [-1.56201597  1.9792456  -0.51942916  0.87854416  1.00988952]]\n"
     ]
    }
   ],
   "source": [
    "A1 = dot(U[:,0:1], S[0]*Vstar[0:1,:])\n",
    "print A1"
   ]
  },
  {
   "cell_type": "markdown",
   "metadata": {},
   "source": [
    "This has filled in the elements in such a way that the sign of each element gives some indication of whether a given user will like a given movie.\n",
    "\n",
    "This matrix is $A_1 = \\sigma_1 u_1 v_1^*$ and the first left singular vector $u_1$ tells us something about the movies under this rank-1 assumption: elements of $u_1$ with the same sign correspond to similar movies that are either liked or disliked as a group by each user:"
   ]
  },
  {
   "cell_type": "code",
   "execution_count": 5,
   "metadata": {
    "collapsed": false
   },
   "outputs": [
    {
     "data": {
      "text/plain": [
       "array([[-0.59124496],\n",
       "       [-0.47099759],\n",
       "       [ 0.30743108],\n",
       "       [ 0.57799378]])"
      ]
     },
     "execution_count": 5,
     "metadata": {},
     "output_type": "execute_result"
    }
   ],
   "source": [
    "U[:,0:1]"
   ]
  },
  {
   "cell_type": "markdown",
   "metadata": {},
   "source": [
    "The right singular vector $v_1$ tells us something about users.  Elements with the same sign correspond to users with similar taste, while elements with opposite sign correspond to users with opposite taste:"
   ]
  },
  {
   "cell_type": "code",
   "execution_count": 6,
   "metadata": {
    "collapsed": false
   },
   "outputs": [
    {
     "data": {
      "text/plain": [
       "array([[-0.53834364],\n",
       "       [ 0.68214046],\n",
       "       [-0.17901954],\n",
       "       [ 0.30278734],\n",
       "       [ 0.34805509]])"
      ]
     },
     "execution_count": 6,
     "metadata": {},
     "output_type": "execute_result"
    }
   ],
   "source": [
    "Vstar[0:1,:].T"
   ]
  },
  {
   "cell_type": "markdown",
   "metadata": {},
   "source": [
    "### Colorful representation of these matrices:"
   ]
  },
  {
   "cell_type": "code",
   "execution_count": 7,
   "metadata": {
    "collapsed": false
   },
   "outputs": [
    {
     "data": {
      "text/plain": [
       "<matplotlib.colorbar.Colorbar at 0x10fb09450>"
      ]
     },
     "execution_count": 7,
     "metadata": {},
     "output_type": "execute_result"
    },
    {
     "data": {
      "image/png": "[encoded data removed]",
      "text/plain": [
       "<matplotlib.figure.Figure at 0x105f35250>"
      ]
     },
     "metadata": {},
     "output_type": "display_data"
    }
   ],
   "source": [
    "figure(figsize=(12,5))\n",
    "subplot(1,2,1)\n",
    "pcolor(flipud(array(A)), cmap=cm.RdYlBu, edgecolors='k')\n",
    "xlabel('People')\n",
    "ylabel('Movies')\n",
    "xticks([])\n",
    "yticks([])\n",
    "title('Original data')\n",
    "colorbar()\n",
    "\n",
    "subplot(1,2,2)\n",
    "pcolor(flipud(array(A1)), cmap=cm.RdYlBu, edgecolors='k')\n",
    "xlabel('People')\n",
    "ylabel('Movies')\n",
    "xticks([])\n",
    "yticks([])\n",
    "title('Rank 1 approximation')\n",
    "colorbar()"
   ]
  },
  {
   "cell_type": "markdown",
   "metadata": {},
   "source": [
    "For this simple example a rank 1 matrix does a pretty good job -- the yellow squares on the left (missing values) have been filled in with colors hinting at whether each user will like a movie (bluish) or not (redish).  \n",
    "\n",
    "For more complicated data with many different genres of movies there might be more factors that come into peoples' tastes and the full matrix (if everyone rated every movie) would not be well approximated by a rank 1 matrix, but might be expected to be approximated by a low rank matrix that explains the \"principle components\" of peoples' tastes.  The SVD is closely related to [principle component analysis](https://en.wikipedia.org/wiki/Principal_component_analysis) (PCA).\n",
    "\n",
    "We can get an idea of the relative importance of other variables by seeing how quickly the singular values decay:"
   ]
  },
  {
   "cell_type": "code",
   "execution_count": 8,
   "metadata": {
    "collapsed": false
   },
   "outputs": [
    {
     "name": "stdout",
     "output_type": "stream",
     "text": [
      "Singular values are:  [ 5.01998843  2.24078405  1.56039343  1.15921325]\n"
     ]
    }
   ],
   "source": [
    "print \"Singular values are: \",S"
   ]
  },
  {
   "cell_type": "markdown",
   "metadata": {},
   "source": [
    "## Matrix completion\n",
    "\n",
    "A better way to solve the recommender problem is to view it as a problem of \"matrix completion\".  Given a matrix $A$ that has some known elements and some missing elements, we want to fill in all the missing elements to obtain a matrix $M$ that can be used to recommend a movie.  The matrix completion problem is to fill in the missing values in such a way that the matrix $M$ has minimal rank.  This is a much harder optimization problem with no simple algorithm.  See for example the [wikipedia page on Matrix completion](https://en.wikipedia.org/wiki/Matrix_completion)."
   ]
  },
  {
   "cell_type": "code",
   "execution_count": null,
   "metadata": {
    "collapsed": true
   },
   "outputs": [],
   "source": []
  }
 ],
 "metadata": {
  "kernelspec": {
   "display_name": "Python 3",
   "language": "python",
   "name": "python3"
  },
  "language_info": {
   "codemirror_mode": {
    "name": "ipython",
    "version": 3
   },
   "file_extension": ".py",
   "mimetype": "text/x-python",
   "name": "python",
   "nbconvert_exporter": "python",
   "pygments_lexer": "ipython3",
   "version": "3.7.0"
  },
  "widgets": {
   "state": {},
   "version": "1.1.2"
  }
 },
 "nbformat": 4,
 "nbformat_minor": 2
}
