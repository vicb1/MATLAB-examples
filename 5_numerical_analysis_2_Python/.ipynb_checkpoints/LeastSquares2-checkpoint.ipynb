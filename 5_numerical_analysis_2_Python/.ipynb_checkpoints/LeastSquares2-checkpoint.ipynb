{
 "cells": [
  {
   "cell_type": "markdown",
   "metadata": {},
   "source": [
    "# Least squares -- polynomial fitting\n",
    "\n",
    "AMath 584, Autumn 2016"
   ]
  },
  {
   "cell_type": "code",
   "execution_count": 1,
   "metadata": {
    "collapsed": true
   },
   "outputs": [],
   "source": [
    "%matplotlib inline"
   ]
  },
  {
   "cell_type": "code",
   "execution_count": 2,
   "metadata": {
    "collapsed": true
   },
   "outputs": [],
   "source": [
    "from pylab import *"
   ]
  },
  {
   "cell_type": "markdown",
   "metadata": {},
   "source": [
    "## Define a function to use for generating sample data"
   ]
  },
  {
   "cell_type": "code",
   "execution_count": 3,
   "metadata": {
    "collapsed": false
   },
   "outputs": [
    {
     "data": {
      "text/plain": [
       "[<matplotlib.lines.Line2D at 0x10d11bd50>]"
      ]
     },
     "execution_count": 3,
     "metadata": {},
     "output_type": "execute_result"
    },
    {
     "data": {
      "image/png": "[encoded data removed]",
      "text/plain": [
       "<matplotlib.figure.Figure at 0x10d104110>"
      ]
     },
     "metadata": {},
     "output_type": "display_data"
    }
   ],
   "source": [
    "def f(t):\n",
    "    return sin(6*t)*exp(0.5*t)\n",
    "\n",
    "# Fine samples for plotting smooth function:\n",
    "tfine = linspace(-1,2,1000)\n",
    "yfine = f(tfine)\n",
    "plot(tfine, yfine, 'b')\n",
    "\n",
    "# Discrete data points for fitting:\n",
    "t = linspace(0,1,11)\n",
    "y = f(t)\n",
    "plot(t,y,'bo')"
   ]
  },
  {
   "cell_type": "markdown",
   "metadata": {},
   "source": [
    "### Least square fit by polynomial of degree n-1\n",
    "\n",
    "First we set up the matrix $A$:"
   ]
  },
  {
   "cell_type": "code",
   "execution_count": 4,
   "metadata": {
    "collapsed": false
   },
   "outputs": [
    {
     "name": "stdout",
     "output_type": "stream",
     "text": [
      "[[ 1.    0.    0.  ]\n",
      " [ 1.    0.1   0.01]\n",
      " [ 1.    0.2   0.04]\n",
      " [ 1.    0.3   0.09]\n",
      " [ 1.    0.4   0.16]\n",
      " [ 1.    0.5   0.25]\n",
      " [ 1.    0.6   0.36]\n",
      " [ 1.    0.7   0.49]\n",
      " [ 1.    0.8   0.64]\n",
      " [ 1.    0.9   0.81]\n",
      " [ 1.    1.    1.  ]]\n"
     ]
    }
   ],
   "source": [
    "m = len(y)\n",
    "n = 3\n",
    "A = ones((m,n))\n",
    "for j in range(1,n):\n",
    "    A[:,j] = t**j\n",
    "print A"
   ]
  },
  {
   "cell_type": "markdown",
   "metadata": {},
   "source": [
    "### Compute QR factorization using numpy function\n",
    "\n",
    "This uses Householder reflectors to compute the factorization."
   ]
  },
  {
   "cell_type": "code",
   "execution_count": 5,
   "metadata": {
    "collapsed": false
   },
   "outputs": [
    {
     "name": "stdout",
     "output_type": "stream",
     "text": [
      "Q = \n",
      "[[ -3.01511345e-01  -4.76731295e-01   5.12091556e-01]\n",
      " [ -3.01511345e-01  -3.81385036e-01   2.04836623e-01]\n",
      " [ -3.01511345e-01  -2.86038777e-01  -3.41394371e-02]\n",
      " [ -3.01511345e-01  -1.90692518e-01  -2.04836623e-01]\n",
      " [ -3.01511345e-01  -9.53462589e-02  -3.07254934e-01]\n",
      " [ -3.01511345e-01  -4.16333634e-17  -3.41394371e-01]\n",
      " [ -3.01511345e-01   9.53462589e-02  -3.07254934e-01]\n",
      " [ -3.01511345e-01   1.90692518e-01  -2.04836623e-01]\n",
      " [ -3.01511345e-01   2.86038777e-01  -3.41394371e-02]\n",
      " [ -3.01511345e-01   3.81385036e-01   2.04836623e-01]\n",
      " [ -3.01511345e-01   4.76731295e-01   5.12091556e-01]]\n",
      "R = \n",
      "[[-3.31662479 -1.6583124  -1.16081868]\n",
      " [ 0.          1.04880885  1.04880885]\n",
      " [ 0.          0.          0.29291637]]\n"
     ]
    }
   ],
   "source": [
    "Q,R = qr(A)\n",
    "print \"Q = \\n\",Q\n",
    "print \"R = \\n\",R"
   ]
  },
  {
   "cell_type": "markdown",
   "metadata": {},
   "source": [
    "You can get info about this function via:"
   ]
  },
  {
   "cell_type": "code",
   "execution_count": 6,
   "metadata": {
    "collapsed": true
   },
   "outputs": [],
   "source": [
    "qr?"
   ]
  },
  {
   "cell_type": "markdown",
   "metadata": {},
   "source": [
    "Solve the least squares problem $Ac = y$ by first setting $b = Q^Ty$ and then solving $Rc = b$:"
   ]
  },
  {
   "cell_type": "code",
   "execution_count": 7,
   "metadata": {
    "collapsed": false
   },
   "outputs": [
    {
     "name": "stdout",
     "output_type": "stream",
     "text": [
      "[ 0.70993712 -0.55112488 -1.56095715]\n"
     ]
    }
   ],
   "source": [
    "b = dot(Q.T, y)\n",
    "c = solve(R,b)\n",
    "print c"
   ]
  },
  {
   "cell_type": "markdown",
   "metadata": {},
   "source": [
    "The polynomial is $p(t) = c_0 + c_1t + c_2t^2 + \\cdots + c_{n-1}t^{n-1}$.\n",
    "\n",
    "Define a function that evaluates $p(t)$ (and also takes the coefficients `c` as input).\n",
    "\n",
    "We do this using \"Horner's method\":\n",
    "$$\n",
    "p(t) = (\\cdots((c_{n-1}t + c_{n-2})t + c_{n-2})t + \\cdots + c_1)t + c_0\n",
    "$$\n",
    "This is just a rearrangement but takes fewer arithmetic operations and can be slightly more accurate."
   ]
  },
  {
   "cell_type": "code",
   "execution_count": 8,
   "metadata": {
    "collapsed": true
   },
   "outputs": [],
   "source": [
    "def p(t,c):\n",
    "    \"\"\"\n",
    "    Evaluate p(t), where p is the polynomial defined by coefficients c.\n",
    "    \"\"\"\n",
    "    degree = len(c) - 1\n",
    "    p = c[degree]\n",
    "    for j in range(degree-1,-1,-1):\n",
    "        p = p*t + c[j]\n",
    "    return p"
   ]
  },
  {
   "cell_type": "markdown",
   "metadata": {},
   "source": [
    "### Compare the fit (red) with the original function that provided the data (blue)"
   ]
  },
  {
   "cell_type": "code",
   "execution_count": 9,
   "metadata": {
    "collapsed": false
   },
   "outputs": [
    {
     "data": {
      "text/plain": [
       "[<matplotlib.lines.Line2D at 0x10fa8bb10>]"
      ]
     },
     "execution_count": 9,
     "metadata": {},
     "output_type": "execute_result"
    },
    {
     "data": {
      "image/png": "[encoded data removed]",
      "text/plain": [
       "<matplotlib.figure.Figure at 0x105487d10>"
      ]
     },
     "metadata": {},
     "output_type": "display_data"
    }
   ],
   "source": [
    "yfit = p(t,c)\n",
    "\n",
    "plot(tfine, yfine, 'b')\n",
    "plot(t,y,'bo')\n",
    "\n",
    "plot(t, yfit, 'ro')\n",
    "plot(tfine, p(tfine,c), 'r')"
   ]
  },
  {
   "cell_type": "markdown",
   "metadata": {},
   "source": [
    "Obviously a parabola ($n=3$) doesn't fit the data very well. \n",
    "\n",
    "Try larger values of $n$ in the cells above."
   ]
  },
  {
   "cell_type": "markdown",
   "metadata": {},
   "source": [
    "## Illustration of instability of classical Gram-Schmidt\n",
    "\n",
    "First set up and solve a bigger problem with the approach above.\n",
    "\n",
    "Note that if $m=n$ then there should be an exact solution to $Ac=y$."
   ]
  },
  {
   "cell_type": "code",
   "execution_count": 10,
   "metadata": {
    "collapsed": false
   },
   "outputs": [
    {
     "name": "stdout",
     "output_type": "stream",
     "text": [
      "Residual y - Ac has norm 1.67505e-14\n"
     ]
    },
    {
     "data": {
      "image/png": "[encoded data removed]",
      "text/plain": [
       "<matplotlib.figure.Figure at 0x103ecfa50>"
      ]
     },
     "metadata": {},
     "output_type": "display_data"
    }
   ],
   "source": [
    "m = 20\n",
    "t = linspace(0,1,m)\n",
    "y = f(t)\n",
    "\n",
    "n = 20\n",
    "A = ones((m,n))\n",
    "for j in range(1,n):\n",
    "    A[:,j] = t**j\n",
    "Q,R = qr(A)\n",
    "b = dot(Q.T, y)\n",
    "c = solve(R,b)\n",
    "\n",
    "yfit = p(t,c)\n",
    "plot(t, yfit, 'ro')\n",
    "plot(tfine, p(tfine,c), 'r')\n",
    "plot(tfine, yfine, 'b')\n",
    "\n",
    "ylim(-3,2)\n",
    "\n",
    "print \"Residual y - Ac has norm %g\" % norm(y - dot(A,c),2)"
   ]
  },
  {
   "cell_type": "markdown",
   "metadata": {},
   "source": [
    "### Classical Gram-Schmidt"
   ]
  },
  {
   "cell_type": "code",
   "execution_count": 11,
   "metadata": {
    "collapsed": true
   },
   "outputs": [],
   "source": [
    "def clgs(A):\n",
    "    \"\"\"\n",
    "    Classical Gram-Schmidt for real matrices A.\n",
    "    \"\"\"\n",
    "    \n",
    "    # Force A to have data of type float:\n",
    "    # (in case user initializes with integers):\n",
    "    A = array(A, dtype=float)  \n",
    "    \n",
    "    # Initialize Q, R of correct shapes, values filled in later:\n",
    "    m,n = shape(A)\n",
    "    Q = zeros((m,n))\n",
    "    R = zeros((n,n))\n",
    "    Vj = zeros(m)  # to hold v_j in each iteration\n",
    "    \n",
    "    for j in range(n):\n",
    "        Vj[:] = A[:,j]   # initialize Vj to jth column of A\n",
    "        for i in range(j):\n",
    "            R[i,j]= inner(Q[:,i],A[:,j])\n",
    "            Vj = Vj - R[i,j]*Q[:,i]\n",
    "        R[j,j] = norm(Vj,2)\n",
    "        Q[:,j] = Vj/R[j,j]\n",
    "            \n",
    "    return Q,R"
   ]
  },
  {
   "cell_type": "code",
   "execution_count": 12,
   "metadata": {
    "collapsed": false
   },
   "outputs": [
    {
     "name": "stdout",
     "output_type": "stream",
     "text": [
      "Residual y - Ac has norm 1.67505e-14\n"
     ]
    },
    {
     "data": {
      "image/png": "[encoded data removed]",
      "text/plain": [
       "<matplotlib.figure.Figure at 0x10faad050>"
      ]
     },
     "metadata": {},
     "output_type": "display_data"
    }
   ],
   "source": [
    "m = 20\n",
    "t = linspace(0,1,m)\n",
    "y = f(t)\n",
    "\n",
    "n = 20\n",
    "A = ones((m,n))\n",
    "for j in range(1,n):\n",
    "    A[:,j] = t**j\n",
    "    \n",
    "Q_gs,R_gs = clgs(A)\n",
    "b = dot(Q_gs.T, y)\n",
    "c_gs = solve(R_gs,b)\n",
    "\n",
    "yfit = p(t,c_gs)\n",
    "plot(t, yfit, 'ro')\n",
    "plot(tfine, p(tfine,c_gs), 'r')\n",
    "plot(tfine, yfine, 'b')\n",
    "\n",
    "ylim(-3,2)\n",
    "\n",
    "print \"Residual y - Ac has norm %g\" % norm(y - dot(A,c),2)"
   ]
  },
  {
   "cell_type": "markdown",
   "metadata": {},
   "source": [
    "The residual is still small, but notice that the polynomial looks very different away from the interpolation points!\n",
    "\n",
    "Plot the difference in coefficient vectors `c` obtained from `qr` and `c_gs` obtained by Gram-Schmidt:"
   ]
  },
  {
   "cell_type": "code",
   "execution_count": 13,
   "metadata": {
    "collapsed": false
   },
   "outputs": [
    {
     "data": {
      "text/plain": [
       "[<matplotlib.lines.Line2D at 0x10ff89410>]"
      ]
     },
     "execution_count": 13,
     "metadata": {},
     "output_type": "execute_result"
    },
    {
     "data": {
      "image/png": "[encoded data removed]",
      "text/plain": [
       "<matplotlib.figure.Figure at 0x10f99e910>"
      ]
     },
     "metadata": {},
     "output_type": "display_data"
    }
   ],
   "source": [
    "plot(c-c_gs,'o')"
   ]
  },
  {
   "cell_type": "markdown",
   "metadata": {},
   "source": [
    "## Let's also look at the errors the factorization\n",
    "\n",
    "Note that for the $QR$ factorization found with the `qr` method, $Q^TQ$ is nearly equal to the identity matrix and $QR$ is nearly equal to $A$:"
   ]
  },
  {
   "cell_type": "code",
   "execution_count": 14,
   "metadata": {
    "collapsed": false
   },
   "outputs": [
    {
     "name": "stdout",
     "output_type": "stream",
     "text": [
      "Error in Q^T Q =  2.38384060829e-15\n",
      "Error in QR =  1.83487986897e-15\n"
     ]
    }
   ],
   "source": [
    "print \"Error in Q^T Q = \", abs(norm(dot(Q.T, Q) - eye(m))).max()\n",
    "print \"Error in QR = \", abs(norm(dot(Q,R) - A)).max()"
   ]
  },
  {
   "cell_type": "markdown",
   "metadata": {},
   "source": [
    "For the Gram-Schmidt factorization, $QR=A$ still holds to within rounding error, but $A^TQ$ is far from the identity.  The vectors produced by the \"orthogonalization\" are not at all orthogonal!"
   ]
  },
  {
   "cell_type": "code",
   "execution_count": 15,
   "metadata": {
    "collapsed": false
   },
   "outputs": [
    {
     "name": "stdout",
     "output_type": "stream",
     "text": [
      "Error in Q^T Q =  10.4687452148\n",
      "Error in QR =  9.1726064765e-16\n"
     ]
    }
   ],
   "source": [
    "print \"Error in Q^T Q = \", abs(norm(dot(Q_gs.T, Q_gs) - eye(m))).max()\n",
    "print \"Error in QR = \", abs(norm(dot(Q_gs,R_gs) - A)).max()"
   ]
  },
  {
   "cell_type": "markdown",
   "metadata": {},
   "source": [
    "## Condition number of A\n",
    "\n",
    "The condition number of $A$ reveals that $A$ is nearly singular, i.e. the columns of $A$ are close to being linearly dependent (as discussed in class for this problem):"
   ]
  },
  {
   "cell_type": "code",
   "execution_count": 16,
   "metadata": {
    "collapsed": false
   },
   "outputs": [
    {
     "name": "stdout",
     "output_type": "stream",
     "text": [
      "The 2-norm condition number of A is 1.125e+16\n"
     ]
    }
   ],
   "source": [
    "print \"The 2-norm condition number of A is %6.3e\" % cond(A)"
   ]
  },
  {
   "cell_type": "markdown",
   "metadata": {},
   "source": [
    "In general using the \"monomial basis\" to represent a general polynomial is a bad idea, since these are nearly linearly dependent (plot them on the interval $[0,1]$).  \n",
    "\n",
    "It would be much better to represent the polynomial as a linear combination of some other basis polynomials, in particular \"orthogonal polynomials\"."
   ]
  },
  {
   "cell_type": "code",
   "execution_count": null,
   "metadata": {
    "collapsed": true
   },
   "outputs": [],
   "source": []
  }
 ],
 "metadata": {
  "kernelspec": {
   "display_name": "Python 3",
   "language": "python",
   "name": "python3"
  },
  "language_info": {
   "codemirror_mode": {
    "name": "ipython",
    "version": 3
   },
   "file_extension": ".py",
   "mimetype": "text/x-python",
   "name": "python",
   "nbconvert_exporter": "python",
   "pygments_lexer": "ipython3",
   "version": "3.7.0"
  },
  "widgets": {
   "state": {},
   "version": "1.1.2"
  }
 },
 "nbformat": 4,
 "nbformat_minor": 2
}
