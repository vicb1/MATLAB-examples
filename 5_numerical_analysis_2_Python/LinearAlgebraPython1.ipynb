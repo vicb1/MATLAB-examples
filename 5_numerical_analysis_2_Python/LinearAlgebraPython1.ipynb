{
 "cells": [
  {
   "cell_type": "markdown",
   "metadata": {},
   "source": [
    "# Linear Algebra in Python\n",
    "\n",
    "Developed for [Applied Mathematics 584, Autumn Quarter 2016](http://faculty.washington.edu/rjl/classes/am584a2016/) at the University of Washington.\n",
    "\n",
    "This notebook gives a brief introduction to doing linear algebra in Python using the [NumPy](http://www.numpy.org/) module. See also [NumPy Basics](http://docs.scipy.org/doc/numpy-dev/user/basics.html)\n",
    "\n",
    "The first cell contains a Jupyter \"magic\" command that loads Numpy and also [Matplotlib](http://matplotlib.org/) which contains plotting commands similar to Matlab's.  The `inline` option makes plots appear in the notebook.\n"
   ]
  },
  {
   "cell_type": "code",
   "execution_count": 4,
   "metadata": {
    "collapsed": false
   },
   "outputs": [
    {
     "name": "stdout",
     "output_type": "stream",
     "text": [
      "Populating the interactive namespace from numpy and matplotlib\n"
     ]
    }
   ],
   "source": [
    "%pylab inline"
   ]
  },
  {
   "cell_type": "markdown",
   "metadata": {},
   "source": [
    "Take a look at [Numpy for Matlab Users](http://docs.scipy.org/doc/numpy-dev/user/numpy-for-matlab-users.html) for a list of linear algebra commands in Python and how they relate to Matlab.\n",
    "\n",
    "Note that there is a `matrix` class in Python that gives operations more the flavor of Matlab, but in the notebooks for this class I will only use the standard Numpy `ndarray` class for reasons described in [Numpy for Matlab Users](http://docs.scipy.org/doc/numpy-dev/user/numpy-for-matlab-users.html).  This is a general class for n-dimensional arrays, not just matrices.   \n",
    "\n",
    "Here are some examples and additional hints."
   ]
  },
  {
   "cell_type": "markdown",
   "metadata": {},
   "source": [
    "## Lists\n",
    "\n",
    "A Python list can contain objects of many different types, for example the list below contains three objects: a real number, an integer, and a string.  Note that Python indexing starts at 0, unlike Matlab.  Note also that `len(L)` returns the length of `L` and `range(n)` is the list $[0,1,\\ldots,n-1]$, i.e. the set of indices of `L`."
   ]
  },
  {
   "cell_type": "code",
   "execution_count": 17,
   "metadata": {
    "collapsed": false
   },
   "outputs": [
    {
     "name": "stdout",
     "output_type": "stream",
     "text": [
      "item 0 of L is 1.32 of type <type 'float'>\n",
      "item 1 of L is 5 of type <type 'int'>\n",
      "item 2 of L is seven of type <type 'str'>\n"
     ]
    }
   ],
   "source": [
    "L = [1.32, 5, 'seven']\n",
    "for i in range(len(L)):\n",
    "    print \"item %s of L is %s of type %s\"  % (i, L[i], type(L[i]))"
   ]
  },
  {
   "cell_type": "markdown",
   "metadata": {},
   "source": [
    "## NumPy 1-dimensional array\n",
    "\n",
    "For vectors of numbers that all have the same type, it is much better to use a NumPy array -- both more efficient for large arrays and also many numerical functions we need are implemented for arrays.\n",
    "\n",
    "Note in this example that 5 and 7 are stored as floats since 1.32 is a float and so all elements are converted to floats."
   ]
  },
  {
   "cell_type": "code",
   "execution_count": 18,
   "metadata": {
    "collapsed": false
   },
   "outputs": [
    {
     "name": "stdout",
     "output_type": "stream",
     "text": [
      "item 0 of x is 1.32 of type <type 'numpy.float64'>\n",
      "item 1 of x is 5.0 of type <type 'numpy.float64'>\n",
      "item 2 of x is 7.0 of type <type 'numpy.float64'>\n"
     ]
    }
   ],
   "source": [
    "x = array([1.32, 5, 7])\n",
    "for i in range(len(x)):\n",
    "    print \"item %s of x is %s of type %s\"  % (i, x[i], type(x[i]))"
   ]
  },
  {
   "cell_type": "markdown",
   "metadata": {},
   "source": [
    "Note that in Matlab, which was designed specifically for linear algebra, the basic data structure is a matrix.  A 1-dimensional vector is stored as a matrix with one column (or one row) and there is a distinction between a column vector and a row vector.  You can transpose one to get the other.\n",
    "\n",
    "In NumPy, a 1-dimensional array is really a 1-dimensional array, not a row or column vector, so transposing has no effect:"
   ]
  },
  {
   "cell_type": "code",
   "execution_count": 9,
   "metadata": {
    "collapsed": false
   },
   "outputs": [
    {
     "name": "stdout",
     "output_type": "stream",
     "text": [
      "x =  [ 1.  2.  3.]\n",
      "x has shape (3,)\n",
      "y =  [ 1.  2.  3.]\n",
      "y has shape (3,)\n"
     ]
    }
   ],
   "source": [
    "x = array([1., 2, 3])\n",
    "print 'x = ',x\n",
    "print 'x has shape', x.shape\n",
    "\n",
    "y = x.T  # transpose\n",
    "print 'y = ',y\n",
    "print 'y has shape', y.shape"
   ]
  },
  {
   "cell_type": "markdown",
   "metadata": {},
   "source": [
    "You can define a 1D array as above by applying the NumPy `array` function to a list of numbers.  Or there are other NumPy functions that return a 1D array, such as the `linspace` function that works as in Matlab:"
   ]
  },
  {
   "cell_type": "code",
   "execution_count": 20,
   "metadata": {
    "collapsed": false
   },
   "outputs": [
    {
     "data": {
      "text/plain": [
       "array([ 0. ,  0.5,  1. ,  1.5,  2. ])"
      ]
     },
     "execution_count": 20,
     "metadata": {},
     "output_type": "execute_result"
    }
   ],
   "source": [
    "z = linspace(0,2,5)\n",
    "z"
   ]
  },
  {
   "cell_type": "markdown",
   "metadata": {},
   "source": [
    "## Two-dimensional arrays\n",
    "\n",
    "A 2D array can be defined by applying the NumPy `array` function to a list of lists:"
   ]
  },
  {
   "cell_type": "code",
   "execution_count": 53,
   "metadata": {
    "collapsed": false
   },
   "outputs": [
    {
     "name": "stdout",
     "output_type": "stream",
     "text": [
      "A = \n",
      "[[ 1.  2.  3.]\n",
      " [ 4.  5.  6.]]\n"
     ]
    }
   ],
   "source": [
    "A = array([[1., 2, 3], [4,5,6]])\n",
    "print 'A = \\n', A  # \\n means new line"
   ]
  },
  {
   "cell_type": "markdown",
   "metadata": {},
   "source": [
    "You can define row vectors and column vectors like Matlab does, e.g.:"
   ]
  },
  {
   "cell_type": "code",
   "execution_count": 55,
   "metadata": {
    "collapsed": false
   },
   "outputs": [
    {
     "name": "stdout",
     "output_type": "stream",
     "text": [
      "u =  [[ 1.  2.  3.]]\n",
      "\n",
      "v = \n",
      "[[ 1.]\n",
      " [ 2.]\n",
      " [ 3.]]\n"
     ]
    }
   ],
   "source": [
    "u = array([[1., 2, 3]])\n",
    "print 'u = ', u\n",
    "\n",
    "v = u.T  \n",
    "print '\\nv = \\n', v"
   ]
  },
  {
   "cell_type": "markdown",
   "metadata": {},
   "source": [
    "## Matrix-vector multiplication\n",
    "\n",
    "NumPy arrays are a general data structure that can be use for storing many things, with as many dimensions as you want.  So there is no assumption that 2D arrays are matrices or that you are doing linear algebra.  So if you want to multiply `A` and `v` for example, with `v` as defined above, you cannot do this as `A*v` as in matlab.  Instead use the `dot` function:"
   ]
  },
  {
   "cell_type": "code",
   "execution_count": 14,
   "metadata": {
    "collapsed": false
   },
   "outputs": [
    {
     "name": "stdout",
     "output_type": "stream",
     "text": [
      "[[ 14.]\n",
      " [ 32.]]\n"
     ]
    }
   ],
   "source": [
    "print dot(A, v)"
   ]
  },
  {
   "cell_type": "markdown",
   "metadata": {},
   "source": [
    "## Matrix-matrix multiplication\n",
    "\n",
    "The `dot` function can also be used for matrix-matrix multiplication.  For example, with $A$ defined as above (a $2\\times 3$ matrix), we can compute $A^TA$ via:"
   ]
  },
  {
   "cell_type": "code",
   "execution_count": 21,
   "metadata": {
    "collapsed": false
   },
   "outputs": [
    {
     "name": "stdout",
     "output_type": "stream",
     "text": [
      "[[ 17.  22.  27.]\n",
      " [ 22.  29.  36.]\n",
      " [ 27.  36.  45.]]\n"
     ]
    }
   ],
   "source": [
    "print dot(A.T, A)"
   ]
  },
  {
   "cell_type": "markdown",
   "metadata": {},
   "source": [
    "## Slicing an array\n",
    "\n",
    "You can extract a set of columns of `A`, for example, by using the `:` notation similar to Matlab.  But note that `i:j` refers to columns `i, i+1, ..., j-1` (it does not include column `j`).  Also remember that the first column has index `0` in Python.  You can also use `-1` to refer to the last column, `-2` to the next-to-last, etc.\n",
    "\n",
    "Here are some examples:"
   ]
  },
  {
   "cell_type": "code",
   "execution_count": 37,
   "metadata": {
    "collapsed": false
   },
   "outputs": [
    {
     "name": "stdout",
     "output_type": "stream",
     "text": [
      "A =\n",
      "[[ 1.  2.  3.]\n",
      " [ 4.  5.  6.]]\n",
      "\n",
      "A[:, 0:2] =\n",
      "[[ 1.  2.]\n",
      " [ 4.  5.]]\n",
      "\n",
      "A[:, 1:] =\n",
      "[[ 2.  3.]\n",
      " [ 5.  6.]]\n",
      "\n",
      "A[:, :-1] =\n",
      "[[ 1.  2.]\n",
      " [ 4.  5.]]\n",
      "\n",
      "A[:, 2] =\n",
      "[ 3.  6.]\n",
      "\n",
      "A[:, 2:3] =\n",
      "[[ 3.]\n",
      " [ 6.]]\n"
     ]
    }
   ],
   "source": [
    "print \"A =\\n\", A  # \\n means new line\n",
    "print \"\\nA[:, 0:2] =\\n\", A[:,0:2]\n",
    "print \"\\nA[:, 1:] =\\n\", A[:,1:]\n",
    "print \"\\nA[:, :-1] =\\n\", A[:,:-1]\n",
    "print \"\\nA[:, 2] =\\n\", A[:,2]\n",
    "print \"\\nA[:, 2:3] =\\n\", A[:,2:3]"
   ]
  },
  {
   "cell_type": "markdown",
   "metadata": {},
   "source": [
    "Note from the last two examples that `A[:,2]` and `A[:,2:3]` both return only the last column (index 2) but the first one returns it as a 1D array and the second as a 2D array!  In many applications extracting a single row or column of a 2D array should return a 1D array, but for linear algebra we might prefer the latter since a single column of a matrix should be a column vector.  The latter form is used in the next example."
   ]
  },
  {
   "cell_type": "markdown",
   "metadata": {},
   "source": [
    "## Matrix-vector multiplication as a linear combination of column vectors\n",
    "\n",
    "Lecture 1 of Trefethen and Bau stresses that matrix-vector multiplication can be viewed as computing a linear combination of column vectors. Here's how we might compute $y = Av$ that we found above via `dot(A, V)` by instead writing a loop to accumulate this linear combination:"
   ]
  },
  {
   "cell_type": "code",
   "execution_count": 56,
   "metadata": {
    "collapsed": false
   },
   "outputs": [
    {
     "name": "stdout",
     "output_type": "stream",
     "text": [
      "Each column of A has 2 elements, so product y=Av will too\n",
      "\n",
      "y =\n",
      "[[ 14.]\n",
      " [ 32.]]\n"
     ]
    }
   ],
   "source": [
    "m,n = shape(A)  # number of rows and columns of A\n",
    "print \"Each column of A has %s elements, so product y=Av will too\"  % m\n",
    "\n",
    "y = zeros((m,1))  # initialize to zero-vector of correct shape (2D array with shape m by 1)\n",
    "for j in range(n):\n",
    "    # loop over columns and add in v[j] times j'th column of A:\n",
    "    y += A[:,j:j+1]*v[j]   # use j:j+1 to select only j'th column as vector\n",
    "\n",
    "print \"\\ny =\\n\", y"
   ]
  },
  {
   "cell_type": "markdown",
   "metadata": {},
   "source": [
    "## Rank of a matrix\n",
    "\n",
    "To compute the rank of a matrix and other linear algebra quantities, we first import the `numpy.linalg` package.  See  [Numpy for Matlab Users](http://docs.scipy.org/doc/numpy-dev/user/numpy-for-matlab-users.html) and other NumPy references for more functions."
   ]
  },
  {
   "cell_type": "code",
   "execution_count": 43,
   "metadata": {
    "collapsed": false
   },
   "outputs": [],
   "source": [
    "from numpy import linalg"
   ]
  },
  {
   "cell_type": "code",
   "execution_count": 44,
   "metadata": {
    "collapsed": false
   },
   "outputs": [
    {
     "name": "stdout",
     "output_type": "stream",
     "text": [
      "The rank of A is  2\n"
     ]
    }
   ],
   "source": [
    "print \"The rank of A is \", linalg.matrix_rank(A)"
   ]
  },
  {
   "cell_type": "markdown",
   "metadata": {},
   "source": [
    "This should not be surprising: since the matrix has only 2 rows the rank cannot be larger than 2, and the rows are linearly independent so it has rank 2."
   ]
  },
  {
   "cell_type": "markdown",
   "metadata": {},
   "source": [
    "## Matrix inverse\n",
    "\n",
    "For a square nonsingular matrix, we can compute the inverse using `linalg.inv`.  We illustrate with the matrix $B = AA^T$ which is a full rank $2\\times 2$ matrix:"
   ]
  },
  {
   "cell_type": "code",
   "execution_count": 47,
   "metadata": {
    "collapsed": false
   },
   "outputs": [
    {
     "name": "stdout",
     "output_type": "stream",
     "text": [
      "B =\n",
      "[[ 14.  32.]\n",
      " [ 32.  77.]]\n",
      "\n",
      "The inverse of B is \n",
      "[[ 1.42592593 -0.59259259]\n",
      " [-0.59259259  0.25925926]]\n",
      "\n",
      "The product of the two is\n",
      "[[ 1.  0.]\n",
      " [ 0.  1.]]\n"
     ]
    }
   ],
   "source": [
    "B = dot(A, A.T)\n",
    "print \"B =\\n\", B\n",
    "\n",
    "Binv = linalg.inv(B)\n",
    "print \"\\nThe inverse of B is \\n\", Binv\n",
    "\n",
    "print \"\\nThe product of the two is\\n\", dot(Binv, B)"
   ]
  },
  {
   "cell_type": "markdown",
   "metadata": {},
   "source": [
    "## Solving a linear system\n",
    "\n",
    "If you want to solve a linear system, say $Bx = y$ with the matrix above, you could multiply by the inverse but as you probably know, in general it is better to just solve the linear system.  In Matlab this can be done using the backslash operator.  In NumPy we use `linalg.solve`:"
   ]
  },
  {
   "cell_type": "code",
   "execution_count": 57,
   "metadata": {
    "collapsed": false
   },
   "outputs": [
    {
     "name": "stdout",
     "output_type": "stream",
     "text": [
      "For comparison, the true solution will be xtrue =\n",
      "[[ 3.]\n",
      " [-2.]]\n",
      "\n",
      "From this we generate the right hand side y = B*xtrue = \n",
      "[[-22.]\n",
      " [-58.]]\n",
      "\n",
      "Multiplying Binv * y gives\n",
      "[[ 3.]\n",
      " [-2.]]\n",
      "\n",
      "Solving system directly gives\n",
      "[[ 3.]\n",
      " [-2.]]\n"
     ]
    }
   ],
   "source": [
    "xtrue = array([[3.], [-2.]])\n",
    "print \"For comparison, the true solution will be xtrue =\\n\", xtrue\n",
    "\n",
    "# compute right hand side:\n",
    "y = dot(B, xtrue)\n",
    "print \"\\nFrom this we generate the right hand side y = B*xtrue = \\n\", y\n",
    "print \"\\nMultiplying Binv * y gives\\n\", dot(Binv,y)\n",
    "\n",
    "# Solve system:\n",
    "x = linalg.solve(B, y)\n",
    "print \"\\nSolving system directly gives\\n\", x"
   ]
  },
  {
   "cell_type": "code",
   "execution_count": null,
   "metadata": {
    "collapsed": true
   },
   "outputs": [],
   "source": []
  }
 ],
 "metadata": {
  "kernelspec": {
   "display_name": "Python 3",
   "language": "python",
   "name": "python3"
  },
  "language_info": {
   "codemirror_mode": {
    "name": "ipython",
    "version": 3
   },
   "file_extension": ".py",
   "mimetype": "text/x-python",
   "name": "python",
   "nbconvert_exporter": "python",
   "pygments_lexer": "ipython3",
   "version": "3.7.0"
  },
  "widgets": {
   "state": {},
   "version": "1.1.2"
  }
 },
 "nbformat": 4,
 "nbformat_minor": 2
}
