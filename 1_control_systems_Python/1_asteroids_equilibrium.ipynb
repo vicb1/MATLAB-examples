{
 "cells": [
  {
   "cell_type": "markdown",
   "metadata": {},
   "source": [
    "# 1. Asteroids equilibria, linearization, and simulation\n",
    "\n",
    "a. Determine an equilibrium for the asteroids ship control system, that is, find $(x_0,u_0)\\in\\mathbb{R}^n\\times\\mathbb{R}^m$ such that $f(x_0,u_0) = 0$ using $f$ from the solution to HW1.  (There may be more than one equilibrium; pick one of them.)\n",
    "\n",
    "We have an equilibrium at \n",
    "$$v_1 = v_2 = 0$$\n",
    "and\n",
    "$$u_1 = u_2 = 0$$\n",
    "For this, $x_1, x_2$ and $\\theta$ can be arbitrary. Let's choose $x_1 = 2, x_2 = 3, \\theta = \\frac{\\pi}{2}$\n",
    "\n",
    "Our equilibrium is thus\n",
    "\n",
    "$$x_0 = \\begin{bmatrix}\n",
    " 2\\\\3\\\\0\\\\0\\\\\\frac{\\pi}{2}\n",
    "\\end{bmatrix},~~~u_0 = \\begin{bmatrix}\n",
    " 0\\\\0\\\\\n",
    "\\end{bmatrix}$$\n",
    "\n",
    "b. Explain the physical interpretation of the equilibrium behavior.\n",
    "\n",
    "The physical interpretation of the equilibirum is the state of the ship when it is not moving. The ship can be located and oriented arbitrarily, but is not in motion.\n",
    "\n",
    "c. Linearize the asteroids ship control system at the equilibrium from (a.), that is, compute the matrices $Df(x_0,u_0)$ and $Dh(x_0,u_0)$.  (It's preferable if you can do this symbolically; if you are unable to, explain why and compute it numerically.)\n",
    "\n",
    "Differentiating, we have\n",
    "\n",
    "$$Df(x,u) = \\begin{bmatrix}\n",
    "0&0&1&0&0\\\\\n",
    "0&0&0&1&0\\\\\n",
    "0&0&-k&0&-u_1\\sin{\\theta}\\\\\n",
    "0&0&0&-k&u_1\\cos{\\theta}\\\\\n",
    "0&0&0&0&0\\\\\n",
    "\\end{bmatrix}, Dh(x,u) = \\begin{bmatrix}\n",
    "1&0&0&0&0\\\\\n",
    "0&1&0&0&0\\\\\n",
    "0&0&0&0&1\\\\\n",
    "\\end{bmatrix}$$\n",
    "\n",
    "Evaluating at $x_0, u_0$ yields:\n",
    "\n",
    "$$Df(x_0,u_0) = \\begin{bmatrix}\n",
    "0&0&1&0&0\\\\\n",
    "0&0&0&1&0\\\\\n",
    "0&0&-k&0&0\\\\\n",
    "0&0&0&-k&0\\\\\n",
    "0&0&0&0&0\\\\\n",
    "\\end{bmatrix}, Dh(x_0,u_0) = \\begin{bmatrix}\n",
    "1&0&0&0&0\\\\\n",
    "0&1&0&0&0\\\\\n",
    "0&0&0&0&1\\\\\n",
    "\\end{bmatrix}$$\n",
    "\n",
    "d. Simulate the asteroids ship control system both at and nearby the equilibrium from (a.) for an \"interesting\" amount of time, and plot $\\ge 2$ \"interesting\" state variables or outputs from these trajectories.  \n"
   ]
  },
  {
   "cell_type": "code",
   "execution_count": 21,
   "metadata": {
    "collapsed": false
   },
   "outputs": [],
   "source": [
    "%run _547\n",
    "%matplotlib inline"
   ]
  },
  {
   "cell_type": "markdown",
   "metadata": {},
   "source": [
    "Let's setup the simulation parameters."
   ]
  },
  {
   "cell_type": "code",
   "execution_count": 26,
   "metadata": {
    "collapsed": false
   },
   "outputs": [],
   "source": [
    "k = 0.1 #arbitrarily selected drag\n",
    "\n",
    "#some initial conditions\n",
    "x_01 = np.array([[2], [3], [0], [0], [np.pi/2]])\n",
    "x_02 = np.array([[2], [3], [-1] ,[2], [np.pi/2]]) \n",
    "\n",
    "# simulation run time\n",
    "t = 30\n",
    "\n",
    "def f(t, x, u):\n",
    "    A = np.array([[0,0,1,0,0], [0,0,0,1,0], [0,0,-k,0,0], [0,0,0,-k,0], [0,0,0,0,0]])\n",
    "    B = np.array([[0,0], [0,0], [0,0], [0,0], [0,0]])\n",
    "    return np.dot(A,x)\n",
    "def h(x):\n",
    "    C = np.array([[1,0,0,0,0][0,1,0,0,0][0,0,0,0,1]])\n",
    "    return np.dot(C,x)"
   ]
  },
  {
   "cell_type": "markdown",
   "metadata": {},
   "source": [
    "And now define the simulation algorithm"
   ]
  },
  {
   "cell_type": "code",
   "execution_count": null,
   "metadata": {
    "collapsed": true
   },
   "outputs": [],
   "source": [
    "def sim(f,t,x,u=0,dt=1e-4):\n",
    "    j,t_,x_ = 0,[0],[x]\n",
    "    while j*dt < t:\n",
    "        t_.append((j+1)*dt)\n",
    "        x_.append(x_[-1] + dt*f(j*dt,x_[-1],u))\n",
    "        j += 1\n",
    "    return np.array(t_),np.array(x_)"
   ]
  },
  {
   "cell_type": "markdown",
   "metadata": {},
   "source": [
    "Let's run it for our first initial condition, at the equilibrium. "
   ]
  },
  {
   "cell_type": "code",
   "execution_count": 33,
   "metadata": {
    "collapsed": true
   },
   "outputs": [],
   "source": [
    "x = x_01\n",
    "t_,x_ = sim(f,t,x, dt =1e-4)"
   ]
  },
  {
   "cell_type": "markdown",
   "metadata": {},
   "source": [
    "And plot the results."
   ]
  },
  {
   "cell_type": "code",
   "execution_count": 34,
   "metadata": {
    "collapsed": false
   },
   "outputs": [
    {
     "name": "stdout",
     "output_type": "stream",
     "text": [
      "(300001, 5, 1)\n",
      "(300001,)\n"
     ]
    },
    {
     "data": {
      "image/png": "[encoded data removed]",
      "text/plain": [
       "<matplotlib.figure.Figure at 0x7fb283807cd0>"
      ]
     },
     "metadata": {},
     "output_type": "display_data"
    }
   ],
   "source": [
    "print np.shape(x_)\n",
    "print np.shape(t_)\n",
    "plt.plot(t_, x_[:,:,0])\n",
    "plt.show()"
   ]
  },
  {
   "cell_type": "markdown",
   "metadata": {},
   "source": [
    "Now let's try with our second initial condition"
   ]
  },
  {
   "cell_type": "code",
   "execution_count": 30,
   "metadata": {
    "collapsed": true
   },
   "outputs": [],
   "source": [
    "x = x_02\n",
    "t_,x_ = sim(f,t,x, dt =1e-4)"
   ]
  },
  {
   "cell_type": "markdown",
   "metadata": {},
   "source": [
    "And plot the results"
   ]
  },
  {
   "cell_type": "code",
   "execution_count": 31,
   "metadata": {
    "collapsed": false
   },
   "outputs": [
    {
     "name": "stdout",
     "output_type": "stream",
     "text": [
      "(300001, 5, 1)\n",
      "(300001,)\n"
     ]
    },
    {
     "data": {
      "image/png": "[encoded data removed]",
      "text/plain": [
       "<matplotlib.figure.Figure at 0x7fb2ac02f390>"
      ]
     },
     "metadata": {},
     "output_type": "display_data"
    }
   ],
   "source": [
    "print np.shape(x_)\n",
    "print np.shape(t_)\n",
    "plt.plot(t_, x_[:,:,0])\n",
    "plt.show()"
   ]
  },
  {
   "cell_type": "markdown",
   "metadata": {},
   "source": [
    "\n",
    "e. Discuss the physical interpretation of the behavior observed in the plots.  \n",
    "\n",
    "The plot of the states at equilibrium shows that the states remain the same for the duration of the simulation, which means that the ship is not moving anywhere. This is to be expected: if the ship is not moving anywhere, it will stay where it is.\n",
    "\n",
    "f. Discuss the qualitative behavior of the trajectories you simulated; are the trajectories converging, diverging, or doing something else that's interesting?\n",
    "\n",
    "The simulated trajectories are converging."
   ]
  }
 ],
 "metadata": {
  "kernelspec": {
   "display_name": "Python 3",
   "language": "python",
   "name": "python3"
  },
  "language_info": {
   "codemirror_mode": {
    "name": "ipython",
    "version": 3
   },
   "file_extension": ".py",
   "mimetype": "text/x-python",
   "name": "python",
   "nbconvert_exporter": "python",
   "pygments_lexer": "ipython3",
   "version": "3.7.0"
  }
 },
 "nbformat": 4,
 "nbformat_minor": 2
}
