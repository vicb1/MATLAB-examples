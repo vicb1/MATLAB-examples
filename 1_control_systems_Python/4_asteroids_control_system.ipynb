{
 "cells": [
  {
   "cell_type": "markdown",
   "metadata": {},
   "source": [
    "# Asteroids control system\n",
    "\n",
    "This problem deals with the asteroids control system (N)\n",
    "$$\\dot{x} = f(x,u),\\ y = h(x,u)$$\n",
    "with equilibrium\n",
    "$$ f(x_0,u_0) = 0$$\n",
    "and associated linear control system (L)\n",
    "$$\\dot{\\xi} = A\\xi + B\\mu,\\ \\eta = C\\xi + D\\mu$$\n",
    "obtained with $A = D_x f(x_0,u_0)$, $B = D_u f(x_0,u_0)$, $C = D_x h(x_0,u_0)$, $D = D_u h(x_0,u_0)$."
   ]
  },
  {
   "cell_type": "markdown",
   "metadata": {},
   "source": [
    "a. Assess controllability of the asteroids control system (i.e. construct the controllability matrix and determine its rank).\n",
    "\n",
    "Recall from previous homeworks that we had an equilibrium at\n",
    "\n",
    "$$x_0 = \\begin{bmatrix}\n",
    " 2\\\\3\\\\0\\\\0\\\\\\frac{\\pi}{2}\n",
    "\\end{bmatrix},~~~u_0 = \\begin{bmatrix}\n",
    " 0\\\\0\\\\\n",
    "\\end{bmatrix}$$\n",
    "\n",
    "And we know that linearizing our system and evaluating at $x_0, u_0$ yields:\n",
    "\n",
    "$$A = D_xf(x_0,u_0) = \\begin{bmatrix}\n",
    "0&0&1&0&0\\\\\n",
    "0&0&0&1&0\\\\\n",
    "0&0&-k&0&0\\\\\n",
    "0&0&0&-k&0\\\\\n",
    "0&0&0&0&0\\\\\n",
    "\\end{bmatrix}, B = D_uf(x_0,u_0) = \\begin{bmatrix}\n",
    "0&0\\\\\n",
    "0&0\\\\\n",
    "0&0\\\\\n",
    "1&0\\\\\n",
    "0&1\\\\\n",
    "\\end{bmatrix}$$\n",
    "\n",
    "We know that the controllability matrix determined by $A,B$ is then given as\n",
    "\n",
    "\\begin{eqnarray}\n",
    "{\\mathcal{C}} &= &\\left[B~|~AB~|~A^2B~|~A^3B~|~A^4B~\\right]\\\\\n",
    "&=&\\begin{bmatrix}\n",
    "0&0&0&0&0&0&0&0&0&0\\\\\n",
    "0&0&1&0&-k&0&k^2&0&-k^3&0\\\\\n",
    "0&0&0&0&0&0&0&0&0&0\\\\\n",
    "1&0&-k&0&k^2&0&-k^3&0&k^4&0\\\\\n",
    "0&1&0&0&0&0&0&0&0&0\\\\\n",
    "\\end{bmatrix}\n",
    "\\end{eqnarray}\n",
    "\n",
    "Further, rank($\\mathcal{C}$) = 3, and the system is thus uncontrollable.\n"
   ]
  },
  {
   "cell_type": "markdown",
   "metadata": {},
   "source": [
    "b. Choose an initial condition and final condition (different from the initial condition), and use the Singular Value Decomposition of the controllability matrix to construct a control input that steers the initial condition to the final condition.\n",
    "\n",
    "Let's have the spaceship start at our initial condition, i.e. \n",
    "\n",
    "$$x_0 =\\begin{bmatrix}\n",
    "2\\\\\n",
    "3\\\\\n",
    "0\\\\\n",
    "0\\\\\n",
    "\\frac{\\pi}{2}\\\\\n",
    "\\end{bmatrix}$$\n",
    "\n",
    "and suppose we want to control it to end up translated and moving backwards, e.g.\n",
    "\n",
    "$$x_f =\\begin{bmatrix}\n",
    "2\\\\\n",
    "10\\\\\n",
    "0\\\\\n",
    "-2\\\\\n",
    "\\frac{pi}{2}\\\\\n",
    "\\end{bmatrix}$$\n",
    "\n"
   ]
  },
  {
   "cell_type": "code",
   "execution_count": 3,
   "metadata": {
    "collapsed": true
   },
   "outputs": [],
   "source": [
    "%run _547\n",
    "%matplotlib inline\n",
    "from scipy.linalg import expm as sp_expm"
   ]
  },
  {
   "cell_type": "markdown",
   "metadata": {},
   "source": [
    "Let's set up some parameters"
   ]
  },
  {
   "cell_type": "code",
   "execution_count": 190,
   "metadata": {
    "collapsed": false
   },
   "outputs": [],
   "source": [
    "ts = 0.01 # imestep\n",
    "k = 0.1 #arbitrarily selected drag\n",
    "\n",
    "#initial and final conditions\n",
    "x_0 = np.array([[2], [3], [0], [0], [np.pi/2]])\n",
    "x_f = np.array([[2], [10], [0] ,[-2], [np.pi/2]]) \n",
    "\n",
    "#A and B matrices\n",
    "\n",
    "A = np.array([[0,0,1,0,0], [0,0,0,1,0], [0,0,-k,0,0], [0,0,0,-k,0], [0,0,0,0,0]])\n",
    "B = np.array([[0,0], [0,0], [0,0], [1,0], [0,1]])\n",
    "\n",
    "#discretizing\n",
    "\n",
    "zero_padder = np.array([[0,0,0,0,0,0,0], [0,0,0,0,0,0,0]])\n",
    "AB = np.concatenate((A, B), axis=1)\n",
    "mat = np.concatenate((AB,zero_padder), axis = 0)\n",
    "exmat = sp_expm(ts*mat)\n",
    "\n",
    "Ad = exmat[0:5,0:5]\n",
    "Bd = exmat[0:5,5:7]"
   ]
  },
  {
   "cell_type": "markdown",
   "metadata": {},
   "source": [
    "We now have discretized $A$ and $B$ matrices. We have a timestep of 0.01, and we'd like to run our simulation for 5 seconds. This gives us 1000 iterations. Let's find our control inputs at each time step via SVD."
   ]
  },
  {
   "cell_type": "code",
   "execution_count": 196,
   "metadata": {
    "collapsed": false
   },
   "outputs": [],
   "source": [
    "# SVD\n",
    "\n",
    "C= np.zeros((5,1000))\n",
    "\n",
    "for i in range(0,500):\n",
    "    C[:,i*2:i*2+2] = np.dot((np.linalg.matrix_power(Ad,499-i)),Bd)\n",
    "\n",
    "C_svd = np.linalg.svd(C)\n",
    "U = C_svd[0]\n",
    "S = np.diag(C_svd[1])\n",
    "V = C_svd[2]\n",
    "zero_padder = np.zeros((5,995))\n",
    "S = np.concatenate((S, zero_padder), axis = 1)\n",
    "\n",
    "#psuedo inverse\n",
    "s = np.linalg.pinv(S)\n",
    "\n",
    "\n",
    "#now let's solve for the control input\n",
    "\n",
    "u = np.dot(np.dot(np.dot(np.transpose(V),s),np.transpose(U)),x_f-np.dot(np.linalg.matrix_power(Ad,500),x_0))"
   ]
  },
  {
   "cell_type": "markdown",
   "metadata": {},
   "source": [
    "Now let's run the simulation."
   ]
  },
  {
   "cell_type": "code",
   "execution_count": 198,
   "metadata": {
    "collapsed": false
   },
   "outputs": [
    {
     "data": {
      "text/plain": [
       "[<matplotlib.lines.Line2D at 0x7fdab56bc9d0>]"
      ]
     },
     "execution_count": 198,
     "metadata": {},
     "output_type": "execute_result"
    },
    {
     "data": {
      "image/png": "[encoded data removed]",
      "text/plain": [
       "<matplotlib.figure.Figure at 0x7fdab5cc2610>"
      ]
     },
     "metadata": {},
     "output_type": "display_data"
    }
   ],
   "source": [
    "t_ = np.zeros((1,500))\n",
    "x_ = np.zeros((5,501))\n",
    "\n",
    "#initial conditions\n",
    "x_[:,0] = x_0[:,0]\n",
    "\n",
    "for i in range(0,500):\n",
    "    t_[:,i] = ts*i\n",
    "    x_[:,i+1] = np.dot(Ad,x_[:,i])+np.squeeze(np.dot(Bd,u[2*i:2*i+2,:]))\n",
    "\n",
    "t_ = np.hstack((np.squeeze(t_), np.array([500*ts])))\n",
    "\n",
    "plt.plot(t_, x_[0,:], label='traj_1')\n",
    "plt.plot(t_, x_[1,:], label='traj_2')\n",
    "plt.plot(t_, x_[2,:], label='traj_3')\n",
    "plt.plot(t_, x_[3,:], label='traj_4')\n",
    "plt.plot(t_, x_[4,:], label='traj_5')"
   ]
  },
  {
   "cell_type": "markdown",
   "metadata": {},
   "source": [
    "From this we see that the calculated input sequence resulted in the desired final output."
   ]
  },
  {
   "cell_type": "markdown",
   "metadata": {},
   "source": [
    "c. Assess observability of the asteroids control system  (i.e. construct the observability matrix and determine its rank).\n",
    "\n",
    "Recall from previous homework we have that\n",
    "\n",
    "$$C = D_xh(x_0,u_0) = \\begin{bmatrix}\n",
    "1&0&0&0&0\\\\\n",
    "0&1&0&0&0\\\\\n",
    "0&0&0&0&1\\\\\n",
    "\\end{bmatrix}, D = D_uh(x_0,u_0) = \\begin{bmatrix}\n",
    "0&0\\\\\n",
    "0&0\\\\\n",
    "0&0\\\\\n",
    "\\end{bmatrix}$$\n",
    "\n",
    "We know that the observability matrix determined by $A,C$ is then given as\n",
    "\n",
    "\\begin{eqnarray}\n",
    "{\\mathcal{O}} &=& \\begin{bmatrix}\n",
    "C\\\\CA\\\\CA^2\\\\CA^3\\\\CA^4\\\\\n",
    "\\end{bmatrix}\\\\\n",
    "&=&\\begin{bmatrix}\n",
    "1&0&0&0&0\\\\\n",
    "0&1&0&0&0\\\\\n",
    "0&0&0&0&1\\\\\n",
    "0&0&1&0&0\\\\\n",
    "0&0&0&1&0\\\\\n",
    "0&0&0&0&0\\\\\n",
    "0&0&-k&0&0\\\\\n",
    "0&0&0&-k&0\\\\\n",
    "0&0&0&0&0\\\\\n",
    "0&0&k^2&0&0\\\\\n",
    "0&0&0&k^2&0\\\\\n",
    "0&0&0&0&0\\\\\n",
    "0&0&-k^3&0&0\\\\\n",
    "0&0&0&-k^3&0\\\\\n",
    "0&0&0&0&0\\\\\n",
    "\\end{bmatrix}\n",
    "\\end{eqnarray}\n",
    "\n",
    "Further, rank($\\mathcal{O}$) = 5, and the system is thus observable."
   ]
  },
  {
   "cell_type": "markdown",
   "metadata": {},
   "source": [
    "d. Simulate the system from an initial condition to a final condition (different from the initial condition), and use the Singular Value Decomposition of the observability matrix to construct the initial condition using the simulation's output.\n",
    "\n",
    "First let's create our observability matrix and then compute the SVD"
   ]
  },
  {
   "cell_type": "code",
   "execution_count": 227,
   "metadata": {
    "collapsed": false
   },
   "outputs": [],
   "source": [
    "c = np.array([[1, 0, 0, 0, 0,],[0,1,0,0,0],[0,0,0,0,1]])\n",
    "# SVD\n",
    "\n",
    "O= np.zeros((1500,5))\n",
    "\n",
    "for i in range(0,500):\n",
    "    O[i*3:i*3+3,:] = np.dot(c,np.linalg.matrix_power(Ad,499-i))\n",
    "\n",
    "O_svd = np.linalg.svd(O)\n",
    "OU = O_svd[0]\n",
    "OS = np.diag(O_svd[1])\n",
    "OV = np.transpose(O_svd[2])\n",
    "zero_padder = np.zeros((1495,5))\n",
    "OS = np.concatenate((OS, zero_padder), axis = 0)\n",
    "\n",
    "#psuedo inverse\n",
    "os = np.linalg.pinv(OS)\n"
   ]
  },
  {
   "cell_type": "markdown",
   "metadata": {},
   "source": [
    "Now let's get some observations"
   ]
  },
  {
   "cell_type": "code",
   "execution_count": 228,
   "metadata": {
    "collapsed": false
   },
   "outputs": [],
   "source": [
    "\n",
    "t_ = np.zeros((1,500))\n",
    "y_ = np.zeros((1500,1))\n",
    "\n",
    "storage = np.zeros((3,1))\n",
    "\n",
    "for i in range(0,500):\n",
    "    for j in range (0,i+1):\n",
    "        storage = storage+np.dot(np.dot(c, np.linalg.matrix_power(Ad,i-j)),np.dot(Bd,u[2*j:2*j+2,:]))\n",
    "    t_[:,i] = ts*i\n",
    "    cx = np.expand_dims(np.dot(c,x_[:,i]), axis=1)\n",
    "    y_[3*i:3*i+3,:] = cx-storage\n",
    "    storage = np.zeros((3,1))\n"
   ]
  },
  {
   "cell_type": "markdown",
   "metadata": {},
   "source": [
    "And now compute our estimated initial state"
   ]
  },
  {
   "cell_type": "code",
   "execution_count": 229,
   "metadata": {
    "collapsed": false
   },
   "outputs": [
    {
     "name": "stdout",
     "output_type": "stream",
     "text": [
      "[[  2.00000000e+00]\n",
      " [  2.99805174e+00]\n",
      " [ -1.99840144e-15]\n",
      " [ -5.66693287e-03]\n",
      " [  1.57079633e+00]]\n"
     ]
    }
   ],
   "source": [
    "print np.dot(np.dot(OV,os),np.dot(np.transpose(OU),y_))"
   ]
  },
  {
   "cell_type": "markdown",
   "metadata": {},
   "source": [
    "Our computed/estimated initial state is very close to the actual initial state, as desired."
   ]
  }
 ],
 "metadata": {
  "kernelspec": {
   "display_name": "Python 3",
   "language": "python",
   "name": "python3"
  },
  "language_info": {
   "codemirror_mode": {
    "name": "ipython",
    "version": 3
   },
   "file_extension": ".py",
   "mimetype": "text/x-python",
   "name": "python",
   "nbconvert_exporter": "python",
   "pygments_lexer": "ipython3",
   "version": "3.7.0"
  }
 },
 "nbformat": 4,
 "nbformat_minor": 2
}
