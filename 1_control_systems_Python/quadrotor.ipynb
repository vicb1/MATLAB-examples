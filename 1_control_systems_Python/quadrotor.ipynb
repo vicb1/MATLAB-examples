{
 "cells": [
  {
   "cell_type": "code",
   "execution_count": 13,
   "metadata": {
    "collapsed": false
   },
   "outputs": [
    {
     "name": "stdout",
     "output_type": "stream",
     "text": [
      "Automatic pdb calling has been turned ON\n"
     ]
    }
   ],
   "source": [
    "%matplotlib inline\n",
    "%pdb on\n",
    "%run _util"
   ]
  },
  {
   "cell_type": "code",
   "execution_count": 37,
   "metadata": {
    "collapsed": true
   },
   "outputs": [],
   "source": [
    "np.set_printoptions(precision=2)"
   ]
  },
  {
   "cell_type": "markdown",
   "metadata": {},
   "source": [
    "# control system model\n",
    "Consider the simplified quadrotor model\n",
    "$$m\\ddot{h} = u_1\\sin\\theta,$$\n",
    "$$m\\ddot{v} = -mg + u_1\\cos\\theta,$$\n",
    "$$I\\ddot{\\theta} = u_2$$\n",
    "where ($h$, $v$) denote the quadrotor (horizontal, vertical) position and $\\theta$ denotes the quadrotor's rotation, ($m$, $I$) denote quadrotor (mass, inertia), $g$ is acceleration due to gravity, and ($u_1$, $u_2$) denote the net (thrust, torque) applied by the spinning rotors.\n",
    "\n",
    "If we measure or observe positions ($h$, $v$), e.g. with GPS, then the control system model is\n",
    "$$\\frac{d}{dt}\\left[\\begin{array}{c} q \\\\ \\dot{q} \\end{array}\\right] = \\left[\\begin{array}{c} \\dot{q} \\\\ F((q,\\dot{q}),u) \\end{array}\\right] = f((q,\\dot{q}),u),\\ y = h(q,\\dot{q})$$\n",
    "where $q = (h,v,\\theta)\\in\\mathbb{R}^3$, $u = (u_1,u_2)\\in\\mathbb{R}^2$, $F : \\mathbb{R}^3 \\times \\mathbb{R}^2 \\rightarrow \\mathbb{R}^3$ is defined by \n",
    "$$F((q,\\dot{q}),u) = \\ddot{q} = \\left[\\begin{array}{c} \\frac{u_1}{m}\\sin\\theta \\\\ -g + \\frac{u_1}{m}\\cos\\theta \\\\ \\frac{u_2}{I}\\end{array}\\right],$$ \n",
    "and $h : \\mathbb{R}^3 \\rightarrow \\mathbb{R}^2$ is defined by \n",
    "$$h(q,\\dot{q}) = (h,v).$$\n",
    "\n",
    "    [1]: http://dx.doi.org/10.1109/ROBOT.2010.5509452"
   ]
  },
  {
   "cell_type": "markdown",
   "metadata": {},
   "source": [
    "# Simulation\n",
    "To simulate the pendulum, we first implement Python versions of the ODE control system model; it'll be computationally expedient if both $f$ and $h$ accept $t$, $x$, and $u$ as arguments even though mathematically they may not depend on all three:"
   ]
  },
  {
   "cell_type": "code",
   "execution_count": 72,
   "metadata": {
    "collapsed": false
   },
   "outputs": [],
   "source": [
    "g,m,I = 9.81,1.,1. # m/sec^2, kg, kg m^2\n",
    "\n",
    "def f(t,x,u):\n",
    "    q,dq = x[:3],x[3:] # positions, velocities\n",
    "    h,v,theta = q # horiz., vert., rotation\n",
    "    u1,u2 = u # thrust, torque\n",
    "    return np.hstack([dq,(u1/m)*np.sin(theta),\n",
    "                        -g + (u1/m)*np.cos(theta),\n",
    "                        u2/I])\n",
    "\n",
    "def h(t,x,u):\n",
    "    q,dq = x[:3],x[3:] # positions, velocities\n",
    "    h,v,theta = q # horiz., vert., rotation\n",
    "    return np.array([h,v]) # horizontal, vertical position"
   ]
  },
  {
   "cell_type": "markdown",
   "metadata": {},
   "source": [
    "Note that $\\dot{q}_0 = 0$ (i.e. zero velocity) is an equilibrium with any position $q$ when input $u = (mg,0)$ (i.e. zero torque and thrust $mg$) is applied:"
   ]
  },
  {
   "cell_type": "code",
   "execution_count": 49,
   "metadata": {
    "collapsed": false
   },
   "outputs": [
    {
     "name": "stdout",
     "output_type": "stream",
     "text": [
      "x0 = [ 0.  1.  0.  0.  0.  0.] \n",
      "f(x0) = [ 0.  0.  0.  0.  0.  0.]\n"
     ]
    }
   ],
   "source": [
    "q0 = np.array([0.,1.,0.])\n",
    "dq0 = np.array([0.,0.,0.])\n",
    "x0 = np.hstack((q0,dq0))\n",
    "u0 = np.array([m*g,0.])\n",
    "print 'x0 =',x0,'\\nf(x0) =',f(0.,x0,u0)"
   ]
  },
  {
   "cell_type": "markdown",
   "metadata": {},
   "source": [
    "Let's simulate the result of applying a sinusoidal thrust, and plot/animate the result:"
   ]
  },
  {
   "cell_type": "code",
   "execution_count": 91,
   "metadata": {
    "collapsed": false
   },
   "outputs": [
    {
     "data": {
      "text/plain": [
       "<matplotlib.text.Text at 0x111fabc50>"
      ]
     },
     "execution_count": 91,
     "metadata": {},
     "output_type": "execute_result"
    },
    {
     "data": {
      "image/png": "[encoded data removed]",
      "text/plain": [
       "<matplotlib.figure.Figure at 0x111d27590>"
      ]
     },
     "metadata": {},
     "output_type": "display_data"
    }
   ],
   "source": [
    "dt = 1e-2 # coarse timestep\n",
    "freq = .5 # one cycle every two seconds\n",
    "t = 2./freq # two periods\n",
    "q = [0.,.1,0.] # start 10cm up off the ground\n",
    "dq = [0.,0.,0.] # start with zero velocity\n",
    "x = np.hstack((q,dq))\n",
    "\n",
    "# input is a periodic function of time\n",
    "ut = lambda t : np.array([m*g + np.sin(2*np.pi*t*freq),0.])\n",
    "# lambda is a shorthand way to define a function\n",
    "# -- equivalently:\n",
    "def u(t):\n",
    "    return np.array([m*g + np.sin(2*np.pi*t*freq),0.])\n",
    "\n",
    "sim = forward_euler\n",
    "t_,x_ = sim(f,t,x,dt=dt,ut=ut)\n",
    "u_ = np.array([u(t) for t in t_])\n",
    "# sim() returns arrays t_ and x_\n",
    "# x_[j] is the state of the system (i.e. pos. and vel.) at time t_[j]\n",
    "\n",
    "fig = plt.figure(figsize=(4,8));\n",
    "\n",
    "ax = plt.subplot(311)\n",
    "ax.plot(t_,x_[:,:3],'.-')\n",
    "ax.set_xlabel('time (sec)')\n",
    "ax.set_ylabel('position')\n",
    "ax.legend([r'$h$',r'$v$',r'$\\theta$'],ncol=3,loc='right')\n",
    "\n",
    "ax = plt.subplot(312)\n",
    "ax.plot(t_,x_[:,3:],'.-')\n",
    "ax.set_xlabel('time (sec)')\n",
    "ax.set_ylabel('velocity')\n",
    "\n",
    "ax = plt.subplot(313)\n",
    "ax.plot(t_,u_,'.-')\n",
    "ax.set_xlabel('time (sec)')\n",
    "ax.set_ylabel('input')"
   ]
  },
  {
   "cell_type": "code",
   "execution_count": 24,
   "metadata": {
    "collapsed": true
   },
   "outputs": [],
   "source": [
    "%run _anim"
   ]
  },
  {
   "cell_type": "code",
   "execution_count": 92,
   "metadata": {
    "collapsed": false
   },
   "outputs": [
    {
     "data": {
      "text/html": [
       "<video controls>\n",
       " <source src=\"data:video/x-m4v;base64,AAAAIGZ0eXBpc29tAAACAGlzb21pc28yYXZjMW1wNDEAAAAIZnJlZQAAIL9tZGF0AAACrQYF//+p\n",
       "3EXpvebZSLeWLNgg2SPu73gyNjQgLSBjb3JlIDE0NiByMjU1NSAwYzIxNDgwIC0gSC4yNjQvTVBF\n",
       "Ry00IEFWQyBjb2RlYyAtIENvcHlsZWZ0IDIwMDMtMjAxNSAtIGh0dHA6Ly93d3cudmlkZW9sYW4u\n",
       "b3JnL3gyNjQuaHRtbCAtIG9wdGlvbnM6IGNhYmFjPTEgcmVmPTMgZGVibG9jaz0xOjA6MCBhbmFs\n",
       "eXNlPTB4MzoweDExMyBtZT1oZXggc3VibWU9NyBwc3k9MSBwc3lfcmQ9MS4wMDowLjAwIG1peGVk\n",
       "X3JlZj0xIG1lX3JhbmdlPTE2IGNocm9tYV9tZT0xIHRyZWxsaXM9MSA4eDhkY3Q9MSBjcW09MCBk\n",
       "ZWFkem9uZT0yMSwxMSBmYXN0X3Bza2lwPTEgY2hyb21hX3FwX29mZnNldD00IHRocmVhZHM9NiBs\n",
       "b29rYWhlYWRfdGhyZWFkcz0xIHNsaWNlZF90aHJlYWRzPTAgbnI9MCBkZWNpbWF0ZT0xIGludGVy\n",
       "bGFjZWQ9MCBibHVyYXlfY29tcGF0PTAgY29uc3RyYWluZWRfaW50cmE9MCBiZnJhbWVzPTMgYl9w\n",
       "eXJhbWlkPTIgYl9hZGFwdD0xIGJfYmlhcz0wIGRpcmVjdD0xIHdlaWdodGI9MSBvcGVuX2dvcD0w\n",
       "IHdlaWdodHA9MiBrZXlpbnQ9MjUwIGtleWludF9taW49MjAgc2NlbmVjdXQ9NDAgaW50cmFfcmVm\n",
       "cmVzaD0wIHJjX2xvb2thaGVhZD00MCByYz1jcmYgbWJ0cmVlPTEgY3JmPTIzLjAgcWNvbXA9MC42\n",
       "MCBxcG1pbj0wIHFwbWF4PTY5IHFwc3RlcD00IGlwX3JhdGlvPTEuNDAgYXE9MToxLjAwAIAAABF3\n",
       "ZYiEADv//vb8/AptFl7dP/9P+VxN2UIE1zAADVu68BwPRcHAKLnNGTcd2E56lSgazKWRvzSJnJlx\n",
       "JRNcTTEqGVq1a2JnfkyGlhQusMqnFkbEc0YOdG9ACVgG8CtIgb7I71p0KnVpys7of/E4f74Wgyhl\n",
       "XqdUvHw+DrjnWagQU1X2gup1UFotvCag4IJitp+ne5wwl25VaT/e0kTxxzWFPuckHsZ5Dm7T37o/\n",
       "/4Tv9ZTGC3nsot7o4Rd0y63s8h/K9EPz/kyRy9V9PMxipWbtMgYRhiwhXanaWFS+GeW2Mslqw7Tn\n",
       "tJvEbeND/8NtpoW3oQJzpLBB6q89FYu8z8MnWRrfjpvXQuSQ2asuJaFLBmr9Pf9s5vhQVi8H23sL\n",
       "0A3iNKN28iiLnU0avf1Mkh2bN7OF0TeubdCD+3P7JulD+8YduptRZ9zGLP0PR+whvw1Z9J2fiLif\n",
       "r5TCv8/wOfDJOFFWHGHqoghTg8pXfakezYkM+NAqqN8T68y99VwRzC7QhwyrlCBmny8U2PKW2Dql\n",
       "3RTkK6QH5Y+UlS6i478n7GIkNbZcxYlHLlJPCn2FWw0jIzVBm+zfMslPQiQcLf4DVbeY8VaZMi2l\n",
       "3RdWM/1uftUczdQc1PF32Xxd8piG3eFEV8zYp9YgqsRRwjhAUAegK/2Nl9Y9xTXxGBXOMkGiUhCy\n",
       "RucrND4NadVjBtS6Kx9gbnlIC9aXQAzD/WBh9su/NveSjZvjBOkmyqklSe0K8eTcKgzNwkXp/57d\n",
       "aOS2kMNlMoFye/Us+QXwsRTVqzr2xl1TopFUVUKj1ze/NCgRE91OUOhjIbX5pkOd5238jiBfIzMf\n",
       "VTUyoeA0j4bO2C/PnhKcx6rjWEaHRVmFhZCxUGAngPflFKHkh5FuAu1h4yrBCWs1LvFoIKfEB2Ks\n",
       "pxjPFYOPYm6Wx3ULN7ubzLIfyiHRbmUqFvfMJsdpiUeP8OUx7Hr1wDuCogp9BWeukb2aq0RlAsCj\n",
       "NAmsr00rpYfPa6MNsp+u9zZB23lDliv2u0TtoIdtu/DqX0QKCozVQlRUd0wiPC+SUDOR5k8yNt+T\n",
       "3MPSd5wAQ6oViO07vKyKxF3UIju8N7oGful1pRSjPRzxclB9gO3+yyNPKv/Hw0IOxE+kCVY1yFTq\n",
       "8sbFLFQgtV2hI9TzrcIoFUnYOXlX5EnswsHdbOMHKj2YU6hh/Q3ApYqDmE5EHgAMKpD2YU7WulKq\n",
       "JFUoG+lNSqiRVJ28jzCqQ9mFbR2y6smWwBXyptcWWmJjNL1OkiDI7Ounuf9uiLbnzTCGv2ze6ntw\n",
       "skkspYqDjcOQxGRfia3yA4kKhye632Q1owV1MP3D305ASQKA2XsaGITuROqwYVlCO/9clvb327zx\n",
       "QSsPJElNwEJzf9clvb3yEMjyRJTcBCw7+uS3t78tmY4YMKqRJSV4AR9EEsHGNQ7iSsYtCjTy4jQc\n",
       "V9Q/NMAe/fYfw11JrPVRX9IQ8HmtaoShouhuVfV586IjCSXwkWwma1QwJU9chXVNgeFRLpMWrXt7\n",
       "5G+pKRJTcBIW9gE8pKRJTcBC5v+uS3t75EMjyRJTcBDm39clvb31Go4vEL6UbzXCU3ARFNJSJKbg\n",
       "Mt4DPDV8tY2nS6W2unn/ZPuct/baM+2v+xrjDIaBq1j8oEllniYBLsNj/kEXWt1VaTkuo/F1/+Nu\n",
       "o6pOXVNgeFZtJi1a9vfTkfAbv/XJb298pkSUiSm4CF+x5IkpuAiM6SkSU3ATFOTQDxsv/p5rhKbg\n",
       "Ir4eSJKbgLHUyJ1Q0n6cYlWhwra5UX7rcScxLSm8LGdSTyT+azjmhUyjme5XSloBFntXOSGu4+bK\n",
       "TGMySVR8l5DAzPUXobW/taVbrZueblVvLRUIGxbjT8KtNhTpumMjptA8jA4c0eECIjL+rXs09LNT\n",
       "rSFiGce9fH3jYSdEJquVV7FkQ0Z+NAfI8Q+E2L2OSG6BC4COIoL2RZwvjlRGuPzT5oxRNupLJ5/g\n",
       "KnPw+WXAuEzWUs2CW16R7s/zk3bqSmlrcwwTGKIkYlsME1ehqEDyGP1HynMBgeSML+0yS8hHEK/R\n",
       "JPe5rGAKpZJ+2Jhn2K9wHt4+qxZcZ6hwIXAY6N4zcX5j/fppRAIoPEZv06W1Y1R7uRdZbIEPEaet\n",
       "eeZ4UtzCm2lxNfwKMHtVps9i0EbX6MYARapKK8DJ5xxorrg7rgAtfzrKWa2cy06ihcCMgQvy1TLi\n",
       "GkPjHDgO+KNpPwppz8ImeDMsAPap5SemiUIxwlvxd9GxvpUiy062n4d6KTTFQxVd92y6xf2OM5Ls\n",
       "E3/c0rFYl9hFAzdl9q0sxaQPpScS5t4a/+hqF+WzxqhXJ2US4JADMr7Qm7UALvFUEYzOpMHEbC98\n",
       "UlVOFJadnblfE32b9fFwjnswrUIKA4Yt4uYvrqPZhTqzCVjBSKpOzC7K36ylina++sKpD2YVdzLd\n",
       "NthXRgUsU7gAaujApYp2nItDcClinUP4rowKWKgAyfR0sJLQvOcABcOeSK/IkKted/7YJfo4qNqc\n",
       "x2QpMMXVr298jTUEgkpuA+RddmU7lljFcHTQ+s2bl+cm+oknmZRTumzBK2Bz7riTTMcpbk5gwPCq\n",
       "aSZclvb3/IDpB+/9clvb3yUgkpElNwEMSjyRJTcBDi39clvb4H0PNn80xpnXQLyx36uPr/rhhq4v\n",
       "NOQ+8ovqlDVF3jFi9lku5PE7rV5O9oT1mAh9vRpL5rI9r5TG6bvwU+CU8uKkg197Gdk1rDRpTcBD\n",
       "QA5wSU3ARV+KHa861a9vfLAqu5Le3vlolXclvb3zB48nCU3AS1uR5Gyku3z+WwYVleLz+WwYVreB\n",
       "3ogeRoe6G9SdF6Qc4fX8eeLD8S8AaTPO1rbPWrKj4f/PQdRcjZxQSQUnEsKcQL6d5+lOFJ5bWquq\n",
       "2sS933sZ2o0mXJb298vQdkVjyRJTcBEOB5IkpuAiXrzXCU3ARTX+uS3t76/zmqbzzEKH9clvb3zZ\n",
       "39clvb4IYVfUDsf+UlJzbzo98zN8oMGG6eqKkZ9I2y8EhNje6480vqxBCuQTIqLJZAVaaYsVjQsz\n",
       "2A5WvN6X5mQ2hVYjIzXNVOgDsJYXEzlZBT+XJ7ebhV+OhmOsAM9TP/+JgjYbgBEPVBL0WpvuFKiu\n",
       "AF64F3oqjWHTrAH5Ha3twoMYa0U89jHw6G2ohcBHGcywB0WzjlRGuObLsRRXAD8pQtlLNwNUqx8P\n",
       "uWH5SzYDvQCOQehhk60GzoHSZQLyZZZtSDVMOCp4EnzYHpJFYDHuLj4dHGRtfoxgDa4k+cTvGrGq\n",
       "QLVWuuAH5HLTvN8mWeIlYuAHR1+MvBp9p5PmwUKNr9GMCH7Vj4flL8/wFQD60yfOGL1hRx0GxE5B\n",
       "1xB62YeXKAj6Ljz3vxHLGfOIuOpFzjMv5GrGEfzUU1C7ZdDqD8bBl/LB/Kr2yEKAiuqMziFLuDbx\n",
       "X8ZtIvupxYm3bAqLZVLS6FfRUqwhsQItOat9Iqb+Y1CCt4Q6qbRty3Gm3ptKClssrJTUQkg8H6qq\n",
       "h02eipUzJtKgfzSHvKlqW64smOkpdah6/0Cyihseawq0QU8LfGyi+ohhJiJ3Cb7Qj772dvKxEHKw\n",
       "uHB85VzN58Ts7/07QaS+JwCtNhZ4HOZdQKWKd6FCvyJPZhX6vQaFWSKpPAVwwqkPZhWpbnbRm1Kq\n",
       "JFUngA0wqkPZhTIpVSqiRVJ1IVV0YFLFPGdGgTB6Wzsa4PIhSicf6NnI1KGZMmWV7V4znunFd1hl\n",
       "T2wlShdMNqDWE2lKnSs/8q0QZSniQaGNqbA8eUEjL3lVNcJTcBCxYeSJKbgIRzx5IkpuAheseSJK\n",
       "bgJ5YQId5jFLUdNETuJqJmSrT+m5qTk761vmewcHQrupeW/fFElOAAQ7/0fIBlOYaHsiRxwX/ffD\n",
       "CuuTT/XUZxMgYE6/VIZXfMySGLWgy7C8aexPfGU/39EjuMeYb3NfjtsbtpCGldl4HVON/l4QM5v0\n",
       "ln4jBhr+19TtVkQTjO/UOLNylinXfttPp0/povcFPzLkS7+qPhtQPCkxMekgh+rQ14nvmxBr72NA\n",
       "r1UOO3Gs7UGrjfMUV3mC52IdZElau6FLmhZVvfie6miU8/UQbd97Gj8RI6gS3t75ZigkElNwEKya\n",
       "s0oJBJTcBEr2yBLe3vlQSCQSU3ARiIZGtgwrLQylvzfLqWXBvdqtGoyq3ogag80+m11PO4AftZWj\n",
       "zegc+64k04a6GjeRBWHeoZIGVHzI/vD7kidqThA5R4V6hkjsMtvySI7fpG1eENuBOPzviNpQ83NO\n",
       "2/XGctnBvAcgLJ5DcvLJevTDtxKCM8S3jrAHRpEYR58GZG4AdIbdP+Xrch4bzNiuAH4LNfEBTpJ1\n",
       "gD7JkVuy7xaL2w1hWLAHSShhe+QsDBj4dLoE/eXC4t4kPyJuAH6unrZkLwK9Vj4fiCJfgdFlgAGI\n",
       "/7sADqtO/hHmgj/1Un6EXFB58/oosD4EnzYbRmrLNSsXHw6XIysiPxgWYP73WYONztQ9r+YUj///\n",
       "/HXsjYlHiRn4FzO8axhr1/iFcZaNbsj8D/XqsaHa4K3w5qMs858ZMZkXoW0WsfQOXYCaTo2DzMZ8\n",
       "MlFWtldYH7Y2SB34qBBTYKLpRoQMqUcJ/GoiQK9cCLGBFP9jd8i5cOtOjQi4veAiyjojgfSOTukK\n",
       "a3nascSy+RszwprwruqvE2J8nDCyEuO8gxEU8X5xiBKbeJq+87VjiYna/WZXmRfh2oDvfLiqUf0T\n",
       "e5P92V8atOHik/3CBEj6s1vcQuS5+ThJKoW7BW6Lv8527AASBTJT0iOYZHqyPnXhdubMVZbirjbL\n",
       "m8hmfgaOVB0Do9Z8VFpEQFVXDyLARbQeriAFlN8JeFh8i7xTvwW/NBSCYrPx739gae7WpaCTOfQy\n",
       "piBZS4XSJ4BpqLHLBxWOr/hqz2YY0hNYg69AHixNjLfmXkX1Xc2fvHaZbVNRZ8pm37aVWkxxPx1Z\n",
       "fG/ZYFkKD7aHMwso3cbp8KmrzQOivXVGFS1vhHtvCI6ZTVGDblMyw7cbt6WNybxIL9dy6ZB7+gQe\n",
       "gr9dItMRYppix2oLzJKYO+Xj5ictWCgiP7f//8WBIz1MTVMyWrlRRKmPA4XWkqto0Qufp/96yBYK\n",
       "3mgmuvhK+wugke7Bf6RbdC1gKT69KJBJy3EhAz1jCB2azS/hXXH+hkUBomLqNIapz5TdTcKG5YPo\n",
       "0G4o8hbDbMUQJiWTjRxbhi9txy7xtHazYKLVgvjpn2tgSj3r6TiMl+Wnt0RvHFBKhZ+vgm7UpC3i\n",
       "WtIpNhpjSEZ5wTsQYywHKvEA2qZkuI/Vdy4iYln4uraIGMr3qbU3O9svi7DPxqYhjTcXmH//1ZBd\n",
       "wWcX1sFgAKqrRMniypWMRKUE4saymRZKRFZBRvTjcQY5glXZeLdeyfdW+D5LlIiUuvqnRjf23Hp6\n",
       "BoU6jndd+WywhDkkGNTMA589fb27PQS0hiq6GdBVPfa9+nDHxbVHPOBreVZe9YHscvwlqSjTFIk3\n",
       "nojKgjHwKRroVQ5on71lJSQBAU/ASzdKgAepE5OXCS+4ZgeDxQwwj3rn9LVLOHQnzw/F/xPM22Q2\n",
       "itERcZDbAtIAuXYWSFZwdJEyXa6dHH8S8UloDw/mZbqbUsutDFL9/RWCkuLAw8+mZiUWVL1v2L6F\n",
       "bFtSDl5KxpVr1mtXdl/OgjsmoeTfVUzckiGeinE7SyeejOhlhs1PjiuPY5qzacX4TIxDdnzPI7CJ\n",
       "xytM0H0WVTRe/x0DRjkqdxZWkRJQbL4caaGVpYAy2SjQtuESfbkEIzfmc5yKIhWmbOhibVmFn3by\n",
       "weMAsLW+pTh5lvChoVic689c9vKq47HkPhEt1ytYzinVLt2X2R9+3Y8tB2Ut9YD8WMx6Bw0KTBDE\n",
       "4REK0keP6cLxKxJzpT8b1zB5iMFHjCwmzpddK4ZF266NXi5TP3/dp9tTuTdcu7YND4Od4fikK1lC\n",
       "veqbcz55Gtvjh7i/HrrDDpSERhQdAAAScQAAAW9BmiRsQ7/+qZc4GGgFrugFp0BmqMESf/+5pSzi\n",
       "67tflxE5H3YDIsYvPD+mH6k2wMepPJdJek4fCmLrVIjaDyWflj1t6FQ2qZ3F+Goot/fY1M8aNtt0\n",
       "dqcXGKQBDho8hVY2IsKdze8MZ9n+aPHY9MLDU59Ot8Rp8cfZetGWNQGxzncR+d0VN7P139oCmNbR\n",
       "zascUDVsvesl6jiXedveln0o2NT7xaAf4jlEXwnRzFmSnKhWDqhJhxUYg31q+/NdltCSL1wFXgd1\n",
       "c/WMOL1TPvMH+9BYAAJB8ErHIopZ0sdy22T22GLtAd5VRWu+M3iBskD/KBuVmkA3Vw/+hDMvWe26\n",
       "GIIpUWEO5nUGO5ayACuQF2Hea8uQ8yspTVNJJxP5P/j7UkhjBTcixhb0ffGFAcIwjsxiAK5IGWhF\n",
       "5dzMQ4BYLV9bH+b1JjL+dh11plcl3X+847AIFaORulGZz5ngk4Ly681aTryBmjB1lVuTe+K6AAAA\n",
       "g0GeQniGfwTYMYLC/PU7N35oGcZrqehH3q7dxy/kKc9pQXq58wqgYH5UBT5B+WjOEUnj5qQsdxAC\n",
       "P7srfxl/7XpmaBRhiWf0UgmG3xi07BMCNOZsREw9zqhi9C4i7XhT3nURNXuivxXhJiV100piPmsv\n",
       "GP5Ko0odgB+smOkieg13t1MHAAAAPAGeYXRCvwe4DDnkSdpdQp1OGZtZR8YpHlpQrmHDCzJ1CiZ3\n",
       "LljnifNKdQQkcT6lLPzKhw2KaRrAc1KBNQAAAEwBnmNqQr8AP4zwImcmAD5pvAPHxpotLQ+BmvVR\n",
       "lwQAH0NZPqxd4r+nvdn/XUKxOBy/Ohy2qrI14YlPBzqeEfEVqX+5IxynvSaHwWLHAAAArUGaZUmo\n",
       "QWiZTAh3//6plgAoITnuNgX9pf5VaVwpv1aL6vmsWlIgw5PSzY7DecfMlT235tiXUrUFnKtuSk7F\n",
       "qUyNccGA24Wl/ML3m8R4qQ4L4txiTYHA4r+0Nrpt6+SSDyhftHj6wHD+YUaSrSU9ovrgX9RCIA1e\n",
       "8mx+TVxHR+QdHl8IdwV5lbOwnqRKZzXRDu74Rw4EFbEY3CkXuFCpT3qWJcYzm510WiKRhU6DAAAA\n",
       "wUGaiUnhClJlMCHf/qmWAATA4w0AG0oRK41WjIj5X3C2sX/BjgVF1eiDSrq8rWCc4s902y5pPxoU\n",
       "msUii2dtfjqZRIYCLoDCIPV9A3oiLVYvxblwFij5m2bh5PdeKLJbmR/KKyjnYJWbLzLw0YUzpnuj\n",
       "/DRbnjQa3s2S9bliSbWcslOtq1CTTLC6pOnDb8l0v3FrJYa++z+J4ajGLxfyvwAoBmGosg2aItFx\n",
       "vQSFBSLSCEtj3H+rE6BF7HQZkPfIU+EAAABHQZ6nRTRMM/8AMQnIkJ6AgDEbd+GltGJf1ABm+API\n",
       "B9ntidT/gWeb7sp0AxhjV/V1Nqw73xT+wd1/0ULe1uYbKelT1c7xSPEAAAAvAZ7GdEK/AATr/4Vi\n",
       "BArDMK/iDfd2kCQANpGsOxfWKnEZt9ex5amiyTZiBVjamIAAAAAiAZ7IakK/AAeZnxhboS6pqJoe\n",
       "kKZI7jeEg/IaU+Zy8Jik4AAAAE1BmspJqEFomUwId//+qZYABL/rpZYYnAA3e7OX+ga8t2N2eFdN\n",
       "nzT3/hu7I1cDj/ImYUuxB1Pw/JJ7sh58tLPJqweQTfz32BHhV+qEwQAAAHZBmutJ4QpSZTAh//6p\n",
       "lgAE5aJk7mACEtSxp+kPhFnE3BfJMBgA9fzkvZomX7QueR6OmMP1TTzB1Gnbwv+0NW0LXAUlgihj\n",
       "KyV3Pjqui/Ceuq8ZJTtXfWempWThp1P6ChqGE773oGLCoZ88KeaAKlj0z7lwiv2AAAAA1kGbD0nh\n",
       "DomUwIf//qmWAAwE4zoAOLaqY9CEfurRNzTeNE3sMSsLO+68X7u9y6mZu1Uxuwajk7XRxqKn7m6p\n",
       "Cv82OruXObRCE3XM3z3BAQALv1zM6NWMdCLxKktpVKlydbk9TyMMUkRg/626JJUgmqA7juU0Aex9\n",
       "oimVSNuR7Ks/pzCH1YVk8pn+roDXlwx/1GQ/4zLRFg16ZFlVRoUGJ+qffJjaptSMlbVzvjhc3rMS\n",
       "Y0utbygXxSEdLDx/UkF0oRjTGNxAAd/RlbxP73NLvedlVTHxbHAAAABCQZ8tRRE8M/8AMQnIkKDE\n",
       "nvXmRwNAA7GX/LA2LpxysX0LNC3JDHuVhWDLNDny0br5X/OF9fbufwjQVqxnpGJBCjIbAAAAOwGf\n",
       "THRCvwAMkyY1VgXAAEYHRdvDnIbj/2QOkCosD2w7tZjfB3Qnf4XGvRG6Jg2zVu1GdmWQGqP90GtB\n",
       "AAAAJgGfTmpCvwATYNcXbC3JfsQAIeadm0/4Z8VVrXhRsGiwOwd7r+1zAAAAa0GbU0moQWiZTAh/\n",
       "//6plgAMVUqnbgeSrACCQhWgJl5XsyRZtab5C+skNbdU5BaUYYoBDsA181tJtESihzGm4c/pwZ5H\n",
       "AZaMTEGjnkL6fcFCOJ2zYJy67urttklYuLQ+xBn3qE+WHbCnnYzAAAAAKEGfcUURLDP/ADEMShQB\n",
       "2SJhx1O0eAwnYQDlwrpBo6eB/TL14JHUEZAAAAAbAZ+QdEK/ABNbnkL60POfViSFHtgPjMEfln0R\n",
       "AAAAGQGfkmpCvwAT5oL+ROm8AhJsgKChFrW5vEAAAAAvQZuXSahBbJlMCHf//qmWAAxVTrZBxSFw\n",
       "fCknnyeOnIBlc3PZuwD6QKZA1P6/5dYAAAAeQZ+1RRUsM/8AMQxKFAHZKmLeNFxwEwUob2d/GCjh\n",
       "AAAAEQGf1HRCvwADicWpNPU5yUDoAAAAFAGf1mpCvwAT6w+1Pb2UpiXszL49AAAAdUGb20moQWyZ\n",
       "TAh3//6plgATA411ABplrk+JIdeN4ga1X19GYUSAgg+sOS5x30JhV4sDY/5D9TalRihHyXvBAb3P\n",
       "91WC0vR6TD+dszfQYV+yf3cHkysnzhaXSKdjRWpT8I1g4UkGQCTj41bTKVRrKXZrbqukLwAAACFB\n",
       "n/lFFSwz/wAxDEoUCLp4/z06iu52ClZReRuBICCXVQQAAAAWAZ4YdEK/ABPugzYClWw8zH/6UlY0\n",
       "sQAAABgBnhpqQr8AHk1N/BYn1OhFhxbYiKP4EC8AAAC+QZofSahBbJlMCG///qeEAF9jv0AEYoDO\n",
       "V73HyyET+qgWDKIHSsOu44yvwPmcpzWk8yYmM9Tg2cuArc4LCl6ESPO4jnx8z7B65Xat9Rv7pLsV\n",
       "a8JqWwB34t18VVhxrvIuxCkzJAZyJQShNWYemrl90FGizEpBfoxqYHUQYYRnuX1vdJlA+e/KecPr\n",
       "tPGAnp7eJhqa1aqwyRi8f6189SIR2R4t3bkl9G7eefzeCVm6d8P2EpVfPS0uwjsj/9K14QAAAF1B\n",
       "nj1FFSwz/wAxDE8SxyucT36wAIfWHfw7rD/egIQPLcGU4B4cH2yuttsLK8HPwkaLXPM7kf7w3y2j\n",
       "HE/93VlHseagXnyGXyjZrS9fuKpbYNKRhLpbbU7hfLRoPzEAAABGAZ5cdEK/ADESZsi0KN4FSLMV\n",
       "QgAayT1QLVxO/5I9YI+QKf+fRZtwSuwdfLUe7xAf356bzfyxMNIQUXQEME8KIN93UA5awAAAAD8B\n",
       "nl5qQr8ATXaGS9cEviIATV219oP1ZdChn6uDKBjKQbML0CpJWlVTbaxVhN2Li0/EDo6Zp0iVVex6\n",
       "9m7SUNAAAABKQZpASahBbJlMCG///qeEAF9Nd9J82SAEp4/QnlK7dWZUx4paCff7z0xvhakTp0F7\n",
       "V1G5ES7gp52lv3///o7GMU2WerxrW6et4tsAAAAzQZphSeEKUmUwId/+qZYAMVUYyk3U9rMADJSz\n",
       "9yd2P5wOM/r5Id4Egn+leSXFCnIZFHWwAAAAN0GahUnhDomUwIZ//p4QAlznyXCqnefwNZFHBAAa\n",
       "rSfFfVvaunhLxNs/NnM6/TP+hRJpNT+bRUEAAAAxQZ6jRRE8M/8AQ25A9GmaGQATLIig0hav9Zu8\n",
       "Lco+OkQnix06eaQQ3Ztosgcwf5Wk3gAAAB0BnsJ0Qr8AeUhQQ1jyeiEXjZ9b0THZnvRdk3xEowAA\n",
       "ADQBnsRqQr8AfFluGQg4aAD3R0l1fPmbz/U2fwjVgzFVa4jU9ylVayi9km8JByK1iuhICyIJAAAA\n",
       "OUGax0moQWiZTBTwr/44QAky/kWG6oACH5FDR0adjugthCcQwrdJFMLaZIaetOEwURrXB+RjkWM4\n",
       "4QAAACcBnuZqQr8AfED/50aoAB/g+wN6Hxf5pLvBpAa/qMh+7TFdocjSToEAAAThbW9vdgAAAGxt\n",
       "dmhkAAAAAAAAAAAAAAAAAAAD6AAAB9AAAQAAAQAAAAAAAAAAAAAAAAEAAAAAAAAAAAAAAAAAAAAB\n",
       "AAAAAAAAAAAAAAAAAABAAAAAAAAAAAAAAAAAAAAAAAAAAAAAAAAAAAAAAAAAAgAABAt0cmFrAAAA\n",
       "XHRraGQAAAADAAAAAAAAAAAAAAABAAAAAAAAB9AAAAAAAAAAAAAAAAAAAAAAAAEAAAAAAAAAAAAA\n",
       "AAAAAAABAAAAAAAAAAAAAAAAAABAAAAAASAAAAEgAAAAAAAkZWR0cwAAABxlbHN0AAAAAAAAAAEA\n",
       "AAfQAAAEAAABAAAAAAODbWRpYQAAACBtZGhkAAAAAAAAAAAAAAAAAAAoAAAAUABVxAAAAAAALWhk\n",
       "bHIAAAAAAAAAAHZpZGUAAAAAAAAAAAAAAABWaWRlb0hhbmRsZXIAAAADLm1pbmYAAAAUdm1oZAAA\n",
       "AAEAAAAAAAAAAAAAACRkaW5mAAAAHGRyZWYAAAAAAAAAAQAAAAx1cmwgAAAAAQAAAu5zdGJsAAAA\n",
       "lnN0c2QAAAAAAAAAAQAAAIZhdmMxAAAAAAAAAAEAAAAAAAAAAAAAAAAAAAAAASABIABIAAAASAAA\n",
       "AAAAAAABAAAAAAAAAAAAAAAAAAAAAAAAAAAAAAAAAAAAAAAAAAAAGP//AAAAMGF2Y0MB9AAN/+EA\n",
       "F2f0AA2RmygkEtCAAAADAIAAABQHihTLAQAGaOvjxEhEAAAAGHN0dHMAAAAAAAAAAQAAACgAAAIA\n",
       "AAAAFHN0c3MAAAAAAAAAAQAAAAEAAAFAY3R0cwAAAAAAAAAmAAAAAQAABAAAAAABAAAKAAAAAAEA\n",
       "AAQAAAAAAQAAAAAAAAABAAACAAAAAAEAAAQAAAAAAQAACgAAAAABAAAEAAAAAAEAAAAAAAAAAQAA\n",
       "AgAAAAACAAAEAAAAAAEAAAoAAAAAAQAABAAAAAABAAAAAAAAAAEAAAIAAAAAAQAACgAAAAABAAAE\n",
       "AAAAAAEAAAAAAAAAAQAAAgAAAAABAAAKAAAAAAEAAAQAAAAAAQAAAAAAAAABAAACAAAAAAEAAAoA\n",
       "AAAAAQAABAAAAAABAAAAAAAAAAEAAAIAAAAAAQAACgAAAAABAAAEAAAAAAEAAAAAAAAAAQAAAgAA\n",
       "AAACAAAEAAAAAAEAAAoAAAAAAQAABAAAAAABAAAAAAAAAAEAAAIAAAAAAQAABgAAAAABAAACAAAA\n",
       "ABxzdHNjAAAAAAAAAAEAAAABAAAAKAAAAAEAAAC0c3RzegAAAAAAAAAAAAAAKAAAFCwAAAFzAAAA\n",
       "hwAAAEAAAABQAAAAsQAAAMUAAABLAAAAMwAAACYAAABRAAAAegAAANoAAABGAAAAPwAAACoAAABv\n",
       "AAAALAAAAB8AAAAdAAAAMwAAACIAAAAVAAAAGAAAAHkAAAAlAAAAGgAAABwAAADCAAAAYQAAAEoA\n",
       "AABDAAAATgAAADcAAAA7AAAANQAAACEAAAA4AAAAPQAAACsAAAAUc3RjbwAAAAAAAAABAAAAMAAA\n",
       "AGJ1ZHRhAAAAWm1ldGEAAAAAAAAAIWhkbHIAAAAAAAAAAG1kaXJhcHBsAAAAAAAAAAAAAAAALWls\n",
       "c3QAAAAlqXRvbwAAAB1kYXRhAAAAAQAAAABMYXZmNTYuNDAuMTAx\n",
       "\" type=\"video/mp4\">\n",
       " Your browser does not support the video tag.\n",
       "</video>"
      ],
      "text/plain": [
       "<matplotlib.animation.FuncAnimation at 0x1121292d0>"
      ]
     },
     "execution_count": 92,
     "metadata": {},
     "output_type": "execute_result"
    }
   ],
   "source": [
    "fig, ax = plt.subplots(figsize=(4,4)); ax.axis('equal'); ax.grid('on');\n",
    "\n",
    "line, = ax.plot([], [], 'b', lw=2);\n",
    "\n",
    "# initialization -- called once\n",
    "def init():\n",
    "    gndh,gndv = [-10.,10.,10.,-10.],[0.,0.,-5.,-.5]\n",
    "    ax.fill(gndh,gndv,'gray')\n",
    "    line.set_data([], [])\n",
    "    ax.set_xlim(( -1., 1.))\n",
    "    ax.set_ylim(( -.15, 2.))\n",
    "    return (line,)\n",
    "\n",
    "# animation -- called iteratively\n",
    "def animate(t):\n",
    "    j = (t_ >= t).nonzero()[0][0]\n",
    "    h,v,th = x_[j,:3]\n",
    "    w = .25\n",
    "    x = np.array([-w/2.,w/2.,np.nan,0.,0.])\n",
    "    y = np.array([0.,0.,np.nan,0.,+w/3.])\n",
    "    z = (x + 1.j*y)*np.exp(1.j*th) + (h + 1.j*v)\n",
    "    line.set_data(z.real, z.imag)\n",
    "    return (line,)\n",
    "\n",
    "plt.close(fig)\n",
    "\n",
    "# call the animator\n",
    "animation.FuncAnimation(fig, animate, init_func=init, repeat=True,\n",
    "                        frames=np.arange(0.,t_[-1],.1), interval=20, blit=True)"
   ]
  },
  {
   "cell_type": "markdown",
   "metadata": {},
   "source": [
    "To stabilize the quadrotor, we'll need to linearize the DE (i.e. take the derivative of the function $f$):"
   ]
  },
  {
   "cell_type": "code",
   "execution_count": 38,
   "metadata": {
    "collapsed": false
   },
   "outputs": [
    {
     "name": "stdout",
     "output_type": "stream",
     "text": [
      "A =\n",
      "[[ 0.    0.    0.    1.    0.    0.  ]\n",
      " [ 0.    0.    0.    0.    1.    0.  ]\n",
      " [ 0.    0.    0.    0.    0.    1.  ]\n",
      " [ 0.    0.    9.81  0.    0.    0.  ]\n",
      " [ 0.    0.    0.    0.    0.    0.  ]\n",
      " [ 0.    0.    0.    0.    0.    0.  ]] \n",
      "B =\n",
      "[[ 0.  0.]\n",
      " [ 0.  0.]\n",
      " [ 0.  0.]\n",
      " [ 0.  0.]\n",
      " [ 1.  0.]\n",
      " [ 0.  1.]]\n"
     ]
    }
   ],
   "source": [
    "A = D(lambda x : f(0.,x,u(0)),x)\n",
    "B = D(lambda u : f(0.,x,u),u(0))\n",
    "\n",
    "print 'A =\\n',A,'\\n','B =\\n',B"
   ]
  },
  {
   "cell_type": "markdown",
   "metadata": {},
   "source": [
    "We can then design a stabilizing state feedback control law using a numerical routine implemented in the Control Systems module:"
   ]
  },
  {
   "cell_type": "code",
   "execution_count": 93,
   "metadata": {
    "collapsed": false
   },
   "outputs": [
    {
     "name": "stdout",
     "output_type": "stream",
     "text": [
      "closed loop stable? True\n"
     ]
    }
   ],
   "source": [
    "from control import lyap\n",
    "\n",
    "W = lyap(-1.5*np.identity(6)-A,np.dot(B,B.T))\n",
    "K = .5*np.dot(B.T,la.inv(W))\n",
    "\n",
    "print \"closed loop stable?\",np.all(np.array(la.eigvals(A - np.dot(B,K))).real < 0)\n",
    "\n",
    "ux = lambda x : np.dot(x - x0, -K.T) + u0"
   ]
  },
  {
   "cell_type": "code",
   "execution_count": 94,
   "metadata": {
    "collapsed": false
   },
   "outputs": [
    {
     "data": {
      "text/plain": [
       "<matplotlib.text.Text at 0x112430390>"
      ]
     },
     "execution_count": 94,
     "metadata": {},
     "output_type": "execute_result"
    },
    {
     "data": {
      "image/png": "[encoded data removed]",
      "text/plain": [
       "<matplotlib.figure.Figure at 0x110b2f210>"
      ]
     },
     "metadata": {},
     "output_type": "display_data"
    }
   ],
   "source": [
    "np.random.seed(50)\n",
    "\n",
    "dt = 1e-2\n",
    "t = 3. \n",
    "x = x0 + 3*(np.random.rand(6)-.5)\n",
    "\n",
    "# input is now a function of state\n",
    "ux = lambda x : np.dot(x - x0, -K.T) + u0\n",
    "\n",
    "t_,x_ = sim(f,t,x,dt=dt,ux=ux)\n",
    "u_ = np.array([ux(x) for x in x_])\n",
    "\n",
    "fig = plt.figure(figsize=(4,8));\n",
    "\n",
    "ax = plt.subplot(311)\n",
    "ax.plot(t_,x_[:,:3],'.-')\n",
    "ax.set_xlabel('time (sec)')\n",
    "ax.set_ylabel('position')\n",
    "ax.legend([r'$h$',r'$v$',r'$\\theta$'],ncol=3,loc='right')\n",
    "\n",
    "ax = plt.subplot(312)\n",
    "ax.plot(t_,x_[:,3:],'.-')\n",
    "ax.set_xlabel('time (sec)')\n",
    "ax.set_ylabel('velocity')\n",
    "\n",
    "ax = plt.subplot(313)\n",
    "ax.plot(t_,u_,'.-')\n",
    "ax.set_xlabel('time (sec)')\n",
    "ax.set_ylabel('input')"
   ]
  },
  {
   "cell_type": "code",
   "execution_count": 95,
   "metadata": {
    "collapsed": false
   },
   "outputs": [
    {
     "data": {
      "text/html": [
       "<video controls>\n",
       " <source src=\"data:video/x-m4v;base64,AAAAIGZ0eXBpc29tAAACAGlzb21pc28yYXZjMW1wNDEAAAAIZnJlZQAAJfJtZGF0AAACrQYF//+p\n",
       "3EXpvebZSLeWLNgg2SPu73gyNjQgLSBjb3JlIDE0NiByMjU1NSAwYzIxNDgwIC0gSC4yNjQvTVBF\n",
       "Ry00IEFWQyBjb2RlYyAtIENvcHlsZWZ0IDIwMDMtMjAxNSAtIGh0dHA6Ly93d3cudmlkZW9sYW4u\n",
       "b3JnL3gyNjQuaHRtbCAtIG9wdGlvbnM6IGNhYmFjPTEgcmVmPTMgZGVibG9jaz0xOjA6MCBhbmFs\n",
       "eXNlPTB4MzoweDExMyBtZT1oZXggc3VibWU9NyBwc3k9MSBwc3lfcmQ9MS4wMDowLjAwIG1peGVk\n",
       "X3JlZj0xIG1lX3JhbmdlPTE2IGNocm9tYV9tZT0xIHRyZWxsaXM9MSA4eDhkY3Q9MSBjcW09MCBk\n",
       "ZWFkem9uZT0yMSwxMSBmYXN0X3Bza2lwPTEgY2hyb21hX3FwX29mZnNldD00IHRocmVhZHM9NiBs\n",
       "b29rYWhlYWRfdGhyZWFkcz0xIHNsaWNlZF90aHJlYWRzPTAgbnI9MCBkZWNpbWF0ZT0xIGludGVy\n",
       "bGFjZWQ9MCBibHVyYXlfY29tcGF0PTAgY29uc3RyYWluZWRfaW50cmE9MCBiZnJhbWVzPTMgYl9w\n",
       "eXJhbWlkPTIgYl9hZGFwdD0xIGJfYmlhcz0wIGRpcmVjdD0xIHdlaWdodGI9MSBvcGVuX2dvcD0w\n",
       "IHdlaWdodHA9MiBrZXlpbnQ9MjUwIGtleWludF9taW49MjAgc2NlbmVjdXQ9NDAgaW50cmFfcmVm\n",
       "cmVzaD0wIHJjX2xvb2thaGVhZD00MCByYz1jcmYgbWJ0cmVlPTEgY3JmPTIzLjAgcWNvbXA9MC42\n",
       "MCBxcG1pbj0wIHFwbWF4PTY5IHFwc3RlcD00IGlwX3JhdGlvPTEuNDAgYXE9MToxLjAwAIAAABEr\n",
       "ZYiEAD///vcj/AptaQ43T//c/41brlWpIDI+AFSE47v6e64OAJ+C6q3E2RK6QDFnjA56qCeEsWi8\n",
       "J5oiLq9ebrnQOYR/B5t0szSv6ymrStslq31bOU/L9guaxjyKd8f9O8OZuSxRdGc4DTYkpY1u0MFD\n",
       "gzqJcQ7yxubIuEk96xI6mI3K4TUG62je6T/QZXryyfpZpXD7iM3NtJZ0he8TxQ7Vu+cW3/5Ev9/F\n",
       "+Zbpg1tBq8AZ/aNn6j8/GrIYAbgCcrKZLg1VnFZu0/sKQPs3sIka7cghZf633drA970gjSdMpqsq\n",
       "/+AilDQzERIYGENu+rYU6K6ZVKK50H+iHfnrSUIojFr1DUHpCni5K5MLvqZOecpa3TWUUIvu9m1W\n",
       "a5T+ti0j0Xtag/CbqzGLt1bR2XHoY4T7AU7696GwKO11JoTVW3SK76ApIrZ4eE4ExUhIxUS+xl6F\n",
       "EfidtucTKQ+V7oaylowh1zvr3PtiJawe6b26ilyZORKG48TQguZuTmZsTgS+D7/4q2r7ftOnHU/m\n",
       "8UTR34gM+OpBFn5mqu8LVUdxvpTwd4sB6+WLsKBrYd7mPBxfxZr8qwPoBJdoqHvUIPaXYWlbvMKQ\n",
       "4ldTOsDp7DGezySuFJ7xoeOZdVgdHUZukHXvpc/ThkghTZyQ6/SYHbi3f+JXcrOUaZ/j/yV/98R1\n",
       "t1vfE9di8JtVMUtClhMURx3DxpPwWJNiH68/3v6OODa8gdkBvi9F7SYFelPf2i+/aVzPC4eGfotb\n",
       "AUlerVumK/heCcMTgN5uYzf1UNTdOZISNw1++h52Zr4ZL7xF+COw311TJc9DMzm5PBJ2i4qKP3/s\n",
       "BioYdxrkeRGuYoM4ZVtN0Zv1/DID0VJrfJ4sRA4qktfcVMJTvKUKtJhoGBQk6WOmxLMNBouIz9FY\n",
       "6bJlgoOwLlcLG7Aay0DgF57sHDSaDiGanNrqr6QDXC1FiD63B3gI8SYmh0LrYp+ab8GWX0s9JCJK\n",
       "v0u8XHv6ZezXfpeSS0jY4pfT9f83TYvcn523bv7S7RynsxGXLXMyJ6+y0JdxBqnmG+UU+njVkT/i\n",
       "ND3yu7RIvQnnuOtdwOL94KhAN3VzPNJoOUxmQ/Nv8MZ+orbI1ZVleAWCoWmdudYZaE5zfQakN17I\n",
       "N5ZkiT6vYinR9hq3cD9FOx/nL8ckAwfuJ37tY5MOd2AwSlDMpzM+9Zp0TEpJ65lqyI27AUEAwfJc\n",
       "lno7gSot9AlcXfCJoQlsAegYVqcWJLLp3sXyXEbIED6mZQfIXqnuqjaASTg8kPq+9TIXfhWr5yQU\n",
       "nscdZQfKBtQrWM61pjNPdmgrra0ZpkWcnXIUzazXoHlYbedcxOLNhgugk5N1n8ocn68MSShd5Xx+\n",
       "YzTXdryNkQrPzzKqxZywBHgtiEnZHaUrtT+ftIK/jEOIt6Raqo3gBaGDC+81FOYcTFkX7T81H+jx\n",
       "ekTVbAqq8xTDo4IXt1VFTKTVEjDuIOw9TUHqxU4J33vv1AMKqxU4J31K9AxByWKE+3zGrMQZmRfR\n",
       "YVYep+pjhTZ/h7zuCd9dbVqpVTwC6tPXxu+pfUWkynepV4zdSF24lzvApuA/343kydzv/zfLM13I\n",
       "cYV5wejBQBaWYVG+Nru3EsbeLJHVfyfnaTzzGrMpNfYJAooe87gnfV/+irdMRpVZoH2qtRiCLWfd\n",
       "WHqtv8d0hSILqs9vZSazGrPb0xGrI6C3wMDDuVLApjPR+fcOSlrR4yN3aSGcnTpMS21Q3+Jr/75d\n",
       "Kcqx5gAXTFFcdKrn9yz71SPYlq1O+VO6TeLYqJ/uMY2MJzROJQa1N/IQUpoAYX14BiLSJZGDZby5\n",
       "sy4WHAGKkIzV9YMZFkCbQwQFTTE+AAqIyymlb2KepdOGupcKtcQzNPhFqsGtgs05IdaMhJJzznJY\n",
       "NltkYD9EXLoCmO9iMdNuRazj+cSoc16L03G1HmrZcA1K1OIzamheetp05fY6ZaVm38o7AmW4ObMk\n",
       "R7lrL0ZbJsa6yiRyMLG+PVoW8GG8MgKkM/HhuMdiXBHdT0bBKbtOXQ1UQM12zPyT4VYm1lHkLw4n\n",
       "XlMastjZXB3HIEzpId+Ky2o3YBBrqXCttW9nUwj6BxVJdZVOw92GdJ7ILw3q9vnYZ1IQO0+kOecT\n",
       "VtybQ1GHJ4h5r7mu6bRFB+VNCjsgfjx3qzw0aIng99m9UPKILKkO53CZ1sttBboBEdvc9Jg3p7Ju\n",
       "k3BKI9QvkIxs9k/03gDoZ4Anmk67M3cRWiuEAxLkwVuWtYMUV2760ALFNS9sOwHkV/txlZ8XigyI\n",
       "XAIW194PKJgNsAnhXxMiwe487gxscLj32tQzqtteIpOqNbIzP39QtM6PttYFPrV/g7AYJRXArOfV\n",
       "7EA6NbRNA/RTtBTUQ0Dr2jl7D84To/G2mcjPer5FV7EBGAqSeuZaq80KfWFpnVNPz78UNJl4F4fN\n",
       "UNcJFKC0mxcGHfiMNBf8oIxurE7+66RmNT+h7W7tEzzEh9D7yKeVTDqxfFtn1Rj8U/oPdPmGUhvJ\n",
       "RwEx8rW9KPstladHzTmIF4EahVTALx+X29YcwAq3+3u4GtDE30gTHgJLL8bdSTLoQz1W31QqOy+y\n",
       "jI8Kmdesbj2FiEHdrx/7JOoS851Abib8TS4zRGZ3y16RzosTOvop25qkGm+nEcRwpamsrSTQyMeX\n",
       "J1RpM+ZHMDr2TmGgg6wJHYDBGnWiV6vYf/EL8cj9FOWUr5oQDBPUUT+fGlhDDndgMEdjU5mfesxC\n",
       "NusNMq6p36dmgpUsXBcdwlYFf8qC5fiTYHWfcKu5AKzs79uScisyu/yVCJDGAhIvz2BULnfqzoxN\n",
       "WmuFYHXjh1xHzQBBat3BAMEbvYHTq9h/+hWL+WRquXNH+EAwTnqRCN0RQrDndgMEiqw53V7EQK5H\n",
       "d7HTeQWBxSFKDuGIJlBHUu/jMnW2nvX0XN7we1dWwiVxzVARrHiBdDwLy4Q4rZa44vbqVnrti1fD\n",
       "vDk0dGbD/AeLB4Fl6Cbla0HffSSlJbUOsdIQ1uMWWiQl4yMQ3gI5bLRi3PVKJ+cN4Wai/eWWjfWH\n",
       "aph4wt5zCbRvA5Seftjh66vwLYvaCN154IeAUYkRnLBrfHgR+5CPo+Ln1S8kFomy0b0gtTQo7AJq\n",
       "q9oMY5def74KBYMOZwq2svRRT3MMQB9W8R41/an9WxMpme1iFyuqy0Y9m3N+vthh2JtGKRNsgicc\n",
       "AmhistG/GS+5+5Au7xDOXKLezX8E8lTB1iEZyx8rTIasGqNCM5YODQRoTyXJoWqbRvRzK+kA1LFg\n",
       "GWjajTJbTpy92+d/6l8WXwF4rCn5GFOvCPtz5IJEpATV66Js+hZRKIjjqv/d54UxJH79EUIA0jEw\n",
       "tgsCdFIFqOIrKHT+YsmrviNY9FkfQzKtRVEfv7VSVBAyrmXLW7xWDNsW+Y/cEKha/EiRxqAAohif\n",
       "6v4pmuhUOm0lXNBhCOQAUoLZVxQolSijzetnuPDJrejklKBbRTLvNQs13FZrM7ps6SsTqGZtObqT\n",
       "uISwAUGSmcZZbTxY4J9UpOBZPnYC7tG55jYNn4sebBdsF/SfUZvE4A1wqqDudGKkiqTvFzDsJQKp\n",
       "QGIVSD0nswplKzByo9mFQ1NktjXLz8P5KV0N/zRPMciGVHwe/DVG1VGypHiz72eegk+J1dMfHYHK\n",
       "c5al6eyQUh9IHXtLxlDb4ndgMET6XSj2AwRKVXSj2AwRU6+J3YDBMgW1ETuwGCLj4id2AwRSBiJ3\n",
       "YDBGU3Sj2AwVq5h212oU56p4BO7vkV6eN5bmPWULYaZobQERbv5bM+0h1o4TnKmmwI2lpiqaprL8\n",
       "0L6G9mrFbDsXsBgiyJ0o9gMEUtIid2AwRh58TuwGCJHIdKPYDBG2oaL2AwRf18TuwGCPxdKPYDBP\n",
       "Oa55A2Vl8/DZgsY98fZj7922NH8h8m3M5X/R//aGDx3roIxfzCRAagaa+j9Tn6nPLXmBtRHbDuY1\n",
       "mM0ygctvCGWbD1c9RaxZsajkVrRmmRKF561ozTLf1y/6M0yn7IrWjNMx9kVrRmmuGCzAbZTlce13\n",
       "FaOB7dT45kfmz+cxC3bKpGeydSAxlGYb3EZi+Un7aZEcaPD7VEHcHGgEkA6T+MXm9+g5svbG1paw\n",
       "NnMrrkzZdn0TjzuB72sNwH2tFERtOSLGLFcfF0tpvSNSAm/Iz0fqSHc2qgnheeYd6TcexnLIM/ne\n",
       "J6mw/Le0EHfDTc80dSbCQyF0VRLjpImv/VOB8XXkKLxGcu05l8007MzCmM5co0KT76L8D/4XPCug\n",
       "PvaCRe5XWI8S3vO9oIRM9EXL1qLwwZL02jejo0msI2qVdV7QYxh1uvw1L+gEhN0tYu+Y8Gu8dE//\n",
       "1/2Y2eFOuCFnaX7ptdYS9U9i9oJ1I4HWSgIOF7QTmuNKe5Zt7iyHJDiXRfbv2yoryk99uCipMOvX\n",
       "NSfsRxjw65BaOkol1WtLqnZNGTwVcTO/7IFx/EJQT/Dksef9n3QageoyqIbsGEDvk+CbrGoP5BfX\n",
       "8s6HFhj609XFYhoLQ72tDgcvRMuC2rihP7AxPDw3EDY5fnfKJY9l36BScH/xvm30zh7VEu2Sigt6\n",
       "eskw4TbGmtjOWE+GHnS/ZTZbLRjPRWfeeeYAp/LLRuliYeJwNK2JMJtG5GCQCbRCLETRziQqE905\n",
       "BjNzdehNvUzt6dbkbxidD06sc7MrgVLdijH6vDkJmZNr6eOZaut1FrhvpJzKCQP3q+U9EnDvgeqk\n",
       "9VMugIZvhuaD+i5BEfkb6hvluzx85NY5jbYdOatbBqpV2luIIUb7dyzy7VvLyLf5kN4h/Qp1kavA\n",
       "B4CqvG/232zVqSDCvdHpv+prBREKe6RBUXGdX31YNTk6B72DHdkovvo+tpInDAmtEXeiQxc5mGlR\n",
       "quO+J1XXMwsWdI90YEy8ufWlJucOiatm9q048hjicWIR+bdwFo9w4OX0ANWHO3y2FBhJd8C/90sR\n",
       "rB2H9jWJ+Dkl2CLFefiXL5BrNGGf5YWJlzFFvKlhnkqW4oJjcz///58BJY7CdeAtK66Ea2D6L8X5\n",
       "DpcefnXJOsX0rGQHrz23p39xLH/Lj2dwzHZQk4KKUg5FQbk9vMNyXr69bULiwY2VST8b+vkgzmyj\n",
       "sFYO40CHX65L34JUH+1CrCuAtsVH9kzxTbwW/NIEFsfSOd6zY/pG5UBmKenyZPpLc+mRkreGJM41\n",
       "McaMXTlmzajq1Em1MVdb7+9jv6bGApXoLI1xVGH110zoEoeKt+G9zzCt/ldAijz///9fwM+CPVg2\n",
       "+kwHM7kvYSUSfOX84794k6VIZZH2y1fwkBsfB7O4xYo1uEpACpEhZSnLZjDwe2KupE+wCapMD0Nc\n",
       "GBLKWzTxgLVZ4YDu14hX/RS8VbKYKHqsUaBhVxqbLQBGek3Ca0VSOxLQ0aj9RPVk19JOPk7RRYSw\n",
       "ilBjK3lo52nTIXdGhlvS2kkMmEG8LYngTDBZAjwb0e1VjJ431P/2fQgbn6i9utrR1WD/FS6qFjOK\n",
       "hTGT/Wdn5+pHDB2VAFriJi7/SJdIHKwo+MitJoyv7m+OqiJ+9IAkdQN7QsoSuW7BfjyJHrNZocGd\n",
       "Xj7uh/MiCcRfrgV+q0Gb6JxO3y04PuPDcuA474ZTv2hUIo/NNHZjJL6lsPltXWrg6IFQXs53pB4x\n",
       "nr4aphn5PzNFqkkjRU00Go+7+eSLUe6ylwj2DD7R+5IhS5X6LXXZBO/ZJ98Zw2k9gft1U5rV70W4\n",
       "+vg+d20051NeulaviKhauDzRLs0ZYWRoB3S0QAoJynJSL5cAbV+A9hVWpFwXybdyzxZEDzsJvG91\n",
       "3yTfURbwTJZ4v2PDIUO3/hqk44CxlwGKKgRMZcVNxWWNxIF3dyK3a5is9fVzTg0Z9WOy+0K7qMM7\n",
       "joGHAFZBAAACH0GaJGxD//6plzhSOAHMuyu3H2IFro3+ae4wm7mvDmrBuM57sCk74pDIDTi1GB6k\n",
       "tuBS1bU8EkNxbkaI3/pUSFDM8wz3iuggc9EP8n0uGOlRkKxzAbhRpqWLj7zjevyRqMsOPjikvekB\n",
       "855sZwIk7N1S2FddVAKq5v4DIUycbsAQmIYkfgBI3YZNNqrK5cKHSOMbXxYrTJYV5M/Gu7pkV6v2\n",
       "yuJkVHfFWHYjqP+brx4C8ATA4nVY8Mix/mNsNPThqZCPBouvcpjZVZgozC0g8eH5kuWT+6UM3odE\n",
       "TbP25mY80HVymzBvvsNe+WT4BiHIL8oI6cEwcjxoNhFsXkr3Id+1XAECXdslnsTyFjQkBdKbujXE\n",
       "ieiWWaJIQKd4nWFssfo2P02kXyesVnVN5Gkp9a59ODXklbLF6UMZVm68whB6YcmJfOyEq7aXg/MG\n",
       "z4m7xF7eXA4gKx+QuMXLvHSohjFDdAPu/PfdlGwIMyFQx7fbDkNXWp6ANS7oqWzfMMcMa2ZuNLQ+\n",
       "GnWEjqiN5HjaiVWLSGmWty3YLFub4ORWS+S27eJyXdQGy7tarHxLmdRl15rC0Ps+Daf/YarzAnIf\n",
       "agDaDGVZh4pEL2q8f5WSLlmUERwyxcwfZDqtSFvQtLIcHjLUTNSuPIZ58Wu7OKofID2UKNXuirpp\n",
       "3pNHUEGX1xUi8bBO8ks3Rd9GqPV1fbVLiOGeFLmXMBnVM1pXRPKyQgAAAPhBnkJ4hn8E2DGCwyxS\n",
       "5aSdtv+YN87YAEymOduoEpte2P52s1CAEPP5u/h6eoDfh+QMITy0YIzo18zk35vIME9KknXznsNk\n",
       "jzVZcUwZsiI88Z58X12sW8WBm4HyXxqBICvKqfRQ0qKRZn5kEqoAatD/af6iH40VtrYGcyxjCAr1\n",
       "EZm/BFJsrOsmel6q6Fmcp79Nx4zbHG8VIbWriBeUTlxGdIkk9zOpDaThUFImCSrL7FSLPmNk3ZN5\n",
       "I1wegk1euA1URJEQ8R1AV6YD5f5g6k82Cea+/Pp4bx9dWu7TVpYXzJKOTqOHL06HSp34INXrK4Mu\n",
       "p0YPVIgSIwAAAM4BnmF0Qr8HuAw55LC400sVdeTKR2bVJn5dEStRrC+DfwYlOTEoF8s0RZMzHI+D\n",
       "gJfQA3XnNALTmR3DVPV8HcJzQHJ2R238OtvQ6bqXDR5Ox/jYMR881toaZv+RlncHD/oaMbSrXpwz\n",
       "qmWV/SOxtOY5P9+3YttckFwVY5u6dUIHHKD0AApNo+jTTMoA5YEFFQAMs7YuapuihCDomM9cnfAt\n",
       "SxHnNtBh7iP+bFakyi5BfTr6vtCDR7en4P8jNph/arO9Wlrw8nJpK40gLzsF7AAAAKkBnmNqQr8B\n",
       "bLI3plT2QBqRX7etFO/LzB7mDYe3ANqD/qLISnhXg95uwAC1bRxdjTzGpL81JKjgLbxc6lIQztsE\n",
       "iEwPo4TLBC8FS1BJDVG4EFUjBpnBaReOtOszYFTg9g2u97r9+Zvp/RylqQMqxCGKp/xX0dHnpi7c\n",
       "WWHaZOTR3MN6OdXc+rsUONR/ArvZBYWkmQxgAOoU4EuNL/33NrCDCcSW01TjZ/2BAAAA/EGaaEmo\n",
       "QWiZTAh///6plgCg3NaWbgUMqAIXdOE8toMwTd49DOKrlwFPuqU2O8T/UmlcPt/mhXXVFx37Nsvl\n",
       "+v+vr5iZObfJJWTl1MjvGKYx6arae/qkQgpGkHwmN25peLCbdlGr/mU2LMNX+d17dqCEzDqVgFIA\n",
       "MPnKStDgtfEry+pr7lw38a4JGxzUdaQ7Uskjs1Boqgpv+WBotx5fgwciPSNuy+Z5k9yZ0844t1Aq\n",
       "GHFNC+dl5NxB9oWtGXnysXofVfZ3UVAwOB00U8H5hO+OE8+ULbcV4KfJzugOMmizpzrKdh3a2v6P\n",
       "iP/L3/VzY6STdsPeqhMXKdAB5wAAANtBnoZFESwz/wDEMTKHki9QXaKvtskyEJ1wCZqmAdJlpUEm\n",
       "NcLIkga751iAC+Zf1T4Qyu0tZC827mjxWGBReNFj2c6fAOi0pn6Hm+WMnC6+62xFZt7AuNuisduj\n",
       "N8zPvTPDaNky+/ojMrSFXYQxkCjW6DSC50FNXa4Ss5ic0FA6NbLPWWTw0TPoFDsQG+giOELc2wJE\n",
       "0zsStvzeg8fBrHomx9WYNGqbQbJqWIqBu6f4J24Es+J7nJ8xlhAZJ/xbBa9+za/l8dnXz8LUyfPS\n",
       "gi1+nITCNbrcH7VPs4EAAADTAZ6ldEK/AWxOvdWmeMTGsBIFXxmvVVVaPrfCE2agBx7UROudD3iu\n",
       "T4brlWv+I7ZRXs+TPvB5vNVzxV9I0BsgT8WUTRpoeNsfpETOTpMZDwV2YBQTaf7JR962nyF5EPRE\n",
       "BgpSjkvP10iLnyix9F0dpB+PXmrqY0/AlANZ8coAD0RXuHy3Mb7V0NV30jAyVBUGggwy41mz3/+9\n",
       "qRPRkEe+RnkRcNXiFnBCB0cVQRJ6KAWuczr+gVLMrEyi05NXqPojOoHur9iBfyDkhee9Tq/U3eRO\n",
       "4QAAAHUBnqdqQr8BbLH51SpQJI/CjyTGc3pcH+C56BiADTdJ3lArnMqlp6IifvY/mVr/hs1cq/b4\n",
       "Pi5zJ9EwwvMrRmlh5mVXrFkTYDXh4y6/dKfjt44yyj3VuDaNt/zcWi48kmKshNW3HpIgwFINa27Y\n",
       "V/qmHTbRVRwAAACSQZqsSahBbJlMCHf//qmWACghOe42K8NLQAXzXemhSotiCGYypBg4Qlo7b6Q7\n",
       "8h/q+HKucYDxJB5OSaAOxNHOCoXBq7d3oy+aCfmCTjIFAOoXFGUQLEPfbdxfahVIkwR6mImR03B5\n",
       "JZrErAU98suOVZyzP5eyZmWE8kj0bvSbifHOw6TVlpAqJn014L/pdww30WgAAADdQZ7KRRUsM/8A\n",
       "xDErFngKDG7QyM890oYgPjKLv4ANnpiNK13mSXidTCJQotAaYyB0APCOXL0bQlcXxLpMEWCcKVRW\n",
       "syp8E+pLpjeFgLPoM3+PBIRIaFIlpdufeAs+q8OJYxGbozg8e3h9/axSHp3SUbkx7fMwBPT1lA1w\n",
       "lGnMzQnfN+SWoeSDYP7q+Kno/uuslOazsib59gAe/mT5Z1RTFe8FeAjsaJXoiL+3uDyCYVSxRG0g\n",
       "f/mhzCIXeXxK+TVXxCjf28kh8dTzkZZ2qjkZDTbsIk5bKAvtT+IRm8EAAACEAZ7pdEK/AWxOdJ6f\n",
       "9+1A4H7YgLeDJgVemd1fwARB5U8WycobjrvFU3Ii6d70Q5Vt6lmM3LVnbp9Z8sH39U0LTUmW2eCI\n",
       "UZOCuARGmOhGjeCoBSYv+bVJNmPWGf1MZfJjf4Cih8iQ9nMw/hxnsYSWVgLDFzWJkc6y0FIbxopf\n",
       "kdF7GKxtAAAAkwGe62pCvwFssfI2yc3u9faLCEZaMAAnHNiQ0ohvL30KV/87A4E662zgZP2qntgR\n",
       "6/2OnqiLdcuu+EmQtnHmYXLCBKXVsHcd+k0zKiRlRZjo0hn7KROYzI4vtmEYg7egJuhe+rpq9gva\n",
       "LWsovW1kYA8+WPKSD8dqKvjhYOFHHB3YJmr1nrb6gsPr+gkZISDL8lk20AAAANlBmvBJqEFsmUwI\n",
       "d//+qZYAFJ4+oA3CGJW9i5QU32xYNeibW/712+5v9flMyq0L05zo2SX2PLvDtxyxmoNCyVPslTtG\n",
       "9oETf3WZ+iof/AN2mVtUCqg/kCPX5lFtRSulk3M3FbbTk77YtACMFUVaX22yFxV6DRtukZBljGaf\n",
       "tKNIA4rcV+g0Ydvt3sVEvvcg0mDN6hFT/8C5Rl1W7FrcXgPGV71kMp8zTC6u4Oezs6sbVJJ/iNzw\n",
       "vq6TNHX/jEZWrYOJJFZfu/EVhZCX2Ljn9i9PzuTHS5JnQaLDAAAAskGfDkUVLDP/AMQxKxZ3lYtP\n",
       "Th/mABCFOeS8bKVw3Dg0OXLI5r+WjuCgY4p686LlB8VcPpDQ2JGAhFMpHYLNCqmv5cH+Oexvd7cH\n",
       "MQRw2xNbSoCVCrZO0oF5ITkF6lP1hfL31lJ7r83na0i9xmeKy45TeLTGsAamQd2QUTUuzR/1IgHU\n",
       "7r8Ogu2aTm8yT5K+smShxFtgY/zKCIJvVhBf4edFB8XwxlbySquRQDK6v3RU2I8AAAB4AZ8tdEK/\n",
       "AWxOa4PIaXvgchsfbgA/ndp2fPwSfWle9viY4gLI+z7UCiH3LtZTh0CLfw8PcypoTaor5EXiJ0Sc\n",
       "eWxS6BE+UKsiIpM9S3oE056eGgLEgMUVIBkuMc3KfxYNZNrqZYHK+4TZ8qywktzfPPkaCVfCUXG5\n",
       "AAAAUAGfL2pCvwFssfRTv8ODO17I04gBqJdZoS6MBF+uuY1BtMsht/3wBfJWDYcDAWFq6M3lt294\n",
       "gNJgfVdLrF9+1ikg+kAbdwIOwNyhC4svM9ebAAAAZUGbMUmoQWyZTAh3//6plgAUoXDuqC7GTgAy\n",
       "5IOgxYdCBz4D8F/JYWPDg4NxPdPg42pcAoZHbtTj7OAQI0y9UF/bwvanJJ8IN3QYi3vpK1/j45qq\n",
       "bcathw30eh/Zhz93/oJPI3oQAAAAo0GbVUnhClJlMCG//qeEADyj+YALAjuT4U6aGnne1TGM5FeB\n",
       "EOQ3Bg3Tk7Z39YsmkSO/zNwxEe9Hjrw10xyfBBFpCFzScxqnEZAzgQr30edmCYBQifyvnXky7jpP\n",
       "6GQc5kLHQIOAGJyJNpQ6wd0pxI6YTxrAS5HPzvcHbtx+Bd2mTABkMdo4OOj9uzx6lVPzAem4HVuc\n",
       "B//gitA60N79FXhstSEAAAB2QZ9zRTRMM/8AxCcjyyzMjhB6CPNhiJWwAIChFm31XEeYjTrgTvA0\n",
       "pEGXLSG0yaIXd3hbApYjpIhk7dN5F1SXzSX92bSawybXRVBNQukVsuyRTssd2KA+97r5xr6vGOSE\n",
       "LSOe/nIt4P2tnAGvEr2y6MjSRM68gAAAAFABn5J0Qr8BbE5xpoH71wO1UMrYpXH2NI9HGOU+SAAb\n",
       "MklaAQ0OVTgSOCm/wXgHLMPpAz9OzhTwG7lLDjgvM3DGK4BNjeomM8i6ptNJ8rGgRAAAAEoBn5Rq\n",
       "Qr8BbLH3KqDGaFigffQAlc8nEJ34oXqboOKxTaQ400uUHKv4yPcKJi8QyKQbjn+tewzxI2jHJ31P\n",
       "bV0jSxDUHIdIUoDtgQAAAH9Bm5ZJqEFomUwId//+qZYAHowujcQA4w9Va0PrFwB4Z/w36rop0eWP\n",
       "pa/eVztJM32n748c9qA69jbsdQNrE/MphABv8anBxvPXukgRTRhUtdHeXPf03/wOsFHu4oJr7Lbb\n",
       "tff8PsSBUcFe6oDynyhw4DN5PV7tChvJvU9o9R90AAAAmEGbuknhClJlMCGf/p4QAO0cXVgGoASU\n",
       "SQWae01w/vN9P0upUvE+fRGe9nkTXw/G34rKWq9zd9JK6mB014ChqZdRPX41TVsVTNvEpYTAVRN4\n",
       "DGg6LwBsNbW4T5yBp8NcJX7iT0SECagqpz/JQUmjN1sBCRnBatWD5381Qr70g3NxmXmZueOOqLox\n",
       "ckvmrvoF8SqkYp5XSFmBAAAAVkGf2EU0TDP/AMQnI8sszo1j40aY/nxzTrAAuZOoFKl9AKoOzBv7\n",
       "abBLkCMUkR1GP9+pbjWOpECcRJ7OGrg4JA4wO2xrtmk/leUWdhFugt+7ygi/u07hAAAATQGf93RC\n",
       "vwFsTnGemglZUALau/0l4/ScyFAdBqdKqhFheFpo4CS4TcUc3P5SEkrkED0ARvp/ZMyOzNFbWxOu\n",
       "aRixP4VpdSTCOAMBnb18AAAAOAGf+WpCvwFssfduNtsBBDtWnDUy7ABulac0kcxjXZvlyYsiM8hu\n",
       "llmi2D2iX3DyAE40j9mxzOV9AAAAWUGb+0moQWiZTAhn//6eEADtaHCDEANWUkJCaFN4seju5eFi\n",
       "MGyr6Ls7IiYIlt4m/EGTZlh+rRUPpLj1dr+SpdgmMiXT2XsS3I+2k1bfwK1Y4BSkND2BAWpeAAAA\n",
       "ZkGaHEnhClJlMCGf/p4QAOzQ+ZzeoAPwHtHig7sSzExXf3txthoBjPcjRfwzRl1zBrL/e0D426TB\n",
       "PP2pxUeskjc4iaaii5e5g5gxGHCCxlAhDmE70gn2OdSRy54iLWW/qNoKGtmJnQAAAEdBmj1J4Q6J\n",
       "lMCFf/44QAOdoMIoAVH10htfz+DTJXQpb3hO4MPvdZeY7wuv285AIpstz+bEKdICBCxVvJ7ju1Up\n",
       "onc9Qhs5VQAABGltb292AAAAbG12aGQAAAAAAAAAAAAAAAAAAAPoAAAF3AABAAABAAAAAAAAAAAA\n",
       "AAAAAQAAAAAAAAAAAAAAAAAAAAEAAAAAAAAAAAAAAAAAAEAAAAAAAAAAAAAAAAAAAAAAAAAAAAAA\n",
       "AAAAAAAAAAACAAADk3RyYWsAAABcdGtoZAAAAAMAAAAAAAAAAAAAAAEAAAAAAAAF3AAAAAAAAAAA\n",
       "AAAAAAAAAAAAAQAAAAAAAAAAAAAAAAAAAAEAAAAAAAAAAAAAAAAAAEAAAAABIAAAASAAAAAAACRl\n",
       "ZHRzAAAAHGVsc3QAAAAAAAAAAQAABdwAAAQAAAEAAAAAAwttZGlhAAAAIG1kaGQAAAAAAAAAAAAA\n",
       "AAAAACgAAAA8AFXEAAAAAAAtaGRscgAAAAAAAAAAdmlkZQAAAAAAAAAAAAAAAFZpZGVvSGFuZGxl\n",
       "cgAAAAK2bWluZgAAABR2bWhkAAAAAQAAAAAAAAAAAAAAJGRpbmYAAAAcZHJlZgAAAAAAAAABAAAA\n",
       "DHVybCAAAAABAAACdnN0YmwAAACWc3RzZAAAAAAAAAABAAAAhmF2YzEAAAAAAAAAAQAAAAAAAAAA\n",
       "AAAAAAAAAAABIAEgAEgAAABIAAAAAAAAAAEAAAAAAAAAAAAAAAAAAAAAAAAAAAAAAAAAAAAAAAAA\n",
       "AAAY//8AAAAwYXZjQwH0AA3/4QAXZ/QADZGbKCQS0IAAAAMAgAAAFAeKFMsBAAZo6+PESEQAAAAY\n",
       "c3R0cwAAAAAAAAABAAAAHgAAAgAAAAAUc3RzcwAAAAAAAAABAAAAAQAAAPBjdHRzAAAAAAAAABwA\n",
       "AAABAAAEAAAAAAEAAAoAAAAAAQAABAAAAAABAAAAAAAAAAEAAAIAAAAAAQAACgAAAAABAAAEAAAA\n",
       "AAEAAAAAAAAAAQAAAgAAAAABAAAKAAAAAAEAAAQAAAAAAQAAAAAAAAABAAACAAAAAAEAAAoAAAAA\n",
       "AQAABAAAAAABAAAAAAAAAAEAAAIAAAAAAQAABAAAAAABAAAKAAAAAAEAAAQAAAAAAQAAAAAAAAAB\n",
       "AAACAAAAAAEAAAQAAAAAAQAACgAAAAABAAAEAAAAAAEAAAAAAAAAAQAAAgAAAAADAAAEAAAAABxz\n",
       "dHNjAAAAAAAAAAEAAAABAAAAHgAAAAEAAACMc3RzegAAAAAAAAAAAAAAHgAAE+AAAAIjAAAA/AAA\n",
       "ANIAAACtAAABAAAAAN8AAADXAAAAeQAAAJYAAADhAAAAiAAAAJcAAADdAAAAtgAAAHwAAABUAAAA\n",
       "aQAAAKcAAAB6AAAAVAAAAE4AAACDAAAAnAAAAFoAAABRAAAAPAAAAF0AAABqAAAASwAAABRzdGNv\n",
       "AAAAAAAAAAEAAAAwAAAAYnVkdGEAAABabWV0YQAAAAAAAAAhaGRscgAAAAAAAAAAbWRpcmFwcGwA\n",
       "AAAAAAAAAAAAAAAtaWxzdAAAACWpdG9vAAAAHWRhdGEAAAABAAAAAExhdmY1Ni40MC4xMDE=\n",
       "\" type=\"video/mp4\">\n",
       " Your browser does not support the video tag.\n",
       "</video>"
      ],
      "text/plain": [
       "<matplotlib.animation.FuncAnimation at 0x112568610>"
      ]
     },
     "execution_count": 95,
     "metadata": {},
     "output_type": "execute_result"
    }
   ],
   "source": [
    "fig, ax = plt.subplots(figsize=(4,4)); ax.axis('equal'); ax.grid('on');\n",
    "\n",
    "line, = ax.plot([], [], 'b', lw=2);\n",
    "\n",
    "plt.close(fig)\n",
    "\n",
    "# call the animator\n",
    "animation.FuncAnimation(fig, animate, init_func=init, repeat=True,\n",
    "                        frames=np.arange(0.,t_[-1],.1), interval=20, blit=True)"
   ]
  },
  {
   "cell_type": "code",
   "execution_count": null,
   "metadata": {
    "collapsed": true
   },
   "outputs": [],
   "source": []
  }
 ],
 "metadata": {
  "kernelspec": {
   "display_name": "Python 3",
   "language": "python",
   "name": "python3"
  },
  "language_info": {
   "codemirror_mode": {
    "name": "ipython",
    "version": 3
   },
   "file_extension": ".py",
   "mimetype": "text/x-python",
   "name": "python",
   "nbconvert_exporter": "python",
   "pygments_lexer": "ipython3",
   "version": "3.7.0"
  }
 },
 "nbformat": 4,
 "nbformat_minor": 2
}
